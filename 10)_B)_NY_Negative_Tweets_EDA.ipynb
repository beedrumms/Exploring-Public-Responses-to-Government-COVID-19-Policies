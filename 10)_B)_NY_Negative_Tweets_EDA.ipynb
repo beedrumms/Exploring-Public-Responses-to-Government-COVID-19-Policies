{
  "nbformat": 4,
  "nbformat_minor": 0,
  "metadata": {
    "colab": {
      "name": "10) B) NY_Negative_Tweets_EDA.ipynb",
      "provenance": [],
      "collapsed_sections": [],
      "authorship_tag": "ABX9TyNHQ+XYVKlKoBztwaQi7I6t",
      "include_colab_link": true
    },
    "kernelspec": {
      "name": "python3",
      "display_name": "Python 3"
    },
    "language_info": {
      "name": "python"
    }
  },
  "cells": [
    {
      "cell_type": "markdown",
      "metadata": {
        "id": "view-in-github",
        "colab_type": "text"
      },
      "source": [
        "<a href=\"https://colab.research.google.com/github/beedrumms/Exploring-Public-Responses-to-Government-COVID-19-Policies/blob/main/10)_B)_NY_Negative_Tweets_EDA.ipynb\" target=\"_parent\"><img src=\"https://colab.research.google.com/assets/colab-badge.svg\" alt=\"Open In Colab\"/></a>"
      ]
    },
    {
      "cell_type": "code",
      "metadata": {
        "colab": {
          "base_uri": "https://localhost:8080/"
        },
        "id": "8wdTHoFWUXsG",
        "outputId": "d67a55d3-fc71-4dcf-887a-89c6bf60e658"
      },
      "source": [
        "# import packages \n",
        "import re \n",
        "import string\n",
        "import pandas as pd\n",
        "import numpy as np\n",
        "\n",
        "from wordcloud import WordCloud\n",
        "import matplotlib.pyplot as plt\n",
        "from datetime import datetime\n",
        " \n",
        "import sklearn \n",
        "from sklearn.decomposition import LatentDirichletAllocation\n",
        "from sklearn.feature_extraction.text import CountVectorizer, TfidfVectorizer\n",
        "from pprint import pprint\n",
        "\n",
        "from plotly.offline import plot\n",
        "import plotly.graph_objects as go\n",
        "import plotly.express as px\n",
        "\n",
        "# Mounting google colab on drive \n",
        "from google.colab import drive, files\n",
        "import os\n",
        "drive.mount(\"/content/drive\")"
      ],
      "execution_count": 2,
      "outputs": [
        {
          "output_type": "stream",
          "name": "stdout",
          "text": [
            "Drive already mounted at /content/drive; to attempt to forcibly remount, call drive.mount(\"/content/drive\", force_remount=True).\n"
          ]
        }
      ]
    },
    {
      "cell_type": "code",
      "metadata": {
        "id": "DTHMzlu8U8Ue",
        "colab": {
          "base_uri": "https://localhost:8080/",
          "height": 422
        },
        "outputId": "55451cae-09cd-4f1f-da7c-74e5baadc152"
      },
      "source": [
        "# Upload negative tweets\n",
        "data = pd.read_csv('/content/drive/MyDrive/Colab Notebooks/NEWYORK_NEG_COVID19_TWEETS_TOPICS.csv')\n",
        "tweets_df = data.iloc[:, 1:]\n",
        "tweets_df"
      ],
      "execution_count": 3,
      "outputs": [
        {
          "output_type": "execute_result",
          "data": {
            "text/html": [
              "<div>\n",
              "<style scoped>\n",
              "    .dataframe tbody tr th:only-of-type {\n",
              "        vertical-align: middle;\n",
              "    }\n",
              "\n",
              "    .dataframe tbody tr th {\n",
              "        vertical-align: top;\n",
              "    }\n",
              "\n",
              "    .dataframe thead th {\n",
              "        text-align: right;\n",
              "    }\n",
              "</style>\n",
              "<table border=\"1\" class=\"dataframe\">\n",
              "  <thead>\n",
              "    <tr style=\"text-align: right;\">\n",
              "      <th></th>\n",
              "      <th>Datetime</th>\n",
              "      <th>Text</th>\n",
              "      <th>Text_Unprocessed</th>\n",
              "      <th>Sentiment_Score</th>\n",
              "      <th>Sentiment_Score_Norm</th>\n",
              "      <th>Sentiment</th>\n",
              "      <th>Topic</th>\n",
              "      <th>Topic_Neg3</th>\n",
              "      <th>Topic_Neg</th>\n",
              "    </tr>\n",
              "  </thead>\n",
              "  <tbody>\n",
              "    <tr>\n",
              "      <th>0</th>\n",
              "      <td>2021-05-30</td>\n",
              "      <td>pandemic democrats republicans refuse work gra...</td>\n",
              "      <td>during the pandemic democrats and republica...</td>\n",
              "      <td>-0.9118</td>\n",
              "      <td>4.410</td>\n",
              "      <td>negative</td>\n",
              "      <td>0</td>\n",
              "      <td>1</td>\n",
              "      <td>5</td>\n",
              "    </tr>\n",
              "    <tr>\n",
              "      <th>1</th>\n",
              "      <td>2021-05-30</td>\n",
              "      <td>stand congress location discrimination policy ...</td>\n",
              "      <td>stand up to the congress location di...</td>\n",
              "      <td>-0.6369</td>\n",
              "      <td>18.155</td>\n",
              "      <td>negative</td>\n",
              "      <td>0</td>\n",
              "      <td>1</td>\n",
              "      <td>5</td>\n",
              "    </tr>\n",
              "    <tr>\n",
              "      <th>2</th>\n",
              "      <td>2021-05-30</td>\n",
              "      <td>pay tribute give defense country battle field ...</td>\n",
              "      <td>this is about paying tribute to those who ga...</td>\n",
              "      <td>-0.6170</td>\n",
              "      <td>19.150</td>\n",
              "      <td>negative</td>\n",
              "      <td>2</td>\n",
              "      <td>1</td>\n",
              "      <td>1</td>\n",
              "    </tr>\n",
              "    <tr>\n",
              "      <th>3</th>\n",
              "      <td>2021-05-30</td>\n",
              "      <td>intervene stop greg abbott take away covid une...</td>\n",
              "      <td>please intervene and stop greg abbott fro...</td>\n",
              "      <td>-0.2244</td>\n",
              "      <td>38.780</td>\n",
              "      <td>negative</td>\n",
              "      <td>0</td>\n",
              "      <td>2</td>\n",
              "      <td>5</td>\n",
              "    </tr>\n",
              "    <tr>\n",
              "      <th>4</th>\n",
              "      <td>2021-05-30</td>\n",
              "      <td>crime covid rate crime subject child violence ...</td>\n",
              "      <td>what about crime covid rates may be down bu...</td>\n",
              "      <td>-0.9628</td>\n",
              "      <td>1.860</td>\n",
              "      <td>negative</td>\n",
              "      <td>3</td>\n",
              "      <td>2</td>\n",
              "      <td>2</td>\n",
              "    </tr>\n",
              "    <tr>\n",
              "      <th>...</th>\n",
              "      <td>...</td>\n",
              "      <td>...</td>\n",
              "      <td>...</td>\n",
              "      <td>...</td>\n",
              "      <td>...</td>\n",
              "      <td>...</td>\n",
              "      <td>...</td>\n",
              "      <td>...</td>\n",
              "      <td>...</td>\n",
              "    </tr>\n",
              "    <tr>\n",
              "      <th>289348</th>\n",
              "      <td>2020-04-14</td>\n",
              "      <td>sorry listen briefing trump rally need coronav...</td>\n",
              "      <td>sorry i never listen to his briefing i have n...</td>\n",
              "      <td>-0.4717</td>\n",
              "      <td>26.415</td>\n",
              "      <td>negative</td>\n",
              "      <td>3</td>\n",
              "      <td>1</td>\n",
              "      <td>1</td>\n",
              "    </tr>\n",
              "    <tr>\n",
              "      <th>289349</th>\n",
              "      <td>2020-04-14</td>\n",
              "      <td>mean they re probably go federal money catalog...</td>\n",
              "      <td>it means theyre probably going to get federa...</td>\n",
              "      <td>-0.5574</td>\n",
              "      <td>22.130</td>\n",
              "      <td>negative</td>\n",
              "      <td>1</td>\n",
              "      <td>1</td>\n",
              "      <td>1</td>\n",
              "    </tr>\n",
              "    <tr>\n",
              "      <th>289350</th>\n",
              "      <td>2020-04-14</td>\n",
              "      <td>trump halt fund world health organization fail...</td>\n",
              "      <td>so if trump can halt funding to world health o...</td>\n",
              "      <td>-0.6705</td>\n",
              "      <td>16.475</td>\n",
              "      <td>negative</td>\n",
              "      <td>0</td>\n",
              "      <td>1</td>\n",
              "      <td>5</td>\n",
              "    </tr>\n",
              "    <tr>\n",
              "      <th>289351</th>\n",
              "      <td>2020-04-14</td>\n",
              "      <td>ought plan daily joint news conference feature...</td>\n",
              "      <td>you and  ought to plan a daily joint news con...</td>\n",
              "      <td>-0.4215</td>\n",
              "      <td>28.925</td>\n",
              "      <td>negative</td>\n",
              "      <td>0</td>\n",
              "      <td>1</td>\n",
              "      <td>4</td>\n",
              "    </tr>\n",
              "    <tr>\n",
              "      <th>289352</th>\n",
              "      <td>2020-04-14</td>\n",
              "      <td>decide want death toll higher add death patien...</td>\n",
              "      <td>decided he wanted his death toll to be higher...</td>\n",
              "      <td>-0.9039</td>\n",
              "      <td>4.805</td>\n",
              "      <td>negative</td>\n",
              "      <td>1</td>\n",
              "      <td>0</td>\n",
              "      <td>3</td>\n",
              "    </tr>\n",
              "  </tbody>\n",
              "</table>\n",
              "<p>289353 rows × 9 columns</p>\n",
              "</div>"
            ],
            "text/plain": [
              "          Datetime  ... Topic_Neg\n",
              "0       2021-05-30  ...         5\n",
              "1       2021-05-30  ...         5\n",
              "2       2021-05-30  ...         1\n",
              "3       2021-05-30  ...         5\n",
              "4       2021-05-30  ...         2\n",
              "...            ...  ...       ...\n",
              "289348  2020-04-14  ...         1\n",
              "289349  2020-04-14  ...         1\n",
              "289350  2020-04-14  ...         5\n",
              "289351  2020-04-14  ...         4\n",
              "289352  2020-04-14  ...         3\n",
              "\n",
              "[289353 rows x 9 columns]"
            ]
          },
          "metadata": {},
          "execution_count": 3
        }
      ]
    },
    {
      "cell_type": "code",
      "metadata": {
        "id": "01KBEBRtXiSG",
        "colab": {
          "base_uri": "https://localhost:8080/"
        },
        "outputId": "94f6d53e-f0ff-4b08-d808-af5117785b09"
      },
      "source": [
        "tweets_df['Topic_Neg'] = tweets_df['Topic_Neg'].astype(str)\n",
        "\n",
        "# Cutting up the dataset into Topics\n",
        "filter1_topics = tweets_df['Topic_Neg'] == '0'\n",
        "Topic_1 = tweets_df[filter1_topics]\n",
        "\n",
        "\n",
        "filter2_topics = tweets_df['Topic_Neg'] == '1'\n",
        "Topic_2 = tweets_df[filter2_topics]\n",
        "\n",
        "filter3_topics = tweets_df['Topic_Neg'] == '2'\n",
        "Topic_3 = tweets_df[filter3_topics]\n",
        "\n",
        "filter4_topics = tweets_df['Topic_Neg'] == '3'\n",
        "Topic_4 = tweets_df[filter4_topics]\n",
        "\n",
        "filter5_topics = tweets_df['Topic_Neg'] == '4'\n",
        "Topic_5 = tweets_df[filter5_topics]\n",
        "\n",
        "filter6_topics = tweets_df['Topic_Neg'] == '5'\n",
        "Topic_6 = tweets_df[filter6_topics]\n",
        "\n",
        "group = tweets_df['Sentiment_Score'].groupby(tweets_df['Datetime'])\n",
        "neg_sent_means = group.mean()\n",
        "print(\"New York's overall sentiment average over year:\", neg_sent_means.mean())\n",
        "\n",
        "# Getting daily sentiments for topics \n",
        "ngroup_topic1 = Topic_1['Sentiment_Score'].groupby(Topic_1['Datetime'])\n",
        "nsent_avgs_topic1 = ngroup_topic1.mean()\n",
        "print(\"New York's Negative Topic 1 average sentiment:\",nsent_avgs_topic1.mean())\n",
        "\n",
        "ngroup_topic2 = Topic_2['Sentiment_Score'].groupby(Topic_2['Datetime'])\n",
        "nsent_avgs_topic2 = ngroup_topic2.mean()\n",
        "print(\"New York's Negative Topic 2 average sentiment:\",nsent_avgs_topic2.mean())\n",
        "\n",
        "ngroup_topic3 = Topic_3['Sentiment_Score'].groupby(Topic_3['Datetime'])\n",
        "nsent_avgs_topic3 = ngroup_topic3.mean()\n",
        "print(\"New York's Negative Topic 3 average sentiment:\",nsent_avgs_topic3.mean())\n",
        "\n",
        "ngroup_topic4 = Topic_4['Sentiment_Score'].groupby(Topic_4['Datetime'])\n",
        "nsent_avgs_topic4 = ngroup_topic4.mean()\n",
        "print(\"New York's Negative Topic 4 average sentiment:\",nsent_avgs_topic4.mean())\n",
        "\n",
        "ngroup_topic5 = Topic_5['Sentiment_Score'].groupby(Topic_5['Datetime'])\n",
        "nsent_avgs_topic5 = ngroup_topic5.mean()\n",
        "print(\"New York's Negative Topic 5 average sentiment:\",nsent_avgs_topic5.mean())\n",
        "\n",
        "ngroup_topic6 = Topic_6['Sentiment_Score'].groupby(Topic_6['Datetime'])\n",
        "nsent_avgs_topic6 = ngroup_topic6.mean()\n",
        "print(\"New York's Negative Topic 6 average sentiment:\",nsent_avgs_topic6.mean())"
      ],
      "execution_count": 4,
      "outputs": [
        {
          "output_type": "stream",
          "name": "stdout",
          "text": [
            "New York's overall sentiment average over year: -0.5744518825063201\n",
            "New York's Negative Topic 1 average sentiment: -0.5350663699742801\n",
            "New York's Negative Topic 2 average sentiment: -0.6225627216681751\n",
            "New York's Negative Topic 3 average sentiment: -0.5475344727186077\n",
            "New York's Negative Topic 4 average sentiment: -0.623186894879992\n",
            "New York's Negative Topic 5 average sentiment: -0.563112575266456\n",
            "New York's Negative Topic 6 average sentiment: -0.5510687920012455\n"
          ]
        }
      ]
    },
    {
      "cell_type": "code",
      "metadata": {
        "colab": {
          "base_uri": "https://localhost:8080/",
          "height": 542
        },
        "id": "wDRVpq9QaR5k",
        "outputId": "c26ae246-2d33-4e02-81ae-ee0ccb7130d3"
      },
      "source": [
        "def get_top_n_trigram(corpus, n=None):\n",
        "    vec = CountVectorizer(ngram_range=(3, 3), stop_words='english').fit(corpus)\n",
        "    bag_of_words = vec.transform(corpus)\n",
        "    sum_words = bag_of_words.sum(axis=0) \n",
        "    words_freq = [(word, sum_words[0, idx]) for word, idx in vec.vocabulary_.items()]\n",
        "    words_freq =sorted(words_freq, key = lambda x: x[1], reverse=True)\n",
        "    return words_freq[:n]\n",
        "\n",
        "topic_neg_list = tweets_df['Text'].tolist()\n",
        "common_words = get_top_n_trigram(topic_neg_list, 15)\n",
        "\n",
        "df_topic2 = pd.DataFrame(common_words, columns = ['trigram' , 'count'])\n",
        "\n",
        "fig = go.Figure([go.Bar(x=df_topic2['trigram'], y=df_topic2['count'])])\n",
        "fig.update_layout(title=go.layout.Title(text=\"New York - Top 15 Trigrams for All Negative Topics\"))\n",
        "fig.show()"
      ],
      "execution_count": 5,
      "outputs": [
        {
          "output_type": "display_data",
          "data": {
            "text/html": [
              "<html>\n",
              "<head><meta charset=\"utf-8\" /></head>\n",
              "<body>\n",
              "    <div>\n",
              "            <script src=\"https://cdnjs.cloudflare.com/ajax/libs/mathjax/2.7.5/MathJax.js?config=TeX-AMS-MML_SVG\"></script><script type=\"text/javascript\">if (window.MathJax) {MathJax.Hub.Config({SVG: {font: \"STIX-Web\"}});}</script>\n",
              "                <script type=\"text/javascript\">window.PlotlyConfig = {MathJaxConfig: 'local'};</script>\n",
              "        <script src=\"https://cdn.plot.ly/plotly-latest.min.js\"></script>    \n",
              "            <div id=\"31456664-2d60-480c-9855-d6105235191c\" class=\"plotly-graph-div\" style=\"height:525px; width:100%;\"></div>\n",
              "            <script type=\"text/javascript\">\n",
              "                \n",
              "                    window.PLOTLYENV=window.PLOTLYENV || {};\n",
              "                    \n",
              "                if (document.getElementById(\"31456664-2d60-480c-9855-d6105235191c\")) {\n",
              "                    Plotly.newPlot(\n",
              "                        '31456664-2d60-480c-9855-d6105235191c',\n",
              "                        [{\"type\": \"bar\", \"x\": [\"patient nursing home\", \"covid patient nursing\", \"patient nurse home\", \"send covid patient\", \"nursing home covid\", \"covid nursing home\", \"covid patient nurse\", \"force nursing home\", \"covid positive patient\", \"people nursing home\", \"nursing home kill\", \"nursing home death\", \"home covid patient\", \"people die covid\", \"force covid patient\", \"new york city\", \"elderly nursing home\", \"home kill thousand\", \"positive patient nurse\", \"new york state\", \"nurse home kill\", \"nursing home resident\", \"send covid positive\", \"send nursing home\", \"nursing home patient\"], \"y\": [8759, 6846, 4166, 3620, 3232, 2820, 2593, 2293, 2180, 1964, 1938, 1689, 1490, 1419, 1134, 1099, 1051, 1032, 1026, 1009, 944, 942, 941, 910, 889]}],\n",
              "                        {\"template\": {\"data\": {\"bar\": [{\"error_x\": {\"color\": \"#2a3f5f\"}, \"error_y\": {\"color\": \"#2a3f5f\"}, \"marker\": {\"line\": {\"color\": \"#E5ECF6\", \"width\": 0.5}}, \"type\": \"bar\"}], \"barpolar\": [{\"marker\": {\"line\": {\"color\": \"#E5ECF6\", \"width\": 0.5}}, \"type\": \"barpolar\"}], \"carpet\": [{\"aaxis\": {\"endlinecolor\": \"#2a3f5f\", \"gridcolor\": \"white\", \"linecolor\": \"white\", \"minorgridcolor\": \"white\", \"startlinecolor\": \"#2a3f5f\"}, \"baxis\": {\"endlinecolor\": \"#2a3f5f\", \"gridcolor\": \"white\", \"linecolor\": \"white\", \"minorgridcolor\": \"white\", \"startlinecolor\": \"#2a3f5f\"}, \"type\": \"carpet\"}], \"choropleth\": [{\"colorbar\": {\"outlinewidth\": 0, \"ticks\": \"\"}, \"type\": \"choropleth\"}], \"contour\": [{\"colorbar\": {\"outlinewidth\": 0, \"ticks\": \"\"}, \"colorscale\": [[0.0, \"#0d0887\"], [0.1111111111111111, \"#46039f\"], [0.2222222222222222, \"#7201a8\"], [0.3333333333333333, \"#9c179e\"], [0.4444444444444444, \"#bd3786\"], [0.5555555555555556, \"#d8576b\"], [0.6666666666666666, \"#ed7953\"], [0.7777777777777778, \"#fb9f3a\"], [0.8888888888888888, \"#fdca26\"], [1.0, \"#f0f921\"]], \"type\": \"contour\"}], \"contourcarpet\": [{\"colorbar\": {\"outlinewidth\": 0, \"ticks\": \"\"}, \"type\": \"contourcarpet\"}], \"heatmap\": [{\"colorbar\": {\"outlinewidth\": 0, \"ticks\": \"\"}, \"colorscale\": [[0.0, \"#0d0887\"], [0.1111111111111111, \"#46039f\"], [0.2222222222222222, \"#7201a8\"], [0.3333333333333333, \"#9c179e\"], [0.4444444444444444, \"#bd3786\"], [0.5555555555555556, \"#d8576b\"], [0.6666666666666666, \"#ed7953\"], [0.7777777777777778, \"#fb9f3a\"], [0.8888888888888888, \"#fdca26\"], [1.0, \"#f0f921\"]], \"type\": \"heatmap\"}], \"heatmapgl\": [{\"colorbar\": {\"outlinewidth\": 0, \"ticks\": \"\"}, \"colorscale\": [[0.0, \"#0d0887\"], [0.1111111111111111, \"#46039f\"], [0.2222222222222222, \"#7201a8\"], [0.3333333333333333, \"#9c179e\"], [0.4444444444444444, \"#bd3786\"], [0.5555555555555556, \"#d8576b\"], [0.6666666666666666, \"#ed7953\"], [0.7777777777777778, \"#fb9f3a\"], [0.8888888888888888, \"#fdca26\"], [1.0, \"#f0f921\"]], \"type\": \"heatmapgl\"}], \"histogram\": [{\"marker\": {\"colorbar\": {\"outlinewidth\": 0, \"ticks\": \"\"}}, \"type\": \"histogram\"}], \"histogram2d\": [{\"colorbar\": {\"outlinewidth\": 0, \"ticks\": \"\"}, \"colorscale\": [[0.0, \"#0d0887\"], [0.1111111111111111, \"#46039f\"], [0.2222222222222222, \"#7201a8\"], [0.3333333333333333, \"#9c179e\"], [0.4444444444444444, \"#bd3786\"], [0.5555555555555556, \"#d8576b\"], [0.6666666666666666, \"#ed7953\"], [0.7777777777777778, \"#fb9f3a\"], [0.8888888888888888, \"#fdca26\"], [1.0, \"#f0f921\"]], \"type\": \"histogram2d\"}], \"histogram2dcontour\": [{\"colorbar\": {\"outlinewidth\": 0, \"ticks\": \"\"}, \"colorscale\": [[0.0, \"#0d0887\"], [0.1111111111111111, \"#46039f\"], [0.2222222222222222, \"#7201a8\"], [0.3333333333333333, \"#9c179e\"], [0.4444444444444444, \"#bd3786\"], [0.5555555555555556, \"#d8576b\"], [0.6666666666666666, \"#ed7953\"], [0.7777777777777778, \"#fb9f3a\"], [0.8888888888888888, \"#fdca26\"], [1.0, \"#f0f921\"]], \"type\": \"histogram2dcontour\"}], \"mesh3d\": [{\"colorbar\": {\"outlinewidth\": 0, \"ticks\": \"\"}, \"type\": \"mesh3d\"}], \"parcoords\": [{\"line\": {\"colorbar\": {\"outlinewidth\": 0, \"ticks\": \"\"}}, \"type\": \"parcoords\"}], \"pie\": [{\"automargin\": true, \"type\": \"pie\"}], \"scatter\": [{\"marker\": {\"colorbar\": {\"outlinewidth\": 0, \"ticks\": \"\"}}, \"type\": \"scatter\"}], \"scatter3d\": [{\"line\": {\"colorbar\": {\"outlinewidth\": 0, \"ticks\": \"\"}}, \"marker\": {\"colorbar\": {\"outlinewidth\": 0, \"ticks\": \"\"}}, \"type\": \"scatter3d\"}], \"scattercarpet\": [{\"marker\": {\"colorbar\": {\"outlinewidth\": 0, \"ticks\": \"\"}}, \"type\": \"scattercarpet\"}], \"scattergeo\": [{\"marker\": {\"colorbar\": {\"outlinewidth\": 0, \"ticks\": \"\"}}, \"type\": \"scattergeo\"}], \"scattergl\": [{\"marker\": {\"colorbar\": {\"outlinewidth\": 0, \"ticks\": \"\"}}, \"type\": \"scattergl\"}], \"scattermapbox\": [{\"marker\": {\"colorbar\": {\"outlinewidth\": 0, \"ticks\": \"\"}}, \"type\": \"scattermapbox\"}], \"scatterpolar\": [{\"marker\": {\"colorbar\": {\"outlinewidth\": 0, \"ticks\": \"\"}}, \"type\": \"scatterpolar\"}], \"scatterpolargl\": [{\"marker\": {\"colorbar\": {\"outlinewidth\": 0, \"ticks\": \"\"}}, \"type\": \"scatterpolargl\"}], \"scatterternary\": [{\"marker\": {\"colorbar\": {\"outlinewidth\": 0, \"ticks\": \"\"}}, \"type\": \"scatterternary\"}], \"surface\": [{\"colorbar\": {\"outlinewidth\": 0, \"ticks\": \"\"}, \"colorscale\": [[0.0, \"#0d0887\"], [0.1111111111111111, \"#46039f\"], [0.2222222222222222, \"#7201a8\"], [0.3333333333333333, \"#9c179e\"], [0.4444444444444444, \"#bd3786\"], [0.5555555555555556, \"#d8576b\"], [0.6666666666666666, \"#ed7953\"], [0.7777777777777778, \"#fb9f3a\"], [0.8888888888888888, \"#fdca26\"], [1.0, \"#f0f921\"]], \"type\": \"surface\"}], \"table\": [{\"cells\": {\"fill\": {\"color\": \"#EBF0F8\"}, \"line\": {\"color\": \"white\"}}, \"header\": {\"fill\": {\"color\": \"#C8D4E3\"}, \"line\": {\"color\": \"white\"}}, \"type\": \"table\"}]}, \"layout\": {\"annotationdefaults\": {\"arrowcolor\": \"#2a3f5f\", \"arrowhead\": 0, \"arrowwidth\": 1}, \"coloraxis\": {\"colorbar\": {\"outlinewidth\": 0, \"ticks\": \"\"}}, \"colorscale\": {\"diverging\": [[0, \"#8e0152\"], [0.1, \"#c51b7d\"], [0.2, \"#de77ae\"], [0.3, \"#f1b6da\"], [0.4, \"#fde0ef\"], [0.5, \"#f7f7f7\"], [0.6, \"#e6f5d0\"], [0.7, \"#b8e186\"], [0.8, \"#7fbc41\"], [0.9, \"#4d9221\"], [1, \"#276419\"]], \"sequential\": [[0.0, \"#0d0887\"], [0.1111111111111111, \"#46039f\"], [0.2222222222222222, \"#7201a8\"], [0.3333333333333333, \"#9c179e\"], [0.4444444444444444, \"#bd3786\"], [0.5555555555555556, \"#d8576b\"], [0.6666666666666666, \"#ed7953\"], [0.7777777777777778, \"#fb9f3a\"], [0.8888888888888888, \"#fdca26\"], [1.0, \"#f0f921\"]], \"sequentialminus\": [[0.0, \"#0d0887\"], [0.1111111111111111, \"#46039f\"], [0.2222222222222222, \"#7201a8\"], [0.3333333333333333, \"#9c179e\"], [0.4444444444444444, \"#bd3786\"], [0.5555555555555556, \"#d8576b\"], [0.6666666666666666, \"#ed7953\"], [0.7777777777777778, \"#fb9f3a\"], [0.8888888888888888, \"#fdca26\"], [1.0, \"#f0f921\"]]}, \"colorway\": [\"#636efa\", \"#EF553B\", \"#00cc96\", \"#ab63fa\", \"#FFA15A\", \"#19d3f3\", \"#FF6692\", \"#B6E880\", \"#FF97FF\", \"#FECB52\"], \"font\": {\"color\": \"#2a3f5f\"}, \"geo\": {\"bgcolor\": \"white\", \"lakecolor\": \"white\", \"landcolor\": \"#E5ECF6\", \"showlakes\": true, \"showland\": true, \"subunitcolor\": \"white\"}, \"hoverlabel\": {\"align\": \"left\"}, \"hovermode\": \"closest\", \"mapbox\": {\"style\": \"light\"}, \"paper_bgcolor\": \"white\", \"plot_bgcolor\": \"#E5ECF6\", \"polar\": {\"angularaxis\": {\"gridcolor\": \"white\", \"linecolor\": \"white\", \"ticks\": \"\"}, \"bgcolor\": \"#E5ECF6\", \"radialaxis\": {\"gridcolor\": \"white\", \"linecolor\": \"white\", \"ticks\": \"\"}}, \"scene\": {\"xaxis\": {\"backgroundcolor\": \"#E5ECF6\", \"gridcolor\": \"white\", \"gridwidth\": 2, \"linecolor\": \"white\", \"showbackground\": true, \"ticks\": \"\", \"zerolinecolor\": \"white\"}, \"yaxis\": {\"backgroundcolor\": \"#E5ECF6\", \"gridcolor\": \"white\", \"gridwidth\": 2, \"linecolor\": \"white\", \"showbackground\": true, \"ticks\": \"\", \"zerolinecolor\": \"white\"}, \"zaxis\": {\"backgroundcolor\": \"#E5ECF6\", \"gridcolor\": \"white\", \"gridwidth\": 2, \"linecolor\": \"white\", \"showbackground\": true, \"ticks\": \"\", \"zerolinecolor\": \"white\"}}, \"shapedefaults\": {\"line\": {\"color\": \"#2a3f5f\"}}, \"ternary\": {\"aaxis\": {\"gridcolor\": \"white\", \"linecolor\": \"white\", \"ticks\": \"\"}, \"baxis\": {\"gridcolor\": \"white\", \"linecolor\": \"white\", \"ticks\": \"\"}, \"bgcolor\": \"#E5ECF6\", \"caxis\": {\"gridcolor\": \"white\", \"linecolor\": \"white\", \"ticks\": \"\"}}, \"title\": {\"x\": 0.05}, \"xaxis\": {\"automargin\": true, \"gridcolor\": \"white\", \"linecolor\": \"white\", \"ticks\": \"\", \"title\": {\"standoff\": 15}, \"zerolinecolor\": \"white\", \"zerolinewidth\": 2}, \"yaxis\": {\"automargin\": true, \"gridcolor\": \"white\", \"linecolor\": \"white\", \"ticks\": \"\", \"title\": {\"standoff\": 15}, \"zerolinecolor\": \"white\", \"zerolinewidth\": 2}}}, \"title\": {\"text\": \"New York's Top 25 Trigrams for Negative Topics - Overall\"}},\n",
              "                        {\"responsive\": true}\n",
              "                    ).then(function(){\n",
              "                            \n",
              "var gd = document.getElementById('31456664-2d60-480c-9855-d6105235191c');\n",
              "var x = new MutationObserver(function (mutations, observer) {{\n",
              "        var display = window.getComputedStyle(gd).display;\n",
              "        if (!display || display === 'none') {{\n",
              "            console.log([gd, 'removed!']);\n",
              "            Plotly.purge(gd);\n",
              "            observer.disconnect();\n",
              "        }}\n",
              "}});\n",
              "\n",
              "// Listen for the removal of the full notebook cells\n",
              "var notebookContainer = gd.closest('#notebook-container');\n",
              "if (notebookContainer) {{\n",
              "    x.observe(notebookContainer, {childList: true});\n",
              "}}\n",
              "\n",
              "// Listen for the clearing of the current output cell\n",
              "var outputEl = gd.closest('.output');\n",
              "if (outputEl) {{\n",
              "    x.observe(outputEl, {childList: true});\n",
              "}}\n",
              "\n",
              "                        })\n",
              "                };\n",
              "                \n",
              "            </script>\n",
              "        </div>\n",
              "</body>\n",
              "</html>"
            ]
          },
          "metadata": {}
        }
      ]
    },
    {
      "cell_type": "code",
      "metadata": {
        "colab": {
          "base_uri": "https://localhost:8080/"
        },
        "id": "4HxWoyQjQqr1",
        "outputId": "cb8eacc1-7e6f-4568-e783-d6d62b197557"
      },
      "source": [
        "for t in tweets_df['Text'][:100]:\n",
        "  if 'nursing' in t:\n",
        "    print(t)"
      ],
      "execution_count": null,
      "outputs": [
        {
          "output_type": "stream",
          "text": [
            "pass away hospital instead nurse home attempt hide patient contract virus nursing homebut lie pass away witch hunt good job\n",
            "suppose believe delibertly lie nursing home death pandemic you ve lose credibility\n",
            "day year pick recognize lose life covid maybe day decide infect nursing home fitting day\n",
            "public domain allegation number update ) sexual assaultharassment accuser ) thousand die covid nursing home death camp ) $ mm+ book deal staff + cook covid stat\n"
          ],
          "name": "stdout"
        }
      ]
    },
    {
      "cell_type": "code",
      "metadata": {
        "colab": {
          "base_uri": "https://localhost:8080/"
        },
        "id": "DHd1GtoQQ5xF",
        "outputId": "20a874f0-8b12-4d68-e0d3-73d073136d38"
      },
      "source": [
        "for t in tweets_df['Text'][:100]:\n",
        "  if 'patient' in t:\n",
        "    print(t)"
      ],
      "execution_count": null,
      "outputs": [
        {
          "output_type": "stream",
          "text": [
            "mean colombian comunist politician create chaos hire terrorist destroy city attack police officer roadblock prevent people have food basic supply live medical supply covid patient kill innocent peopleright\n",
            "pass away hospital instead nurse home attempt hide patient contract virus nursing homebut lie pass away witch hunt good job\n",
            "look fact force covid patient vulnerable community\n"
          ],
          "name": "stdout"
        }
      ]
    },
    {
      "cell_type": "code",
      "metadata": {
        "colab": {
          "base_uri": "https://localhost:8080/"
        },
        "id": "HcET34XIQ9s1",
        "outputId": "c12adcc7-6e01-47c8-f4ef-6b1fcf45f962"
      },
      "source": [
        "for t in tweets_df['Text'][306176:]: # checking the last 100 to see if the # of hits goes up over time\n",
        "  if 'nursing' in t:\n",
        "    print(t)"
      ],
      "execution_count": null,
      "outputs": [
        {
          "output_type": "stream",
          "text": [
            "nursing home breeding ground covid case pandemic nys nursing home face chronic staffing shortage s propose medicaid cut force nursing home cut deplete resource\n",
            "crisis stabilize ny signal grow concern nursing home death dry grass big ramification region senior\n",
            "spread like wildfire nursinghome march wks failure decontaminate sprayampdisinfect city facility lack\n",
            "home death fdny em talk plus nursing home death people likely test coronavirus prior death\n"
          ],
          "name": "stdout"
        }
      ]
    },
    {
      "cell_type": "code",
      "metadata": {
        "colab": {
          "base_uri": "https://localhost:8080/"
        },
        "id": "Tz2qoXV-RbXc",
        "outputId": "2a2172c8-dac2-4c39-a4c8-f924d50515c0"
      },
      "source": [
        "for t in tweets_df['Text'][306176:]: # checking the last 100 to see if the # of hits goes up over time\n",
        "  if 'patient' in t:\n",
        "    print(t)"
      ],
      "execution_count": null,
      "outputs": [
        {
          "output_type": "stream",
          "text": [
            "governor think wait till corona patient admit new york state au hospital week lockdown open economy need virus recipient start wave death\n",
            "wear mask healthcare worker direct contact covid patient need arrogant jerkoff ppe nurse docs u mask u do nt wear correctly disgusting\n",
            "michigan democratic gov whitmers administration request emergency supply hydroxychloroquine chloroquineone week whitmer send notice physician demand prescribe drug treat covid patient\n",
            "know see reminder factor plan unclear covid patient reinfecte\n",
            "bury potters field unclaimed covid patient contagious learn need cremate die horrible virus leave virus unchecked burying\n",
            "decide want death toll higher add death patient test positive virus disgusting feel family know truth\n"
          ],
          "name": "stdout"
        }
      ]
    },
    {
      "cell_type": "code",
      "metadata": {
        "colab": {
          "base_uri": "https://localhost:8080/",
          "height": 542
        },
        "id": "KC6YTne4fGjz",
        "outputId": "b05fc04c-2571-4a50-b35c-92d0526fddfc"
      },
      "source": [
        "topic1_neg_list = Topic_1['Text'].tolist()\n",
        "common_words = get_top_n_trigram(topic1_neg_list, 15)\n",
        "\n",
        "df_topic_neg1 = pd.DataFrame(common_words, columns = ['trigram' , 'count'])\n",
        "\n",
        "fig = go.Figure([go.Bar(x=df_topic_neg1['trigram'], y=df_topic_neg1['count'])])\n",
        "fig.update_layout(title=go.layout.Title(text=\"New York - Top 15 Trigrams for Negative Topic 1\"))\n",
        "fig.show()"
      ],
      "execution_count": null,
      "outputs": [
        {
          "output_type": "display_data",
          "data": {
            "text/html": [
              "<html>\n",
              "<head><meta charset=\"utf-8\" /></head>\n",
              "<body>\n",
              "    <div>\n",
              "            <script src=\"https://cdnjs.cloudflare.com/ajax/libs/mathjax/2.7.5/MathJax.js?config=TeX-AMS-MML_SVG\"></script><script type=\"text/javascript\">if (window.MathJax) {MathJax.Hub.Config({SVG: {font: \"STIX-Web\"}});}</script>\n",
              "                <script type=\"text/javascript\">window.PlotlyConfig = {MathJaxConfig: 'local'};</script>\n",
              "        <script src=\"https://cdn.plot.ly/plotly-latest.min.js\"></script>    \n",
              "            <div id=\"128287fc-e373-40dc-b9a0-2b99c738b208\" class=\"plotly-graph-div\" style=\"height:525px; width:100%;\"></div>\n",
              "            <script type=\"text/javascript\">\n",
              "                \n",
              "                    window.PLOTLYENV=window.PLOTLYENV || {};\n",
              "                    \n",
              "                if (document.getElementById(\"128287fc-e373-40dc-b9a0-2b99c738b208\")) {\n",
              "                    Plotly.newPlot(\n",
              "                        '128287fc-e373-40dc-b9a0-2b99c738b208',\n",
              "                        [{\"type\": \"bar\", \"x\": [\"people die covid\", \"nt wear mask\", \"new york city\", \"people wear mask\", \"virus survival rate\", \"today update number\", \"mask social distancing\", \"yesterday positive total\", \"test report yesterday\", \"report yesterday positive\", \"wear mask stay\", \"test positive covid\", \"refuse wear mask\", \"new york state\", \"virus people sick\", \"wo nt wear\", \"wear mask social\", \"healthcare nt overwhelmed\", \"stop spread virus\", \"nt lock defeat\", \"lock defeat virus\", \"defeat virus lock\", \"virus lock healthcare\", \"lock healthcare nt\", \"nt overwhelmed sick\"], \"y\": [908, 825, 580, 524, 501, 409, 380, 371, 370, 370, 356, 314, 302, 294, 286, 272, 270, 269, 267, 267, 267, 267, 267, 267, 266]}],\n",
              "                        {\"template\": {\"data\": {\"bar\": [{\"error_x\": {\"color\": \"#2a3f5f\"}, \"error_y\": {\"color\": \"#2a3f5f\"}, \"marker\": {\"line\": {\"color\": \"#E5ECF6\", \"width\": 0.5}}, \"type\": \"bar\"}], \"barpolar\": [{\"marker\": {\"line\": {\"color\": \"#E5ECF6\", \"width\": 0.5}}, \"type\": \"barpolar\"}], \"carpet\": [{\"aaxis\": {\"endlinecolor\": \"#2a3f5f\", \"gridcolor\": \"white\", \"linecolor\": \"white\", \"minorgridcolor\": \"white\", \"startlinecolor\": \"#2a3f5f\"}, \"baxis\": {\"endlinecolor\": \"#2a3f5f\", \"gridcolor\": \"white\", \"linecolor\": \"white\", \"minorgridcolor\": \"white\", \"startlinecolor\": \"#2a3f5f\"}, \"type\": \"carpet\"}], \"choropleth\": [{\"colorbar\": {\"outlinewidth\": 0, \"ticks\": \"\"}, \"type\": \"choropleth\"}], \"contour\": [{\"colorbar\": {\"outlinewidth\": 0, \"ticks\": \"\"}, \"colorscale\": [[0.0, \"#0d0887\"], [0.1111111111111111, \"#46039f\"], [0.2222222222222222, \"#7201a8\"], [0.3333333333333333, \"#9c179e\"], [0.4444444444444444, \"#bd3786\"], [0.5555555555555556, \"#d8576b\"], [0.6666666666666666, \"#ed7953\"], [0.7777777777777778, \"#fb9f3a\"], [0.8888888888888888, \"#fdca26\"], [1.0, \"#f0f921\"]], \"type\": \"contour\"}], \"contourcarpet\": [{\"colorbar\": {\"outlinewidth\": 0, \"ticks\": \"\"}, \"type\": \"contourcarpet\"}], \"heatmap\": [{\"colorbar\": {\"outlinewidth\": 0, \"ticks\": \"\"}, \"colorscale\": [[0.0, \"#0d0887\"], [0.1111111111111111, \"#46039f\"], [0.2222222222222222, \"#7201a8\"], [0.3333333333333333, \"#9c179e\"], [0.4444444444444444, \"#bd3786\"], [0.5555555555555556, \"#d8576b\"], [0.6666666666666666, \"#ed7953\"], [0.7777777777777778, \"#fb9f3a\"], [0.8888888888888888, \"#fdca26\"], [1.0, \"#f0f921\"]], \"type\": \"heatmap\"}], \"heatmapgl\": [{\"colorbar\": {\"outlinewidth\": 0, \"ticks\": \"\"}, \"colorscale\": [[0.0, \"#0d0887\"], [0.1111111111111111, \"#46039f\"], [0.2222222222222222, \"#7201a8\"], [0.3333333333333333, \"#9c179e\"], [0.4444444444444444, \"#bd3786\"], [0.5555555555555556, \"#d8576b\"], [0.6666666666666666, \"#ed7953\"], [0.7777777777777778, \"#fb9f3a\"], [0.8888888888888888, \"#fdca26\"], [1.0, \"#f0f921\"]], \"type\": \"heatmapgl\"}], \"histogram\": [{\"marker\": {\"colorbar\": {\"outlinewidth\": 0, \"ticks\": \"\"}}, \"type\": \"histogram\"}], \"histogram2d\": [{\"colorbar\": {\"outlinewidth\": 0, \"ticks\": \"\"}, \"colorscale\": [[0.0, \"#0d0887\"], [0.1111111111111111, \"#46039f\"], [0.2222222222222222, \"#7201a8\"], [0.3333333333333333, \"#9c179e\"], [0.4444444444444444, \"#bd3786\"], [0.5555555555555556, \"#d8576b\"], [0.6666666666666666, \"#ed7953\"], [0.7777777777777778, \"#fb9f3a\"], [0.8888888888888888, \"#fdca26\"], [1.0, \"#f0f921\"]], \"type\": \"histogram2d\"}], \"histogram2dcontour\": [{\"colorbar\": {\"outlinewidth\": 0, \"ticks\": \"\"}, \"colorscale\": [[0.0, \"#0d0887\"], [0.1111111111111111, \"#46039f\"], [0.2222222222222222, \"#7201a8\"], [0.3333333333333333, \"#9c179e\"], [0.4444444444444444, \"#bd3786\"], [0.5555555555555556, \"#d8576b\"], [0.6666666666666666, \"#ed7953\"], [0.7777777777777778, \"#fb9f3a\"], [0.8888888888888888, \"#fdca26\"], [1.0, \"#f0f921\"]], \"type\": \"histogram2dcontour\"}], \"mesh3d\": [{\"colorbar\": {\"outlinewidth\": 0, \"ticks\": \"\"}, \"type\": \"mesh3d\"}], \"parcoords\": [{\"line\": {\"colorbar\": {\"outlinewidth\": 0, \"ticks\": \"\"}}, \"type\": \"parcoords\"}], \"pie\": [{\"automargin\": true, \"type\": \"pie\"}], \"scatter\": [{\"marker\": {\"colorbar\": {\"outlinewidth\": 0, \"ticks\": \"\"}}, \"type\": \"scatter\"}], \"scatter3d\": [{\"line\": {\"colorbar\": {\"outlinewidth\": 0, \"ticks\": \"\"}}, \"marker\": {\"colorbar\": {\"outlinewidth\": 0, \"ticks\": \"\"}}, \"type\": \"scatter3d\"}], \"scattercarpet\": [{\"marker\": {\"colorbar\": {\"outlinewidth\": 0, \"ticks\": \"\"}}, \"type\": \"scattercarpet\"}], \"scattergeo\": [{\"marker\": {\"colorbar\": {\"outlinewidth\": 0, \"ticks\": \"\"}}, \"type\": \"scattergeo\"}], \"scattergl\": [{\"marker\": {\"colorbar\": {\"outlinewidth\": 0, \"ticks\": \"\"}}, \"type\": \"scattergl\"}], \"scattermapbox\": [{\"marker\": {\"colorbar\": {\"outlinewidth\": 0, \"ticks\": \"\"}}, \"type\": \"scattermapbox\"}], \"scatterpolar\": [{\"marker\": {\"colorbar\": {\"outlinewidth\": 0, \"ticks\": \"\"}}, \"type\": \"scatterpolar\"}], \"scatterpolargl\": [{\"marker\": {\"colorbar\": {\"outlinewidth\": 0, \"ticks\": \"\"}}, \"type\": \"scatterpolargl\"}], \"scatterternary\": [{\"marker\": {\"colorbar\": {\"outlinewidth\": 0, \"ticks\": \"\"}}, \"type\": \"scatterternary\"}], \"surface\": [{\"colorbar\": {\"outlinewidth\": 0, \"ticks\": \"\"}, \"colorscale\": [[0.0, \"#0d0887\"], [0.1111111111111111, \"#46039f\"], [0.2222222222222222, \"#7201a8\"], [0.3333333333333333, \"#9c179e\"], [0.4444444444444444, \"#bd3786\"], [0.5555555555555556, \"#d8576b\"], [0.6666666666666666, \"#ed7953\"], [0.7777777777777778, \"#fb9f3a\"], [0.8888888888888888, \"#fdca26\"], [1.0, \"#f0f921\"]], \"type\": \"surface\"}], \"table\": [{\"cells\": {\"fill\": {\"color\": \"#EBF0F8\"}, \"line\": {\"color\": \"white\"}}, \"header\": {\"fill\": {\"color\": \"#C8D4E3\"}, \"line\": {\"color\": \"white\"}}, \"type\": \"table\"}]}, \"layout\": {\"annotationdefaults\": {\"arrowcolor\": \"#2a3f5f\", \"arrowhead\": 0, \"arrowwidth\": 1}, \"coloraxis\": {\"colorbar\": {\"outlinewidth\": 0, \"ticks\": \"\"}}, \"colorscale\": {\"diverging\": [[0, \"#8e0152\"], [0.1, \"#c51b7d\"], [0.2, \"#de77ae\"], [0.3, \"#f1b6da\"], [0.4, \"#fde0ef\"], [0.5, \"#f7f7f7\"], [0.6, \"#e6f5d0\"], [0.7, \"#b8e186\"], [0.8, \"#7fbc41\"], [0.9, \"#4d9221\"], [1, \"#276419\"]], \"sequential\": [[0.0, \"#0d0887\"], [0.1111111111111111, \"#46039f\"], [0.2222222222222222, \"#7201a8\"], [0.3333333333333333, \"#9c179e\"], [0.4444444444444444, \"#bd3786\"], [0.5555555555555556, \"#d8576b\"], [0.6666666666666666, \"#ed7953\"], [0.7777777777777778, \"#fb9f3a\"], [0.8888888888888888, \"#fdca26\"], [1.0, \"#f0f921\"]], \"sequentialminus\": [[0.0, \"#0d0887\"], [0.1111111111111111, \"#46039f\"], [0.2222222222222222, \"#7201a8\"], [0.3333333333333333, \"#9c179e\"], [0.4444444444444444, \"#bd3786\"], [0.5555555555555556, \"#d8576b\"], [0.6666666666666666, \"#ed7953\"], [0.7777777777777778, \"#fb9f3a\"], [0.8888888888888888, \"#fdca26\"], [1.0, \"#f0f921\"]]}, \"colorway\": [\"#636efa\", \"#EF553B\", \"#00cc96\", \"#ab63fa\", \"#FFA15A\", \"#19d3f3\", \"#FF6692\", \"#B6E880\", \"#FF97FF\", \"#FECB52\"], \"font\": {\"color\": \"#2a3f5f\"}, \"geo\": {\"bgcolor\": \"white\", \"lakecolor\": \"white\", \"landcolor\": \"#E5ECF6\", \"showlakes\": true, \"showland\": true, \"subunitcolor\": \"white\"}, \"hoverlabel\": {\"align\": \"left\"}, \"hovermode\": \"closest\", \"mapbox\": {\"style\": \"light\"}, \"paper_bgcolor\": \"white\", \"plot_bgcolor\": \"#E5ECF6\", \"polar\": {\"angularaxis\": {\"gridcolor\": \"white\", \"linecolor\": \"white\", \"ticks\": \"\"}, \"bgcolor\": \"#E5ECF6\", \"radialaxis\": {\"gridcolor\": \"white\", \"linecolor\": \"white\", \"ticks\": \"\"}}, \"scene\": {\"xaxis\": {\"backgroundcolor\": \"#E5ECF6\", \"gridcolor\": \"white\", \"gridwidth\": 2, \"linecolor\": \"white\", \"showbackground\": true, \"ticks\": \"\", \"zerolinecolor\": \"white\"}, \"yaxis\": {\"backgroundcolor\": \"#E5ECF6\", \"gridcolor\": \"white\", \"gridwidth\": 2, \"linecolor\": \"white\", \"showbackground\": true, \"ticks\": \"\", \"zerolinecolor\": \"white\"}, \"zaxis\": {\"backgroundcolor\": \"#E5ECF6\", \"gridcolor\": \"white\", \"gridwidth\": 2, \"linecolor\": \"white\", \"showbackground\": true, \"ticks\": \"\", \"zerolinecolor\": \"white\"}}, \"shapedefaults\": {\"line\": {\"color\": \"#2a3f5f\"}}, \"ternary\": {\"aaxis\": {\"gridcolor\": \"white\", \"linecolor\": \"white\", \"ticks\": \"\"}, \"baxis\": {\"gridcolor\": \"white\", \"linecolor\": \"white\", \"ticks\": \"\"}, \"bgcolor\": \"#E5ECF6\", \"caxis\": {\"gridcolor\": \"white\", \"linecolor\": \"white\", \"ticks\": \"\"}}, \"title\": {\"x\": 0.05}, \"xaxis\": {\"automargin\": true, \"gridcolor\": \"white\", \"linecolor\": \"white\", \"ticks\": \"\", \"title\": {\"standoff\": 15}, \"zerolinecolor\": \"white\", \"zerolinewidth\": 2}, \"yaxis\": {\"automargin\": true, \"gridcolor\": \"white\", \"linecolor\": \"white\", \"ticks\": \"\", \"title\": {\"standoff\": 15}, \"zerolinecolor\": \"white\", \"zerolinewidth\": 2}}}, \"title\": {\"text\": \"New York's Top 25 Trigrams for Negative Topics - Topic 1\"}},\n",
              "                        {\"responsive\": true}\n",
              "                    ).then(function(){\n",
              "                            \n",
              "var gd = document.getElementById('128287fc-e373-40dc-b9a0-2b99c738b208');\n",
              "var x = new MutationObserver(function (mutations, observer) {{\n",
              "        var display = window.getComputedStyle(gd).display;\n",
              "        if (!display || display === 'none') {{\n",
              "            console.log([gd, 'removed!']);\n",
              "            Plotly.purge(gd);\n",
              "            observer.disconnect();\n",
              "        }}\n",
              "}});\n",
              "\n",
              "// Listen for the removal of the full notebook cells\n",
              "var notebookContainer = gd.closest('#notebook-container');\n",
              "if (notebookContainer) {{\n",
              "    x.observe(notebookContainer, {childList: true});\n",
              "}}\n",
              "\n",
              "// Listen for the clearing of the current output cell\n",
              "var outputEl = gd.closest('.output');\n",
              "if (outputEl) {{\n",
              "    x.observe(outputEl, {childList: true});\n",
              "}}\n",
              "\n",
              "                        })\n",
              "                };\n",
              "                \n",
              "            </script>\n",
              "        </div>\n",
              "</body>\n",
              "</html>"
            ]
          },
          "metadata": {
            "tags": []
          }
        }
      ]
    },
    {
      "cell_type": "code",
      "metadata": {
        "colab": {
          "base_uri": "https://localhost:8080/"
        },
        "id": "UpGTozfFRnFE",
        "outputId": "bd24d463-0564-43c7-cb15-4fa635db7a95"
      },
      "source": [
        "for t in Topic_1['Text_Unprocessed'][:200]:\n",
        "  if 'mask' in t:\n",
        "    print(t)"
      ],
      "execution_count": null,
      "outputs": [
        {
          "output_type": "stream",
          "text": [
            "  Big 🍎 NYers Alert!  is BAD for New York. He is in bed with Cuomo. He wants to mandate unsafe vaccines, vaccine passports, continue covid testing in schools and mask mandates.\n",
            "Take the masks off and stop pushing the Poison. Pandemic is over        \n",
            "  If masks are stopping the virus, then your clothes, hair and exposed skin are a biohazard and must be thoroughly washed after every contact with a person.\n",
            " GA bans masks for kids in schools.   who have the worst Covid records as govs, are still abusing children with masks  \n",
            "Communities in  left confused by mix messages from , federal, state, and local officials on regulations leaving many feeling  cant even do the post pandemic right. masks, no masks, indoor/outdoors, can we open, discriminating .\n",
            " Remote learning option is critical for ALL highrisk staff and students due to: ) Covid mutations India, ) No vaccine yet for grade school ~ , ) Vaccine not  effective, ) Israel the most vaccinated country requires indoor masks EVERYWHERE even if vaccinatedunlike U.S.\n",
            " Remote learning option is critical for ALL highrisk staff and students due to: ) Covid mutations India, ) No vaccine yet for grade school ~ , ) Vaccine not  effective, ) Israel the most vaccinated country requires indoor masks EVERYWHERE even if vaccinatedunlike U.S.\n",
            "  This pandemic and mask wearing, social distancing, etcwas about protecting the elder people and people with health issues. They should be vaccinated by now. Why are we doing this to our children when the risk is so low to them for severe illness\n",
            "   UV light kills covid, masks outside for those participating in sports, crazy!!\n",
            " If you had Covid do not under any circumstance take the vaccine DO NOT you have superior immunity  also take off the stupid mask! This guy is a pharma PIMP !    \n",
            " Unmask our kids! Masks are bad for children development and have no impact on pandemic\n"
          ],
          "name": "stdout"
        }
      ]
    },
    {
      "cell_type": "code",
      "metadata": {
        "colab": {
          "base_uri": "https://localhost:8080/"
        },
        "id": "6ENQ99rXRyPU",
        "outputId": "2cdecda8-e694-461c-ac18-2eecb837be3f"
      },
      "source": [
        "for t in Topic_1['Text_Unprocessed'][:100]:\n",
        "  if 'die' in t:\n",
        "    print(t)"
      ],
      "execution_count": null,
      "outputs": [
        {
          "output_type": "stream",
          "text": [
            " Question: Out of the number of people who were hospitalized and died from COVID yesterday, were any of them fully vaccinated  Inquiring minds would like to know.\n",
            "    The Spanish flu. At  either they were already infected or have died from it therefore it was slowly eradicated. Not enough ppl were found for the virus to infect new blood\n",
            " Question: Out of the number of people who were hospitalized and died from COVID yesterday, were any of them fully vaccinated  Inquiring minds would like to know.\n",
            "  Nobody has, so you just sound like an ignorant moron, but guess how many died from the virus that youll take your chances with since the death rate is so low Are you afraid of a little needle ❄️❄️❄️\n",
            "I agree with you💯 Rob.  needs to step up to the plate &ampmake us see that we didnt risk it all by going out to vote in this pandemic to get him where here is. Trust&amp believe if he doesnt do away with the  Democracy will die a slow death under his watch.\n",
            "   What are you on about lady. No we didnt really fight against covid. All we did was just help thats it. But memorial day is for our brothers and sisters who died serving in the US military. not some wacky covid shit so people can feel special about themselves\n",
            "   Those who died in the military literally get one day. Veterans day is for the living and was originally combined with armistice day which marked the end of ww. We should mourn those that died from covid, but we already take away what we promised them. Dont take something else\n",
            "   Some people even contracted Covid and died  like that one black lady who worked tirelessly to turn out the vote in Georgia (sorry her name escapes me).\n",
            "  Omgwhy Doctors do not let those who have had M, M, R, Chicken Pox, or Polio to get the vaccine because they have natural antibodies/immunity. You fell for the commercials that told you Covid was different. You recovered. Now youre in harms way. 🤦🏼‍♀️\n",
            "  was at risk that day Ex riled up his rabid, smelly, imbecilic, Covid ridden dogs on you all He didnt care who got hurt or died that day Dont let them get away with it\n",
            " Question: Out of the number of people who were hospitalized and died from COVID yesterday, were any of them fully vaccinated  Inquiring minds would like to know.\n"
          ],
          "name": "stdout"
        }
      ]
    },
    {
      "cell_type": "code",
      "metadata": {
        "colab": {
          "base_uri": "https://localhost:8080/"
        },
        "id": "ipO8g_FQR1jc",
        "outputId": "617645c6-8d62-4b9a-b56e-efc98a29eb84"
      },
      "source": [
        "for t in Topic_1['Text_Unprocessed'][:100]:\n",
        "  if 'vaccine' in t:\n",
        "    print(t)"
      ],
      "execution_count": null,
      "outputs": [
        {
          "output_type": "stream",
          "text": [
            "  Imagine a pandemic that was so dangerous you had to bribe people to get jabbed with an not yet approved vaccine\n",
            "  Big 🍎 NYers Alert!  is BAD for New York. He is in bed with Cuomo. He wants to mandate unsafe vaccines, vaccine passports, continue covid testing in schools and mask mandates.\n",
            "  If you count individuals who had the virus, we have reached her immunity (approx. ). That doesnt mean you shouldnt get the vaccine, it means were over it and it should be treated no different than the flu.    \n",
            "WARNING:  is quietly preparing to announce children will be forbidden to attend public or private NY schools in Fall  without getting a COVID vaccine. They are still debating how long  y/o will have to comply since they cannot yet vax.  \n",
            "     .. how can you ethically mandate vaccines with EUA in a population of students not at risk for death by Covid ,without long term safety.. as learnings of higher education do better, drop your vaccine mandate now !\n",
            "  Hyppa was designed for privacy in medical practices. The virus is . curable. If youve had the vaccine really dont get why the hell you care if anyone else has. Dont start treating me differently in public places  \n",
            "   The vaccine never guaranteed against catching Covid. The vaccine has only ever stated the risk of death and hospitalization is less than \n",
            "Its an aerosoled virus. Either the vaccine works or it doesnt but this  coercion is wrong.  Something aint right.  \n",
            "           Wake up.  Youre destroying the lives of people who actually recovered from this virus and dont need the vaccine.\n",
            "  Omgwhy Doctors do not let those who have had M, M, R, Chicken Pox, or Polio to get the vaccine because they have natural antibodies/immunity. You fell for the commercials that told you Covid was different. You recovered. Now youre in harms way. 🤦🏼‍♀️\n",
            "      People are morons to believe that Covid is anything like the flu as they are different viruses with huge different death ratio flu kills . infected where covid  in the USA stands today at .! Thats x deadlier. So glad people get the vaccine, the best defence.  \n",
            "  We would have Covid fully dead buried in the ground right now if all the Republicans who demand more thanks to Trump for fasttracking vaccines (a genuine achievement!) would actually get vaccinated.  Alas, nationwide they are the largest holdouts!\n",
            "   Eliminate the mandate to have negative covid test or vaccine to do things!\n",
            "New Yorkers suffering symptoms after receiving the COVID vaccine are now entitled to paid sick time while recovering,  said.  \n"
          ],
          "name": "stdout"
        }
      ]
    },
    {
      "cell_type": "code",
      "metadata": {
        "colab": {
          "base_uri": "https://localhost:8080/",
          "height": 542
        },
        "id": "xrpMh7VofXoC",
        "outputId": "f5d36157-79ac-4ebd-d1c6-a8e06579be12"
      },
      "source": [
        "topic2_neg_list = Topic_2['Text'].tolist()\n",
        "common_words = get_top_n_trigram(topic2_neg_list, 15)\n",
        "\n",
        "df_topic_neg2 = pd.DataFrame(common_words, columns = ['trigram' , 'count'])\n",
        "\n",
        "fig = go.Figure([go.Bar(x=df_topic_neg2['trigram'], y=df_topic_neg2['count'])])\n",
        "fig.update_layout(title=go.layout.Title(text=\"New York - Top 15 Trigrams for Negative Topic 2\"))\n",
        "fig.show()"
      ],
      "execution_count": null,
      "outputs": [
        {
          "output_type": "display_data",
          "data": {
            "text/html": [
              "<html>\n",
              "<head><meta charset=\"utf-8\" /></head>\n",
              "<body>\n",
              "    <div>\n",
              "            <script src=\"https://cdnjs.cloudflare.com/ajax/libs/mathjax/2.7.5/MathJax.js?config=TeX-AMS-MML_SVG\"></script><script type=\"text/javascript\">if (window.MathJax) {MathJax.Hub.Config({SVG: {font: \"STIX-Web\"}});}</script>\n",
              "                <script type=\"text/javascript\">window.PlotlyConfig = {MathJaxConfig: 'local'};</script>\n",
              "        <script src=\"https://cdn.plot.ly/plotly-latest.min.js\"></script>    \n",
              "            <div id=\"c5fa74e3-7994-4627-8bdc-641b900f3c12\" class=\"plotly-graph-div\" style=\"height:525px; width:100%;\"></div>\n",
              "            <script type=\"text/javascript\">\n",
              "                \n",
              "                    window.PLOTLYENV=window.PLOTLYENV || {};\n",
              "                    \n",
              "                if (document.getElementById(\"c5fa74e3-7994-4627-8bdc-641b900f3c12\")) {\n",
              "                    Plotly.newPlot(\n",
              "                        'c5fa74e3-7994-4627-8bdc-641b900f3c12',\n",
              "                        [{\"type\": \"bar\", \"x\": [\"patient nursing home\", \"covid patient nursing\", \"patient nurse home\", \"send covid patient\", \"nursing home covid\", \"covid nursing home\", \"covid patient nurse\", \"force nursing home\", \"covid positive patient\", \"nursing home kill\", \"people nursing home\", \"nursing home death\", \"home covid patient\", \"force covid patient\", \"positive patient nurse\", \"home kill thousand\", \"elderly nursing home\", \"nurse home kill\", \"send covid positive\", \"nursing home resident\", \"send nursing home\", \"nursing home patient\", \"death nursing home\", \"covid infect patient\", \"nursing home accept\"], \"y\": [8846, 6891, 4249, 3703, 3212, 2801, 2642, 2327, 2233, 1925, 1871, 1715, 1501, 1150, 1052, 1048, 1022, 976, 959, 908, 888, 876, 862, 847, 841]}],\n",
              "                        {\"template\": {\"data\": {\"bar\": [{\"error_x\": {\"color\": \"#2a3f5f\"}, \"error_y\": {\"color\": \"#2a3f5f\"}, \"marker\": {\"line\": {\"color\": \"#E5ECF6\", \"width\": 0.5}}, \"type\": \"bar\"}], \"barpolar\": [{\"marker\": {\"line\": {\"color\": \"#E5ECF6\", \"width\": 0.5}}, \"type\": \"barpolar\"}], \"carpet\": [{\"aaxis\": {\"endlinecolor\": \"#2a3f5f\", \"gridcolor\": \"white\", \"linecolor\": \"white\", \"minorgridcolor\": \"white\", \"startlinecolor\": \"#2a3f5f\"}, \"baxis\": {\"endlinecolor\": \"#2a3f5f\", \"gridcolor\": \"white\", \"linecolor\": \"white\", \"minorgridcolor\": \"white\", \"startlinecolor\": \"#2a3f5f\"}, \"type\": \"carpet\"}], \"choropleth\": [{\"colorbar\": {\"outlinewidth\": 0, \"ticks\": \"\"}, \"type\": \"choropleth\"}], \"contour\": [{\"colorbar\": {\"outlinewidth\": 0, \"ticks\": \"\"}, \"colorscale\": [[0.0, \"#0d0887\"], [0.1111111111111111, \"#46039f\"], [0.2222222222222222, \"#7201a8\"], [0.3333333333333333, \"#9c179e\"], [0.4444444444444444, \"#bd3786\"], [0.5555555555555556, \"#d8576b\"], [0.6666666666666666, \"#ed7953\"], [0.7777777777777778, \"#fb9f3a\"], [0.8888888888888888, \"#fdca26\"], [1.0, \"#f0f921\"]], \"type\": \"contour\"}], \"contourcarpet\": [{\"colorbar\": {\"outlinewidth\": 0, \"ticks\": \"\"}, \"type\": \"contourcarpet\"}], \"heatmap\": [{\"colorbar\": {\"outlinewidth\": 0, \"ticks\": \"\"}, \"colorscale\": [[0.0, \"#0d0887\"], [0.1111111111111111, \"#46039f\"], [0.2222222222222222, \"#7201a8\"], [0.3333333333333333, \"#9c179e\"], [0.4444444444444444, \"#bd3786\"], [0.5555555555555556, \"#d8576b\"], [0.6666666666666666, \"#ed7953\"], [0.7777777777777778, \"#fb9f3a\"], [0.8888888888888888, \"#fdca26\"], [1.0, \"#f0f921\"]], \"type\": \"heatmap\"}], \"heatmapgl\": [{\"colorbar\": {\"outlinewidth\": 0, \"ticks\": \"\"}, \"colorscale\": [[0.0, \"#0d0887\"], [0.1111111111111111, \"#46039f\"], [0.2222222222222222, \"#7201a8\"], [0.3333333333333333, \"#9c179e\"], [0.4444444444444444, \"#bd3786\"], [0.5555555555555556, \"#d8576b\"], [0.6666666666666666, \"#ed7953\"], [0.7777777777777778, \"#fb9f3a\"], [0.8888888888888888, \"#fdca26\"], [1.0, \"#f0f921\"]], \"type\": \"heatmapgl\"}], \"histogram\": [{\"marker\": {\"colorbar\": {\"outlinewidth\": 0, \"ticks\": \"\"}}, \"type\": \"histogram\"}], \"histogram2d\": [{\"colorbar\": {\"outlinewidth\": 0, \"ticks\": \"\"}, \"colorscale\": [[0.0, \"#0d0887\"], [0.1111111111111111, \"#46039f\"], [0.2222222222222222, \"#7201a8\"], [0.3333333333333333, \"#9c179e\"], [0.4444444444444444, \"#bd3786\"], [0.5555555555555556, \"#d8576b\"], [0.6666666666666666, \"#ed7953\"], [0.7777777777777778, \"#fb9f3a\"], [0.8888888888888888, \"#fdca26\"], [1.0, \"#f0f921\"]], \"type\": \"histogram2d\"}], \"histogram2dcontour\": [{\"colorbar\": {\"outlinewidth\": 0, \"ticks\": \"\"}, \"colorscale\": [[0.0, \"#0d0887\"], [0.1111111111111111, \"#46039f\"], [0.2222222222222222, \"#7201a8\"], [0.3333333333333333, \"#9c179e\"], [0.4444444444444444, \"#bd3786\"], [0.5555555555555556, \"#d8576b\"], [0.6666666666666666, \"#ed7953\"], [0.7777777777777778, \"#fb9f3a\"], [0.8888888888888888, \"#fdca26\"], [1.0, \"#f0f921\"]], \"type\": \"histogram2dcontour\"}], \"mesh3d\": [{\"colorbar\": {\"outlinewidth\": 0, \"ticks\": \"\"}, \"type\": \"mesh3d\"}], \"parcoords\": [{\"line\": {\"colorbar\": {\"outlinewidth\": 0, \"ticks\": \"\"}}, \"type\": \"parcoords\"}], \"pie\": [{\"automargin\": true, \"type\": \"pie\"}], \"scatter\": [{\"marker\": {\"colorbar\": {\"outlinewidth\": 0, \"ticks\": \"\"}}, \"type\": \"scatter\"}], \"scatter3d\": [{\"line\": {\"colorbar\": {\"outlinewidth\": 0, \"ticks\": \"\"}}, \"marker\": {\"colorbar\": {\"outlinewidth\": 0, \"ticks\": \"\"}}, \"type\": \"scatter3d\"}], \"scattercarpet\": [{\"marker\": {\"colorbar\": {\"outlinewidth\": 0, \"ticks\": \"\"}}, \"type\": \"scattercarpet\"}], \"scattergeo\": [{\"marker\": {\"colorbar\": {\"outlinewidth\": 0, \"ticks\": \"\"}}, \"type\": \"scattergeo\"}], \"scattergl\": [{\"marker\": {\"colorbar\": {\"outlinewidth\": 0, \"ticks\": \"\"}}, \"type\": \"scattergl\"}], \"scattermapbox\": [{\"marker\": {\"colorbar\": {\"outlinewidth\": 0, \"ticks\": \"\"}}, \"type\": \"scattermapbox\"}], \"scatterpolar\": [{\"marker\": {\"colorbar\": {\"outlinewidth\": 0, \"ticks\": \"\"}}, \"type\": \"scatterpolar\"}], \"scatterpolargl\": [{\"marker\": {\"colorbar\": {\"outlinewidth\": 0, \"ticks\": \"\"}}, \"type\": \"scatterpolargl\"}], \"scatterternary\": [{\"marker\": {\"colorbar\": {\"outlinewidth\": 0, \"ticks\": \"\"}}, \"type\": \"scatterternary\"}], \"surface\": [{\"colorbar\": {\"outlinewidth\": 0, \"ticks\": \"\"}, \"colorscale\": [[0.0, \"#0d0887\"], [0.1111111111111111, \"#46039f\"], [0.2222222222222222, \"#7201a8\"], [0.3333333333333333, \"#9c179e\"], [0.4444444444444444, \"#bd3786\"], [0.5555555555555556, \"#d8576b\"], [0.6666666666666666, \"#ed7953\"], [0.7777777777777778, \"#fb9f3a\"], [0.8888888888888888, \"#fdca26\"], [1.0, \"#f0f921\"]], \"type\": \"surface\"}], \"table\": [{\"cells\": {\"fill\": {\"color\": \"#EBF0F8\"}, \"line\": {\"color\": \"white\"}}, \"header\": {\"fill\": {\"color\": \"#C8D4E3\"}, \"line\": {\"color\": \"white\"}}, \"type\": \"table\"}]}, \"layout\": {\"annotationdefaults\": {\"arrowcolor\": \"#2a3f5f\", \"arrowhead\": 0, \"arrowwidth\": 1}, \"coloraxis\": {\"colorbar\": {\"outlinewidth\": 0, \"ticks\": \"\"}}, \"colorscale\": {\"diverging\": [[0, \"#8e0152\"], [0.1, \"#c51b7d\"], [0.2, \"#de77ae\"], [0.3, \"#f1b6da\"], [0.4, \"#fde0ef\"], [0.5, \"#f7f7f7\"], [0.6, \"#e6f5d0\"], [0.7, \"#b8e186\"], [0.8, \"#7fbc41\"], [0.9, \"#4d9221\"], [1, \"#276419\"]], \"sequential\": [[0.0, \"#0d0887\"], [0.1111111111111111, \"#46039f\"], [0.2222222222222222, \"#7201a8\"], [0.3333333333333333, \"#9c179e\"], [0.4444444444444444, \"#bd3786\"], [0.5555555555555556, \"#d8576b\"], [0.6666666666666666, \"#ed7953\"], [0.7777777777777778, \"#fb9f3a\"], [0.8888888888888888, \"#fdca26\"], [1.0, \"#f0f921\"]], \"sequentialminus\": [[0.0, \"#0d0887\"], [0.1111111111111111, \"#46039f\"], [0.2222222222222222, \"#7201a8\"], [0.3333333333333333, \"#9c179e\"], [0.4444444444444444, \"#bd3786\"], [0.5555555555555556, \"#d8576b\"], [0.6666666666666666, \"#ed7953\"], [0.7777777777777778, \"#fb9f3a\"], [0.8888888888888888, \"#fdca26\"], [1.0, \"#f0f921\"]]}, \"colorway\": [\"#636efa\", \"#EF553B\", \"#00cc96\", \"#ab63fa\", \"#FFA15A\", \"#19d3f3\", \"#FF6692\", \"#B6E880\", \"#FF97FF\", \"#FECB52\"], \"font\": {\"color\": \"#2a3f5f\"}, \"geo\": {\"bgcolor\": \"white\", \"lakecolor\": \"white\", \"landcolor\": \"#E5ECF6\", \"showlakes\": true, \"showland\": true, \"subunitcolor\": \"white\"}, \"hoverlabel\": {\"align\": \"left\"}, \"hovermode\": \"closest\", \"mapbox\": {\"style\": \"light\"}, \"paper_bgcolor\": \"white\", \"plot_bgcolor\": \"#E5ECF6\", \"polar\": {\"angularaxis\": {\"gridcolor\": \"white\", \"linecolor\": \"white\", \"ticks\": \"\"}, \"bgcolor\": \"#E5ECF6\", \"radialaxis\": {\"gridcolor\": \"white\", \"linecolor\": \"white\", \"ticks\": \"\"}}, \"scene\": {\"xaxis\": {\"backgroundcolor\": \"#E5ECF6\", \"gridcolor\": \"white\", \"gridwidth\": 2, \"linecolor\": \"white\", \"showbackground\": true, \"ticks\": \"\", \"zerolinecolor\": \"white\"}, \"yaxis\": {\"backgroundcolor\": \"#E5ECF6\", \"gridcolor\": \"white\", \"gridwidth\": 2, \"linecolor\": \"white\", \"showbackground\": true, \"ticks\": \"\", \"zerolinecolor\": \"white\"}, \"zaxis\": {\"backgroundcolor\": \"#E5ECF6\", \"gridcolor\": \"white\", \"gridwidth\": 2, \"linecolor\": \"white\", \"showbackground\": true, \"ticks\": \"\", \"zerolinecolor\": \"white\"}}, \"shapedefaults\": {\"line\": {\"color\": \"#2a3f5f\"}}, \"ternary\": {\"aaxis\": {\"gridcolor\": \"white\", \"linecolor\": \"white\", \"ticks\": \"\"}, \"baxis\": {\"gridcolor\": \"white\", \"linecolor\": \"white\", \"ticks\": \"\"}, \"bgcolor\": \"#E5ECF6\", \"caxis\": {\"gridcolor\": \"white\", \"linecolor\": \"white\", \"ticks\": \"\"}}, \"title\": {\"x\": 0.05}, \"xaxis\": {\"automargin\": true, \"gridcolor\": \"white\", \"linecolor\": \"white\", \"ticks\": \"\", \"title\": {\"standoff\": 15}, \"zerolinecolor\": \"white\", \"zerolinewidth\": 2}, \"yaxis\": {\"automargin\": true, \"gridcolor\": \"white\", \"linecolor\": \"white\", \"ticks\": \"\", \"title\": {\"standoff\": 15}, \"zerolinecolor\": \"white\", \"zerolinewidth\": 2}}}, \"title\": {\"text\": \"New York's Top 25 Trigrams for Negative Topics - Topic 2\"}},\n",
              "                        {\"responsive\": true}\n",
              "                    ).then(function(){\n",
              "                            \n",
              "var gd = document.getElementById('c5fa74e3-7994-4627-8bdc-641b900f3c12');\n",
              "var x = new MutationObserver(function (mutations, observer) {{\n",
              "        var display = window.getComputedStyle(gd).display;\n",
              "        if (!display || display === 'none') {{\n",
              "            console.log([gd, 'removed!']);\n",
              "            Plotly.purge(gd);\n",
              "            observer.disconnect();\n",
              "        }}\n",
              "}});\n",
              "\n",
              "// Listen for the removal of the full notebook cells\n",
              "var notebookContainer = gd.closest('#notebook-container');\n",
              "if (notebookContainer) {{\n",
              "    x.observe(notebookContainer, {childList: true});\n",
              "}}\n",
              "\n",
              "// Listen for the clearing of the current output cell\n",
              "var outputEl = gd.closest('.output');\n",
              "if (outputEl) {{\n",
              "    x.observe(outputEl, {childList: true});\n",
              "}}\n",
              "\n",
              "                        })\n",
              "                };\n",
              "                \n",
              "            </script>\n",
              "        </div>\n",
              "</body>\n",
              "</html>"
            ]
          },
          "metadata": {
            "tags": []
          }
        }
      ]
    },
    {
      "cell_type": "code",
      "metadata": {
        "colab": {
          "base_uri": "https://localhost:8080/"
        },
        "id": "eUiwNmyqR338",
        "outputId": "1f7ba2a2-5fa3-4a9f-e704-3ddc3ca99434"
      },
      "source": [
        "for t in Topic_2['Text_Unprocessed'][:100]:\n",
        "  if 'kill' in t:\n",
        "    print(t)"
      ],
      "execution_count": null,
      "outputs": [
        {
          "output_type": "stream",
          "text": [
            "   declared this weekend  to memorial for those who died from corona virus. Thousands of whom he is directly  responsible for killimg\n",
            " Sexual harassment accusers were a public diversion to obscure the FACT that  ‘s policies killed k seniors to pump up pandemic numbers while ignoring  ‘s help and leaving Naval medical ship empty.\n",
            " There was no interaction. Know how you can tell No Congressman or senator was drugged out in the street and executed stop spreading your lies and propaganda. Speaking of mass murderers, how many old people did you kill with Covid\n",
            " You slimy piece of filth. Memorial Day weekend is to honor the fallen troops who gave their lives in the service of this country, not for essential workers or covid. How dare you attempt to hijack such a sacred holiday How about focusing on the nursing home patients you killed.\n",
            " Ha! Except for hundreds/thousands of Jews Mario Cuomos son Andrew killed w/ his Covid ordersthats exempt. In fairness, none of the women he sexually harassed were Jewish. Apparently Cuomo told aids, no Jew broads, they dont put out. What do you expect from a Mafia soldier!\n",
            " How bout people who kill thousands by sending Covid into nursing homes\n",
            "    its extremely easy to make this geriatric murderer   look stupid. Coronavirus/Common cold didnt kill  nursing home residents. His unscientific executive orders did they were identical to the other murderer      \n",
            " Hey Andrew, its me again.  I may have missed your reply to my previous questions.  Do you stand against sexual harassment , against killing seniors and what about standing against withholding key Covid information Will you hashtag that\n",
            "   By the way, any proof its killing thousands And if youre concerned about thousands, wait til you hear how many people Covid has killed.\n",
            " What about all the old people you killed in nursing homes What about the fact that you lied to the Feds and covered up how many folks died from covid directives from you Will you resign and plead guilty to crimes against humanity\n",
            "Lets not forget  killed thousands during the pandemic and made millions on dead Grandparents and parents. Move the fuck on!\n",
            " No one is surprised that the last thing you would honor on memorial day is our fallen military heroes.  But then again, anytime you speak all people can think about is all the fallen elderly you murdered with covid.  Bravo America killer\n",
            " But killing seniors with Covid, we good.\n",
            "Is this why  killed majority of patients in nursing homes in NY with COVID  \n",
            " took care of that when he killed majority of those in nursing homes with COVID.\n",
            " Every day your tweets make me so angry. You are such a hypocrite. I have Zero tolerance for hate crimes, sexual harassment, killing the elderly in nursing homes and concealing Covid data from the public so can you just go away already\n"
          ],
          "name": "stdout"
        }
      ]
    },
    {
      "cell_type": "code",
      "metadata": {
        "colab": {
          "base_uri": "https://localhost:8080/"
        },
        "id": "RQ5vwQitSDTc",
        "outputId": "f6d34621-5b67-4ff0-b9e9-3d2e34f1ded0"
      },
      "source": [
        "for t in Topic_2['Text_Unprocessed'][:100]:\n",
        "  if 'home' in t:\n",
        "    print(t)"
      ],
      "execution_count": null,
      "outputs": [
        {
          "output_type": "stream",
          "text": [
            " If someone passed away at a hospital instead of the nursing home, there is no attempt to hide anything.  The patient may have contracted the virus in the nursing home...but there was no lie about where they passed away.  This is a witch hunt against  He did a good job!\n",
            "  how we supposed to believe anything you say When you delibertly lied about the nursing home deaths during the pandemic Youve lost all credibility\n",
            "   you had about  other days of the year you could have picked to recognize those who lost their lives to Covid. Maybe the day you decided to infect nursing homes would have been a more fitting day. \n",
            " Public Domain Allegations Numbers update: ) sexual assault/harassment accusers ) thousands dying in covid nursing home death camps ) $MM+ book deal by staff + cooking covid stats      \n",
            "OPINION:  Its no coincidence that  of the worst virus outbreaks took place in states that failed to protect their elderly populations.  Both  and  passed policies forcing nursing homes to accept COVIDpositive patients  \n",
            "OPINION:  Its no coincidence that  of the worst virus outbreaks took place in states that failed to protect their elderly populations.  Both  and  passed policies forcing nursing homes to accept COVIDpositive patients  \n",
            "OPINION:  Its no coincidence that  of the worst virus outbreaks took place in states that failed to protect their elderly populations.  Both  and  passed policies forcing nursing homes to accept COVIDpositive patients  \n",
            "  I lost my grandmother because Cuomo placed a mandate to place Covid patients in her nursing home. My family along with many families had to suffer the needless loss of loved ones. You either dont live in NY or are not human. What Cuomo did was criminal and inexcusable\n",
            "   Cuomo Aides Rewrote Nursing Home Report to Hide Higher Death Toll The intervention was the earliest action yet known in an effort by Gov. Andrew M. Cuomo that concealed how many nursing home residents died in the pandemic.  \n",
            " Shameful, like housing Covid infected in nursing homes. Right Jipples!\n",
            " Dont forget,  sent elderly Covid patients back into nursing homes and lied about the death numbers.\n",
            " You know whats shameful Readmitting infected patients back into nursing homes, even though it meant others would get the virus and die, just to undercount deaths, since you were writing a book about how great you were. You exposed the very people most at risk. Unconscionable.\n",
            " Although sexual harassment we do tolerate in this state as well as stupid judgement to put elderly covid patients back 🔙 n the nursing home and then hide the numbers. Those two are tolerated..:)\n",
            "  You know whats scary Forcing nursing homes to take COVID+ patients and then covering up the  of elderly that died as a result.   You know whats not A few hundred people walking around a public building after they were let in by police.\n",
            " You slimy piece of filth. Memorial Day weekend is to honor the fallen troops who gave their lives in the service of this country, not for essential workers or covid. How dare you attempt to hijack such a sacred holiday How about focusing on the nursing home patients you killed.\n",
            "  YOU should be the st prosecuted for the death of ,s of elderly nursing home residents. You bowed to your Marxist controllers and purposely victimized vulnerable people to bring the Covid death count up and create fake pandemonium. Control people with fear \n",
            " Shouldnt the investigation against you be your main concern I mean how come they havent removed you from power like should have been done when the first couple allegations came out or when it was proven how bad you muscled nursing homes into taking in covid patients hmm weird.\n",
            " Do you have any tolerance for murdering thousands of elderly by sending confirmed carriers of covid into the nursing homes\n",
            ". is fighting for  to be held accountable for how he handled nursing homes during the pandemic, even as he continues to pretend like nothing has happened. via    \n",
            " U are literally responsible for the death of ,+ elderly ppl, by forcing nursing homes n takingin patients known b covid positive  Then u tried to cover it up, standing on their graves and exploiting their deaths, to make $millions writing a book  U R lower than scum\n",
            " will the families of the people who died in nursing homes get compensated because you put COVID patients in nursing homes\n",
            " Sexual harassment is shameful  Covering up nursing home deaths is shameful  VIP COVID testing for family, donors, and lobbyists  with kits in short supply is shameful  Using state resources for personal gain is shameful  Threatening vaccines in exchange for loyalty is shameful\n",
            " it is shameful that no one is investigating why did you put COVID patients in nursing homes\n",
            "  Imagine trying to cancel someone whose policies led to the deaths of s of thousands of nursing home patients, covered up those statistics, and abused his power to allow family and friends to get preferential treatment during pandemic.   The gall of this cancel culture.  😡\n",
            " Sure, go ahead and pat yourself on the back. New Yorkers are still facing adversity. Try reimagining a city that works for its citizens, those that didnt have our choice of homes to escape to during a fucking catastrophic pandemic. Fuck you Cuomo\n",
            " How bout people who kill thousands by sending Covid into nursing homes\n",
            " Hi Andrew, I never received a response to my previous asks.  Do you have information to share on your sexual harassment allegations, the withholding of Covid data and the nursing home scandal  Did I miss your tweet on that\n",
            "    its extremely easy to make this geriatric murderer   look stupid. Coronavirus/Common cold didnt kill  nursing home residents. His unscientific executive orders did they were identical to the other murderer      \n",
            "OPINION:  Its no coincidence that  of the worst virus outbreaks took place in states that failed to protect their elderly populations.  Both  and  passed policies forcing nursing homes to accept COVIDpositive patients  \n",
            "   Because he was too busy forcing covid positive people into nursing homes with the elderly and most vulnerable to possibly have the time to rape someone\n",
            " What about all the old people you killed in nursing homes What about the fact that you lied to the Feds and covered up how many folks died from covid directives from you Will you resign and plead guilty to crimes against humanity\n",
            ". is fighting for  to be held accountable for how he handled nursing homes during the pandemic, even as he continues to pretend like nothing has happened. via    \n",
            "    What She ordered nursing homes to shoehorn in patients known to be contagious with Covid, among those most likely to die if infected. Refused to reverse the order when begged to. Now we find as many as twice as many nursing home residents died. Are you insane\n",
            "    Wait...its nothing if Whitmer ordered nursing homes to accept patients known to be contagious with Covid, and twice as many nursing home residents died, as her state health officials have been saying I beg to differ.\n",
            ". is fighting for  to be held accountable for how he handled nursing homes during the pandemic, even as he continues to pretend like nothing has happened. via    \n",
            ". is fighting for  to be held accountable for how he handled nursing homes during the pandemic, even as he continues to pretend like nothing has happened. via    \n",
            ". is fighting for  to be held accountable for how he handled nursing homes during the pandemic, even as he continues to pretend like nothing has happened. via          enables\n",
            " Have you seen what de Blasio does to he Jews of NYC He threatens to arrest them for many things. Nobody else receives those threats. Start there and make an example.  Also, you are a disgrace for sending Covid patients to nursing homes. Evil.\n",
            "      I would sure as hell know not to put covid patients into a nursing home. Yanno, science and infection control  is basic. No one is pointing fingers, they are pointing out facts.  \n",
            " We have no tolerance for your ignorance and weakness and incompetence when it came to the Covid patients going back to the nursing homes.   Maybe you can write a sequel to your book 😅.  Better yet just resign loser\n",
            ". is fighting for  to be held accountable for how he handled nursing homes during the pandemic, even as he continues to pretend like nothing has happened. via    \n",
            " But free pass if you send your grandparents into a Covid riddled senior home or for sexual harassment\n",
            "Is this why  killed majority of patients in nursing homes in NY with COVID  \n",
            " took care of that when he killed majority of those in nursing homes with COVID.\n",
            " Every day your tweets make me so angry. You are such a hypocrite. I have Zero tolerance for hate crimes, sexual harassment, killing the elderly in nursing homes and concealing Covid data from the public so can you just go away already\n"
          ],
          "name": "stdout"
        }
      ]
    },
    {
      "cell_type": "code",
      "metadata": {
        "colab": {
          "base_uri": "https://localhost:8080/",
          "height": 542
        },
        "id": "bUhWyHa4faNT",
        "outputId": "5e7917b6-e3a6-4457-9f35-1c9c404322d2"
      },
      "source": [
        "topic3_neg_list = Topic_3['Text'].tolist()\n",
        "common_words = get_top_n_trigram(topic3_neg_list, 15)\n",
        "\n",
        "df_topic_neg3 = pd.DataFrame(common_words, columns = ['trigram' , 'count'])\n",
        "\n",
        "fig = go.Figure([go.Bar(x=df_topic_neg3['trigram'], y=df_topic_neg3['count'])])\n",
        "fig.update_layout(title=go.layout.Title(text=\"New York - Top 15 Trigrams for Negative Topics 3\"))\n",
        "fig.show()"
      ],
      "execution_count": 7,
      "outputs": [
        {
          "output_type": "display_data",
          "data": {
            "text/html": [
              "<html>\n",
              "<head><meta charset=\"utf-8\" /></head>\n",
              "<body>\n",
              "    <div>\n",
              "            <script src=\"https://cdnjs.cloudflare.com/ajax/libs/mathjax/2.7.5/MathJax.js?config=TeX-AMS-MML_SVG\"></script><script type=\"text/javascript\">if (window.MathJax) {MathJax.Hub.Config({SVG: {font: \"STIX-Web\"}});}</script>\n",
              "                <script type=\"text/javascript\">window.PlotlyConfig = {MathJaxConfig: 'local'};</script>\n",
              "        <script src=\"https://cdn.plot.ly/plotly-latest.min.js\"></script>    \n",
              "            <div id=\"7f586a5b-d9ff-4047-9e74-c42a16e04789\" class=\"plotly-graph-div\" style=\"height:525px; width:100%;\"></div>\n",
              "            <script type=\"text/javascript\">\n",
              "                \n",
              "                    window.PLOTLYENV=window.PLOTLYENV || {};\n",
              "                    \n",
              "                if (document.getElementById(\"7f586a5b-d9ff-4047-9e74-c42a16e04789\")) {\n",
              "                    Plotly.newPlot(\n",
              "                        '7f586a5b-d9ff-4047-9e74-c42a16e04789',\n",
              "                        [{\"type\": \"bar\", \"x\": [\"people die covid\", \"virus survival rate\", \"long term effect\", \"covid death rate\", \"death rate covid\", \"nt care people\", \"virus nt care\", \"covid nt care\", \"high death rate\", \"small business owner\", \"public health crisis\", \"covid wo nt\", \"die covid die\", \"virus wo nt\", \"people wo nt\"], \"y\": [464, 226, 135, 133, 131, 119, 107, 106, 104, 91, 84, 83, 80, 75, 74]}],\n",
              "                        {\"template\": {\"data\": {\"bar\": [{\"error_x\": {\"color\": \"#2a3f5f\"}, \"error_y\": {\"color\": \"#2a3f5f\"}, \"marker\": {\"line\": {\"color\": \"#E5ECF6\", \"width\": 0.5}}, \"type\": \"bar\"}], \"barpolar\": [{\"marker\": {\"line\": {\"color\": \"#E5ECF6\", \"width\": 0.5}}, \"type\": \"barpolar\"}], \"carpet\": [{\"aaxis\": {\"endlinecolor\": \"#2a3f5f\", \"gridcolor\": \"white\", \"linecolor\": \"white\", \"minorgridcolor\": \"white\", \"startlinecolor\": \"#2a3f5f\"}, \"baxis\": {\"endlinecolor\": \"#2a3f5f\", \"gridcolor\": \"white\", \"linecolor\": \"white\", \"minorgridcolor\": \"white\", \"startlinecolor\": \"#2a3f5f\"}, \"type\": \"carpet\"}], \"choropleth\": [{\"colorbar\": {\"outlinewidth\": 0, \"ticks\": \"\"}, \"type\": \"choropleth\"}], \"contour\": [{\"colorbar\": {\"outlinewidth\": 0, \"ticks\": \"\"}, \"colorscale\": [[0.0, \"#0d0887\"], [0.1111111111111111, \"#46039f\"], [0.2222222222222222, \"#7201a8\"], [0.3333333333333333, \"#9c179e\"], [0.4444444444444444, \"#bd3786\"], [0.5555555555555556, \"#d8576b\"], [0.6666666666666666, \"#ed7953\"], [0.7777777777777778, \"#fb9f3a\"], [0.8888888888888888, \"#fdca26\"], [1.0, \"#f0f921\"]], \"type\": \"contour\"}], \"contourcarpet\": [{\"colorbar\": {\"outlinewidth\": 0, \"ticks\": \"\"}, \"type\": \"contourcarpet\"}], \"heatmap\": [{\"colorbar\": {\"outlinewidth\": 0, \"ticks\": \"\"}, \"colorscale\": [[0.0, \"#0d0887\"], [0.1111111111111111, \"#46039f\"], [0.2222222222222222, \"#7201a8\"], [0.3333333333333333, \"#9c179e\"], [0.4444444444444444, \"#bd3786\"], [0.5555555555555556, \"#d8576b\"], [0.6666666666666666, \"#ed7953\"], [0.7777777777777778, \"#fb9f3a\"], [0.8888888888888888, \"#fdca26\"], [1.0, \"#f0f921\"]], \"type\": \"heatmap\"}], \"heatmapgl\": [{\"colorbar\": {\"outlinewidth\": 0, \"ticks\": \"\"}, \"colorscale\": [[0.0, \"#0d0887\"], [0.1111111111111111, \"#46039f\"], [0.2222222222222222, \"#7201a8\"], [0.3333333333333333, \"#9c179e\"], [0.4444444444444444, \"#bd3786\"], [0.5555555555555556, \"#d8576b\"], [0.6666666666666666, \"#ed7953\"], [0.7777777777777778, \"#fb9f3a\"], [0.8888888888888888, \"#fdca26\"], [1.0, \"#f0f921\"]], \"type\": \"heatmapgl\"}], \"histogram\": [{\"marker\": {\"colorbar\": {\"outlinewidth\": 0, \"ticks\": \"\"}}, \"type\": \"histogram\"}], \"histogram2d\": [{\"colorbar\": {\"outlinewidth\": 0, \"ticks\": \"\"}, \"colorscale\": [[0.0, \"#0d0887\"], [0.1111111111111111, \"#46039f\"], [0.2222222222222222, \"#7201a8\"], [0.3333333333333333, \"#9c179e\"], [0.4444444444444444, \"#bd3786\"], [0.5555555555555556, \"#d8576b\"], [0.6666666666666666, \"#ed7953\"], [0.7777777777777778, \"#fb9f3a\"], [0.8888888888888888, \"#fdca26\"], [1.0, \"#f0f921\"]], \"type\": \"histogram2d\"}], \"histogram2dcontour\": [{\"colorbar\": {\"outlinewidth\": 0, \"ticks\": \"\"}, \"colorscale\": [[0.0, \"#0d0887\"], [0.1111111111111111, \"#46039f\"], [0.2222222222222222, \"#7201a8\"], [0.3333333333333333, \"#9c179e\"], [0.4444444444444444, \"#bd3786\"], [0.5555555555555556, \"#d8576b\"], [0.6666666666666666, \"#ed7953\"], [0.7777777777777778, \"#fb9f3a\"], [0.8888888888888888, \"#fdca26\"], [1.0, \"#f0f921\"]], \"type\": \"histogram2dcontour\"}], \"mesh3d\": [{\"colorbar\": {\"outlinewidth\": 0, \"ticks\": \"\"}, \"type\": \"mesh3d\"}], \"parcoords\": [{\"line\": {\"colorbar\": {\"outlinewidth\": 0, \"ticks\": \"\"}}, \"type\": \"parcoords\"}], \"pie\": [{\"automargin\": true, \"type\": \"pie\"}], \"scatter\": [{\"marker\": {\"colorbar\": {\"outlinewidth\": 0, \"ticks\": \"\"}}, \"type\": \"scatter\"}], \"scatter3d\": [{\"line\": {\"colorbar\": {\"outlinewidth\": 0, \"ticks\": \"\"}}, \"marker\": {\"colorbar\": {\"outlinewidth\": 0, \"ticks\": \"\"}}, \"type\": \"scatter3d\"}], \"scattercarpet\": [{\"marker\": {\"colorbar\": {\"outlinewidth\": 0, \"ticks\": \"\"}}, \"type\": \"scattercarpet\"}], \"scattergeo\": [{\"marker\": {\"colorbar\": {\"outlinewidth\": 0, \"ticks\": \"\"}}, \"type\": \"scattergeo\"}], \"scattergl\": [{\"marker\": {\"colorbar\": {\"outlinewidth\": 0, \"ticks\": \"\"}}, \"type\": \"scattergl\"}], \"scattermapbox\": [{\"marker\": {\"colorbar\": {\"outlinewidth\": 0, \"ticks\": \"\"}}, \"type\": \"scattermapbox\"}], \"scatterpolar\": [{\"marker\": {\"colorbar\": {\"outlinewidth\": 0, \"ticks\": \"\"}}, \"type\": \"scatterpolar\"}], \"scatterpolargl\": [{\"marker\": {\"colorbar\": {\"outlinewidth\": 0, \"ticks\": \"\"}}, \"type\": \"scatterpolargl\"}], \"scatterternary\": [{\"marker\": {\"colorbar\": {\"outlinewidth\": 0, \"ticks\": \"\"}}, \"type\": \"scatterternary\"}], \"surface\": [{\"colorbar\": {\"outlinewidth\": 0, \"ticks\": \"\"}, \"colorscale\": [[0.0, \"#0d0887\"], [0.1111111111111111, \"#46039f\"], [0.2222222222222222, \"#7201a8\"], [0.3333333333333333, \"#9c179e\"], [0.4444444444444444, \"#bd3786\"], [0.5555555555555556, \"#d8576b\"], [0.6666666666666666, \"#ed7953\"], [0.7777777777777778, \"#fb9f3a\"], [0.8888888888888888, \"#fdca26\"], [1.0, \"#f0f921\"]], \"type\": \"surface\"}], \"table\": [{\"cells\": {\"fill\": {\"color\": \"#EBF0F8\"}, \"line\": {\"color\": \"white\"}}, \"header\": {\"fill\": {\"color\": \"#C8D4E3\"}, \"line\": {\"color\": \"white\"}}, \"type\": \"table\"}]}, \"layout\": {\"annotationdefaults\": {\"arrowcolor\": \"#2a3f5f\", \"arrowhead\": 0, \"arrowwidth\": 1}, \"coloraxis\": {\"colorbar\": {\"outlinewidth\": 0, \"ticks\": \"\"}}, \"colorscale\": {\"diverging\": [[0, \"#8e0152\"], [0.1, \"#c51b7d\"], [0.2, \"#de77ae\"], [0.3, \"#f1b6da\"], [0.4, \"#fde0ef\"], [0.5, \"#f7f7f7\"], [0.6, \"#e6f5d0\"], [0.7, \"#b8e186\"], [0.8, \"#7fbc41\"], [0.9, \"#4d9221\"], [1, \"#276419\"]], \"sequential\": [[0.0, \"#0d0887\"], [0.1111111111111111, \"#46039f\"], [0.2222222222222222, \"#7201a8\"], [0.3333333333333333, \"#9c179e\"], [0.4444444444444444, \"#bd3786\"], [0.5555555555555556, \"#d8576b\"], [0.6666666666666666, \"#ed7953\"], [0.7777777777777778, \"#fb9f3a\"], [0.8888888888888888, \"#fdca26\"], [1.0, \"#f0f921\"]], \"sequentialminus\": [[0.0, \"#0d0887\"], [0.1111111111111111, \"#46039f\"], [0.2222222222222222, \"#7201a8\"], [0.3333333333333333, \"#9c179e\"], [0.4444444444444444, \"#bd3786\"], [0.5555555555555556, \"#d8576b\"], [0.6666666666666666, \"#ed7953\"], [0.7777777777777778, \"#fb9f3a\"], [0.8888888888888888, \"#fdca26\"], [1.0, \"#f0f921\"]]}, \"colorway\": [\"#636efa\", \"#EF553B\", \"#00cc96\", \"#ab63fa\", \"#FFA15A\", \"#19d3f3\", \"#FF6692\", \"#B6E880\", \"#FF97FF\", \"#FECB52\"], \"font\": {\"color\": \"#2a3f5f\"}, \"geo\": {\"bgcolor\": \"white\", \"lakecolor\": \"white\", \"landcolor\": \"#E5ECF6\", \"showlakes\": true, \"showland\": true, \"subunitcolor\": \"white\"}, \"hoverlabel\": {\"align\": \"left\"}, \"hovermode\": \"closest\", \"mapbox\": {\"style\": \"light\"}, \"paper_bgcolor\": \"white\", \"plot_bgcolor\": \"#E5ECF6\", \"polar\": {\"angularaxis\": {\"gridcolor\": \"white\", \"linecolor\": \"white\", \"ticks\": \"\"}, \"bgcolor\": \"#E5ECF6\", \"radialaxis\": {\"gridcolor\": \"white\", \"linecolor\": \"white\", \"ticks\": \"\"}}, \"scene\": {\"xaxis\": {\"backgroundcolor\": \"#E5ECF6\", \"gridcolor\": \"white\", \"gridwidth\": 2, \"linecolor\": \"white\", \"showbackground\": true, \"ticks\": \"\", \"zerolinecolor\": \"white\"}, \"yaxis\": {\"backgroundcolor\": \"#E5ECF6\", \"gridcolor\": \"white\", \"gridwidth\": 2, \"linecolor\": \"white\", \"showbackground\": true, \"ticks\": \"\", \"zerolinecolor\": \"white\"}, \"zaxis\": {\"backgroundcolor\": \"#E5ECF6\", \"gridcolor\": \"white\", \"gridwidth\": 2, \"linecolor\": \"white\", \"showbackground\": true, \"ticks\": \"\", \"zerolinecolor\": \"white\"}}, \"shapedefaults\": {\"line\": {\"color\": \"#2a3f5f\"}}, \"ternary\": {\"aaxis\": {\"gridcolor\": \"white\", \"linecolor\": \"white\", \"ticks\": \"\"}, \"baxis\": {\"gridcolor\": \"white\", \"linecolor\": \"white\", \"ticks\": \"\"}, \"bgcolor\": \"#E5ECF6\", \"caxis\": {\"gridcolor\": \"white\", \"linecolor\": \"white\", \"ticks\": \"\"}}, \"title\": {\"x\": 0.05}, \"xaxis\": {\"automargin\": true, \"gridcolor\": \"white\", \"linecolor\": \"white\", \"ticks\": \"\", \"title\": {\"standoff\": 15}, \"zerolinecolor\": \"white\", \"zerolinewidth\": 2}, \"yaxis\": {\"automargin\": true, \"gridcolor\": \"white\", \"linecolor\": \"white\", \"ticks\": \"\", \"title\": {\"standoff\": 15}, \"zerolinecolor\": \"white\", \"zerolinewidth\": 2}}}, \"title\": {\"text\": \"New York - Top 15 Trigrams for Negative Topics 3\"}},\n",
              "                        {\"responsive\": true}\n",
              "                    ).then(function(){\n",
              "                            \n",
              "var gd = document.getElementById('7f586a5b-d9ff-4047-9e74-c42a16e04789');\n",
              "var x = new MutationObserver(function (mutations, observer) {{\n",
              "        var display = window.getComputedStyle(gd).display;\n",
              "        if (!display || display === 'none') {{\n",
              "            console.log([gd, 'removed!']);\n",
              "            Plotly.purge(gd);\n",
              "            observer.disconnect();\n",
              "        }}\n",
              "}});\n",
              "\n",
              "// Listen for the removal of the full notebook cells\n",
              "var notebookContainer = gd.closest('#notebook-container');\n",
              "if (notebookContainer) {{\n",
              "    x.observe(notebookContainer, {childList: true});\n",
              "}}\n",
              "\n",
              "// Listen for the clearing of the current output cell\n",
              "var outputEl = gd.closest('.output');\n",
              "if (outputEl) {{\n",
              "    x.observe(outputEl, {childList: true});\n",
              "}}\n",
              "\n",
              "                        })\n",
              "                };\n",
              "                \n",
              "            </script>\n",
              "        </div>\n",
              "</body>\n",
              "</html>"
            ]
          },
          "metadata": {}
        }
      ]
    },
    {
      "cell_type": "code",
      "metadata": {
        "colab": {
          "base_uri": "https://localhost:8080/"
        },
        "id": "2u6yclXDS1id",
        "outputId": "1ca20446-0b72-467d-e9a2-2518dc5820ab"
      },
      "source": [
        "for t in Topic_3['Text_Unprocessed'][:2000]:\n",
        "  if 'social' in t:\n",
        "    print(t)"
      ],
      "execution_count": null,
      "outputs": [
        {
          "output_type": "stream",
          "text": [
            "  (Tape dated February , .) People were riding crowded subways getting sick, and Trump just stayed quiet, so as not to hurt the economy he needed to win reelection.  Later he called COVID a Democratic hoax, mocked  masks, and social distancing.  He is a premeditated murderer.\n",
            " Covid coming from a lab was banned from social media. Now it is not. Lets just see where this election stuff ends up\n",
            "    Issue is my son is an only child speech delayed and lacks socializing because of Covid. So we were so excited to start him in this program. Its actually devastating\n",
            " The American people who are suffering in the pandemic need$ per month to survive and$ per month for all social security recipients per month to get out of poverty\n",
            "On the anniversary of the killing of . All  NYC Dem. Candidates for Mayor will be questioned on how to move NYC forward on issues concerning civil rights, social justice and closing the racial gap that has left many New Yorkers in poverty in the wake of the pandemic.  \n",
            " The other  are loading up their moving van and heading south, youve destroyed NYS financially pre pandemic, implemented radical socialist legislation, taxing the crap out of the middle class and totally mismanaged the pandemic\n",
            "  His UBI proposal is terrible and just a way to gut social services. His police stance is awful. His stance on vendors is awful. His stance on Israel is awful.   He ran away from NYC during the pandemic and now wants to be mayor GMAFB.  Now go jerk off to your Yang campaign poster.\n",
            " A stimulus plan for direct payments to Americans for $. monthly, retroactive from March  is long over due. Some of us will never get out of the debt  has brought to us for staying home, social distancing and having to stock essential items to survive Covid.\n",
            " Correction: The invented Covid hysteria has done its job to open the door to push our radical socialist agenda! We see you 👀!\n",
            "    Nancy Pelosi and Chuck Schumer are both a disgrace to their job and this country. Pelosi: no vote on border wall, tear up the state of the union speech(Childish and shows her attitude), held up stimulus for  months for political purposes, violated CA Covid  reg., socialist!!!\n",
            "  That was no Covid relief bill.  It was a big, bold payoff to his campaign donors that helped elect him and the socialists he is afraid of.  AMERICA WILL NEVER BE    A SOCIALIST COUNTRY!\n",
            "  How come you didnt say that to former President Trump He has done worse,and tried to pretend Covid didnt exist. At least Governor Cuomo had orchestrated a plan of action. Go find the Trump social media site, if you can.\n",
            "                           What is wrong with  supporting social distancing to keep  away from more  dog shit during   before such shit gets slammed more in court and not just for being a hairbag   \n",
            " We close to defeating the pandemic  The borders are open and illegal aliens are pouring into the country. Many of them positive for covid. Explain that. You cant, can you  You just use socialist globalist talking points. Yes, I said illegal aliens.\n",
            "  Laws exist covering the illegal acts. This bill is the socialists pushing censorship just as Xi would want. Thats why their example is China virus being used to describe covid. Same name convention created Lymes disease. Stop attacking the Constitution. \n",
            "   Laws exist covering the illegal acts. This bill is the socialists pushing censorship just as Xi would want. Thats why their example is China virus being used to describe covid. Same name convention created Lymes disease. Stop attacking the Constitution. \n"
          ],
          "name": "stdout"
        }
      ]
    },
    {
      "cell_type": "code",
      "metadata": {
        "colab": {
          "base_uri": "https://localhost:8080/"
        },
        "id": "j-d2L8jATVSE",
        "outputId": "03797c6b-d9f4-420a-efcf-6fa64832e791"
      },
      "source": [
        "for t in Topic_3['Text_Unprocessed'][:1000]:\n",
        "  if 'lock' in t:\n",
        "    print(t)"
      ],
      "execution_count": null,
      "outputs": [
        {
          "output_type": "stream",
          "text": [
            " Then why have you Blocked the  in Middleclass EIDL Grants adding Targeted Location discrimination during Pandemic.   is a mess and  blocking vote on Floor of S . You have failed hardworking Americans .Weve learned never trust Congress\n",
            ".      Is China doing business with HUNTER BIDEN  Did not China create the C virus  Is not Pelosi blocking Chinese investigations  Whats going on here. ARE ANY OF YOU ON THE TAKE  Holy Shit.  Do your job!\n",
            "              You mean, the Colombian comunists politicians created chaos, hiring terrorists for destroying the city, attacking police officers and roadblocks, preventing people from having food, basic supplies for living, medical supplies for covid patients and killing innocent people.Right\n",
            " People stood in line + hours MID PANDEMIC to deliver you the majority.  if Sen Dems dont get rid of filibuster and get shit done, this will likely be the last majority dems get. McConnell blocked Obama every time he could. He isnt even leader and here we are again.\n",
            "   If it werent for the GQP blocking everything in the Senate, wed be so much further. Fortunately the House has passed the most progressive legislation, addressing so many critical issues. Plus dems got the covid relief bill through, which cuts child poverty in half. That matters\n",
            " Hey  Mitchs only goal is to block all progress for President Biden. There is no bridging that partisan divide. Stop wasting our time. The old days are gone. Americans have just emerged from a global pandemic and we have made our priorities clear. Do your job!\n",
            "  What the HECK is wrong Republican Party You want a commission to probe Chinas part in the virus. Okreasonable.But I and millions of other people want to know how Jan  happened! WHY are you blocking that You know HE created it! Stop the stupidity! Do whats rightNOW!\n",
            "  WHERE ARE YOU Youre maj ldr of Senate for Gods sake ACT LIKE IT you look weak. Our democracy is in peril. Youre up against evil/corruption en masse w/GOP. Theyre blocking / Comm, all legis, even taking credit for Covid bill. Speak out!  \n",
            "   Cuz Bezos WaPo and Biden promoted  while  and   up @ AMAZON for forced  COVID lockdown deliveries  Next step () rationed deliveries via Amazon distribution centers, those bought dirt cheap by corps forced out due to  as ...  \n",
            " Why do you continue to ask your judges to block nuisance and pre pandemic cases How much is your big real estate donors paying you\n",
            " Can we remove this rat from office yet   is a disgrace and belongs behind bars for his criminal acts during COVID: Retirement home scandal and destruction of businesses not yo forget his attempts to block your god given rights as a US citizen...\n",
            "  This is no coincidence. The virus was Unleashed from a Wuhan lab and the Planned lockdowns to destroy Trumps presidency.   Operation Wuhan went into effect as soon as Hillary lost the election.  They got away with it. We will see this every time a GOP is elected president!\n",
            " I was temporarily living in the NYC area when the pandemic broke.. I love that city.. no place like it in the world.. and Ive been around the block a time or two .. AMERICA.. no place like home..\n",
            "   Wait what Covid hate crime wth is that Will that help the store owners or minority communities destroyed by lockdowns or our kids that are now years behind Chinese education as they creep to dominate us No, I bet not \n",
            " Great! So you can lock up criminals in jail without worried about Covid. Then we will have much safer city. Stop $ bail! We  are hampering criminals! Provide hotel and meals. When they want some exercise they beat up seniors! Jumping turnstile is another exercise! \n",
            "Israel attacks media outlets, Drs without Brdrs,  hospitals and the Dr heading the Covid response(+his  children).The US, in turn, blocks the UN Security Cncil for a rd time from issuing a statement calling for a ceasefire.     \n",
            "         You misspelled DEMOCRATS are holding back millions of Americans!   Stop with your Covid lockdowns and race baiting and let America breathe again.   Everything else will fix itself\n",
            "    The poor  the migrant workers and the people in the informal economy  were the worst hit. For them it was either starvation or Covid. The salaried upper middle class were the ones that called for strict lockdowns during the first wave.\n",
            "Prosecute Fauci/WHO/CCP for part in COVID/ lying=lethality/test cycles/lockdowns/masks.CLASS ACTION all nations. Demand financial remedy all countries harmed by crimes.A real POTUS would        \n",
            " Prosecute Fauci/WHO/CCP for part in COVID/ lying=lethality/test cycles/lockdowns/masks.CLASS ACTION all nations. Demand financial remedy all countries harmed by crimes.A real POTUS would        \n",
            "  The lowincome community restriction is ridiculous. This should be for all small businesses with a hard hit by the covid. My business got  hardhit but got denied. Im a block away from the lowincome area while I do all business there. Does this make sense \n",
            " Who is this we youre talking about How about asking residents and businesses if they want a  hour/  day block party in their neighborhoods. People want to get back to normal and instead  says never waste a good pandemic to force this crap on people.\n",
            " Is this  way of feeding the people who have all lost their income due to unnecessary covid lockdowns\n",
            " You say former President is undermining our democracy. It is you. You have done nothing to stop Governors and Mayors from their continued lock down all in the name of COVID. However, when people riot in the streets you remain silent. TIME FOR YOU TO GO.\n",
            "  What was your opinion of the filibuster when Schumer was using it less than a year ago to block Covid aid and police reform\n"
          ],
          "name": "stdout"
        }
      ]
    },
    {
      "cell_type": "code",
      "metadata": {
        "id": "zF4sIdCETifc",
        "colab": {
          "base_uri": "https://localhost:8080/",
          "height": 542
        },
        "outputId": "f1f132b7-8b31-49e3-adc3-838be833cac3"
      },
      "source": [
        "topic4_neg_list = Topic_4['Text'].tolist()\n",
        "common_words = get_top_n_trigram(topic4_neg_list, 15)\n",
        "\n",
        "df_topic_neg4 = pd.DataFrame(common_words, columns = ['trigram' , 'count'])\n",
        "\n",
        "fig = go.Figure([go.Bar(x=df_topic_neg4['trigram'], y=df_topic_neg4['count'])])\n",
        "fig.update_layout(title=go.layout.Title(text=\"New York - Top 15 Trigrams for Negative Topics 4\"))\n",
        "fig.show()"
      ],
      "execution_count": 6,
      "outputs": [
        {
          "output_type": "display_data",
          "data": {
            "text/html": [
              "<html>\n",
              "<head><meta charset=\"utf-8\" /></head>\n",
              "<body>\n",
              "    <div>\n",
              "            <script src=\"https://cdnjs.cloudflare.com/ajax/libs/mathjax/2.7.5/MathJax.js?config=TeX-AMS-MML_SVG\"></script><script type=\"text/javascript\">if (window.MathJax) {MathJax.Hub.Config({SVG: {font: \"STIX-Web\"}});}</script>\n",
              "                <script type=\"text/javascript\">window.PlotlyConfig = {MathJaxConfig: 'local'};</script>\n",
              "        <script src=\"https://cdn.plot.ly/plotly-latest.min.js\"></script>    \n",
              "            <div id=\"6870ea1d-823a-489c-98c8-99a046d8bf34\" class=\"plotly-graph-div\" style=\"height:525px; width:100%;\"></div>\n",
              "            <script type=\"text/javascript\">\n",
              "                \n",
              "                    window.PLOTLYENV=window.PLOTLYENV || {};\n",
              "                    \n",
              "                if (document.getElementById(\"6870ea1d-823a-489c-98c8-99a046d8bf34\")) {\n",
              "                    Plotly.newPlot(\n",
              "                        '6870ea1d-823a-489c-98c8-99a046d8bf34',\n",
              "                        [{\"type\": \"bar\", \"x\": [\"patient nursing home\", \"covid patient nursing\", \"patient nurse home\", \"send covid patient\", \"nursing home covid\", \"covid nursing home\", \"covid patient nurse\", \"force nursing home\", \"covid positive patient\", \"nursing home kill\", \"people nursing home\", \"nursing home death\", \"home covid patient\", \"force covid patient\", \"home kill thousand\"], \"y\": [8407, 6573, 4005, 3533, 3042, 2566, 2474, 2221, 2147, 1871, 1745, 1450, 1432, 1103, 1011]}],\n",
              "                        {\"template\": {\"data\": {\"bar\": [{\"error_x\": {\"color\": \"#2a3f5f\"}, \"error_y\": {\"color\": \"#2a3f5f\"}, \"marker\": {\"line\": {\"color\": \"#E5ECF6\", \"width\": 0.5}}, \"type\": \"bar\"}], \"barpolar\": [{\"marker\": {\"line\": {\"color\": \"#E5ECF6\", \"width\": 0.5}}, \"type\": \"barpolar\"}], \"carpet\": [{\"aaxis\": {\"endlinecolor\": \"#2a3f5f\", \"gridcolor\": \"white\", \"linecolor\": \"white\", \"minorgridcolor\": \"white\", \"startlinecolor\": \"#2a3f5f\"}, \"baxis\": {\"endlinecolor\": \"#2a3f5f\", \"gridcolor\": \"white\", \"linecolor\": \"white\", \"minorgridcolor\": \"white\", \"startlinecolor\": \"#2a3f5f\"}, \"type\": \"carpet\"}], \"choropleth\": [{\"colorbar\": {\"outlinewidth\": 0, \"ticks\": \"\"}, \"type\": \"choropleth\"}], \"contour\": [{\"colorbar\": {\"outlinewidth\": 0, \"ticks\": \"\"}, \"colorscale\": [[0.0, \"#0d0887\"], [0.1111111111111111, \"#46039f\"], [0.2222222222222222, \"#7201a8\"], [0.3333333333333333, \"#9c179e\"], [0.4444444444444444, \"#bd3786\"], [0.5555555555555556, \"#d8576b\"], [0.6666666666666666, \"#ed7953\"], [0.7777777777777778, \"#fb9f3a\"], [0.8888888888888888, \"#fdca26\"], [1.0, \"#f0f921\"]], \"type\": \"contour\"}], \"contourcarpet\": [{\"colorbar\": {\"outlinewidth\": 0, \"ticks\": \"\"}, \"type\": \"contourcarpet\"}], \"heatmap\": [{\"colorbar\": {\"outlinewidth\": 0, \"ticks\": \"\"}, \"colorscale\": [[0.0, \"#0d0887\"], [0.1111111111111111, \"#46039f\"], [0.2222222222222222, \"#7201a8\"], [0.3333333333333333, \"#9c179e\"], [0.4444444444444444, \"#bd3786\"], [0.5555555555555556, \"#d8576b\"], [0.6666666666666666, \"#ed7953\"], [0.7777777777777778, \"#fb9f3a\"], [0.8888888888888888, \"#fdca26\"], [1.0, \"#f0f921\"]], \"type\": \"heatmap\"}], \"heatmapgl\": [{\"colorbar\": {\"outlinewidth\": 0, \"ticks\": \"\"}, \"colorscale\": [[0.0, \"#0d0887\"], [0.1111111111111111, \"#46039f\"], [0.2222222222222222, \"#7201a8\"], [0.3333333333333333, \"#9c179e\"], [0.4444444444444444, \"#bd3786\"], [0.5555555555555556, \"#d8576b\"], [0.6666666666666666, \"#ed7953\"], [0.7777777777777778, \"#fb9f3a\"], [0.8888888888888888, \"#fdca26\"], [1.0, \"#f0f921\"]], \"type\": \"heatmapgl\"}], \"histogram\": [{\"marker\": {\"colorbar\": {\"outlinewidth\": 0, \"ticks\": \"\"}}, \"type\": \"histogram\"}], \"histogram2d\": [{\"colorbar\": {\"outlinewidth\": 0, \"ticks\": \"\"}, \"colorscale\": [[0.0, \"#0d0887\"], [0.1111111111111111, \"#46039f\"], [0.2222222222222222, \"#7201a8\"], [0.3333333333333333, \"#9c179e\"], [0.4444444444444444, \"#bd3786\"], [0.5555555555555556, \"#d8576b\"], [0.6666666666666666, \"#ed7953\"], [0.7777777777777778, \"#fb9f3a\"], [0.8888888888888888, \"#fdca26\"], [1.0, \"#f0f921\"]], \"type\": \"histogram2d\"}], \"histogram2dcontour\": [{\"colorbar\": {\"outlinewidth\": 0, \"ticks\": \"\"}, \"colorscale\": [[0.0, \"#0d0887\"], [0.1111111111111111, \"#46039f\"], [0.2222222222222222, \"#7201a8\"], [0.3333333333333333, \"#9c179e\"], [0.4444444444444444, \"#bd3786\"], [0.5555555555555556, \"#d8576b\"], [0.6666666666666666, \"#ed7953\"], [0.7777777777777778, \"#fb9f3a\"], [0.8888888888888888, \"#fdca26\"], [1.0, \"#f0f921\"]], \"type\": \"histogram2dcontour\"}], \"mesh3d\": [{\"colorbar\": {\"outlinewidth\": 0, \"ticks\": \"\"}, \"type\": \"mesh3d\"}], \"parcoords\": [{\"line\": {\"colorbar\": {\"outlinewidth\": 0, \"ticks\": \"\"}}, \"type\": \"parcoords\"}], \"pie\": [{\"automargin\": true, \"type\": \"pie\"}], \"scatter\": [{\"marker\": {\"colorbar\": {\"outlinewidth\": 0, \"ticks\": \"\"}}, \"type\": \"scatter\"}], \"scatter3d\": [{\"line\": {\"colorbar\": {\"outlinewidth\": 0, \"ticks\": \"\"}}, \"marker\": {\"colorbar\": {\"outlinewidth\": 0, \"ticks\": \"\"}}, \"type\": \"scatter3d\"}], \"scattercarpet\": [{\"marker\": {\"colorbar\": {\"outlinewidth\": 0, \"ticks\": \"\"}}, \"type\": \"scattercarpet\"}], \"scattergeo\": [{\"marker\": {\"colorbar\": {\"outlinewidth\": 0, \"ticks\": \"\"}}, \"type\": \"scattergeo\"}], \"scattergl\": [{\"marker\": {\"colorbar\": {\"outlinewidth\": 0, \"ticks\": \"\"}}, \"type\": \"scattergl\"}], \"scattermapbox\": [{\"marker\": {\"colorbar\": {\"outlinewidth\": 0, \"ticks\": \"\"}}, \"type\": \"scattermapbox\"}], \"scatterpolar\": [{\"marker\": {\"colorbar\": {\"outlinewidth\": 0, \"ticks\": \"\"}}, \"type\": \"scatterpolar\"}], \"scatterpolargl\": [{\"marker\": {\"colorbar\": {\"outlinewidth\": 0, \"ticks\": \"\"}}, \"type\": \"scatterpolargl\"}], \"scatterternary\": [{\"marker\": {\"colorbar\": {\"outlinewidth\": 0, \"ticks\": \"\"}}, \"type\": \"scatterternary\"}], \"surface\": [{\"colorbar\": {\"outlinewidth\": 0, \"ticks\": \"\"}, \"colorscale\": [[0.0, \"#0d0887\"], [0.1111111111111111, \"#46039f\"], [0.2222222222222222, \"#7201a8\"], [0.3333333333333333, \"#9c179e\"], [0.4444444444444444, \"#bd3786\"], [0.5555555555555556, \"#d8576b\"], [0.6666666666666666, \"#ed7953\"], [0.7777777777777778, \"#fb9f3a\"], [0.8888888888888888, \"#fdca26\"], [1.0, \"#f0f921\"]], \"type\": \"surface\"}], \"table\": [{\"cells\": {\"fill\": {\"color\": \"#EBF0F8\"}, \"line\": {\"color\": \"white\"}}, \"header\": {\"fill\": {\"color\": \"#C8D4E3\"}, \"line\": {\"color\": \"white\"}}, \"type\": \"table\"}]}, \"layout\": {\"annotationdefaults\": {\"arrowcolor\": \"#2a3f5f\", \"arrowhead\": 0, \"arrowwidth\": 1}, \"coloraxis\": {\"colorbar\": {\"outlinewidth\": 0, \"ticks\": \"\"}}, \"colorscale\": {\"diverging\": [[0, \"#8e0152\"], [0.1, \"#c51b7d\"], [0.2, \"#de77ae\"], [0.3, \"#f1b6da\"], [0.4, \"#fde0ef\"], [0.5, \"#f7f7f7\"], [0.6, \"#e6f5d0\"], [0.7, \"#b8e186\"], [0.8, \"#7fbc41\"], [0.9, \"#4d9221\"], [1, \"#276419\"]], \"sequential\": [[0.0, \"#0d0887\"], [0.1111111111111111, \"#46039f\"], [0.2222222222222222, \"#7201a8\"], [0.3333333333333333, \"#9c179e\"], [0.4444444444444444, \"#bd3786\"], [0.5555555555555556, \"#d8576b\"], [0.6666666666666666, \"#ed7953\"], [0.7777777777777778, \"#fb9f3a\"], [0.8888888888888888, \"#fdca26\"], [1.0, \"#f0f921\"]], \"sequentialminus\": [[0.0, \"#0d0887\"], [0.1111111111111111, \"#46039f\"], [0.2222222222222222, \"#7201a8\"], [0.3333333333333333, \"#9c179e\"], [0.4444444444444444, \"#bd3786\"], [0.5555555555555556, \"#d8576b\"], [0.6666666666666666, \"#ed7953\"], [0.7777777777777778, \"#fb9f3a\"], [0.8888888888888888, \"#fdca26\"], [1.0, \"#f0f921\"]]}, \"colorway\": [\"#636efa\", \"#EF553B\", \"#00cc96\", \"#ab63fa\", \"#FFA15A\", \"#19d3f3\", \"#FF6692\", \"#B6E880\", \"#FF97FF\", \"#FECB52\"], \"font\": {\"color\": \"#2a3f5f\"}, \"geo\": {\"bgcolor\": \"white\", \"lakecolor\": \"white\", \"landcolor\": \"#E5ECF6\", \"showlakes\": true, \"showland\": true, \"subunitcolor\": \"white\"}, \"hoverlabel\": {\"align\": \"left\"}, \"hovermode\": \"closest\", \"mapbox\": {\"style\": \"light\"}, \"paper_bgcolor\": \"white\", \"plot_bgcolor\": \"#E5ECF6\", \"polar\": {\"angularaxis\": {\"gridcolor\": \"white\", \"linecolor\": \"white\", \"ticks\": \"\"}, \"bgcolor\": \"#E5ECF6\", \"radialaxis\": {\"gridcolor\": \"white\", \"linecolor\": \"white\", \"ticks\": \"\"}}, \"scene\": {\"xaxis\": {\"backgroundcolor\": \"#E5ECF6\", \"gridcolor\": \"white\", \"gridwidth\": 2, \"linecolor\": \"white\", \"showbackground\": true, \"ticks\": \"\", \"zerolinecolor\": \"white\"}, \"yaxis\": {\"backgroundcolor\": \"#E5ECF6\", \"gridcolor\": \"white\", \"gridwidth\": 2, \"linecolor\": \"white\", \"showbackground\": true, \"ticks\": \"\", \"zerolinecolor\": \"white\"}, \"zaxis\": {\"backgroundcolor\": \"#E5ECF6\", \"gridcolor\": \"white\", \"gridwidth\": 2, \"linecolor\": \"white\", \"showbackground\": true, \"ticks\": \"\", \"zerolinecolor\": \"white\"}}, \"shapedefaults\": {\"line\": {\"color\": \"#2a3f5f\"}}, \"ternary\": {\"aaxis\": {\"gridcolor\": \"white\", \"linecolor\": \"white\", \"ticks\": \"\"}, \"baxis\": {\"gridcolor\": \"white\", \"linecolor\": \"white\", \"ticks\": \"\"}, \"bgcolor\": \"#E5ECF6\", \"caxis\": {\"gridcolor\": \"white\", \"linecolor\": \"white\", \"ticks\": \"\"}}, \"title\": {\"x\": 0.05}, \"xaxis\": {\"automargin\": true, \"gridcolor\": \"white\", \"linecolor\": \"white\", \"ticks\": \"\", \"title\": {\"standoff\": 15}, \"zerolinecolor\": \"white\", \"zerolinewidth\": 2}, \"yaxis\": {\"automargin\": true, \"gridcolor\": \"white\", \"linecolor\": \"white\", \"ticks\": \"\", \"title\": {\"standoff\": 15}, \"zerolinecolor\": \"white\", \"zerolinewidth\": 2}}}, \"title\": {\"text\": \"New York - Top 15 Trigrams for Negative Topics 4\"}},\n",
              "                        {\"responsive\": true}\n",
              "                    ).then(function(){\n",
              "                            \n",
              "var gd = document.getElementById('6870ea1d-823a-489c-98c8-99a046d8bf34');\n",
              "var x = new MutationObserver(function (mutations, observer) {{\n",
              "        var display = window.getComputedStyle(gd).display;\n",
              "        if (!display || display === 'none') {{\n",
              "            console.log([gd, 'removed!']);\n",
              "            Plotly.purge(gd);\n",
              "            observer.disconnect();\n",
              "        }}\n",
              "}});\n",
              "\n",
              "// Listen for the removal of the full notebook cells\n",
              "var notebookContainer = gd.closest('#notebook-container');\n",
              "if (notebookContainer) {{\n",
              "    x.observe(notebookContainer, {childList: true});\n",
              "}}\n",
              "\n",
              "// Listen for the clearing of the current output cell\n",
              "var outputEl = gd.closest('.output');\n",
              "if (outputEl) {{\n",
              "    x.observe(outputEl, {childList: true});\n",
              "}}\n",
              "\n",
              "                        })\n",
              "                };\n",
              "                \n",
              "            </script>\n",
              "        </div>\n",
              "</body>\n",
              "</html>"
            ]
          },
          "metadata": {}
        }
      ]
    },
    {
      "cell_type": "code",
      "metadata": {
        "colab": {
          "base_uri": "https://localhost:8080/",
          "height": 542
        },
        "id": "df6D5YDGfsw-",
        "outputId": "17c50f72-86cd-4de4-d71c-4a113938aa8f"
      },
      "source": [
        "topic5_neg_list = Topic_5['Text'].tolist()\n",
        "common_words = get_top_n_trigram(topic3_neg_list, 15)\n",
        "\n",
        "df_topic_neg5 = pd.DataFrame(common_words, columns = ['trigram' , 'count'])\n",
        "\n",
        "fig = go.Figure([go.Bar(x=df_topic_neg5['trigram'], y=df_topic_neg5['count'])])\n",
        "fig.update_layout(title=go.layout.Title(text=\"New York - Top 15 Trigrams for Negative Topics 5\"))\n",
        "fig.show()"
      ],
      "execution_count": 8,
      "outputs": [
        {
          "output_type": "display_data",
          "data": {
            "text/html": [
              "<html>\n",
              "<head><meta charset=\"utf-8\" /></head>\n",
              "<body>\n",
              "    <div>\n",
              "            <script src=\"https://cdnjs.cloudflare.com/ajax/libs/mathjax/2.7.5/MathJax.js?config=TeX-AMS-MML_SVG\"></script><script type=\"text/javascript\">if (window.MathJax) {MathJax.Hub.Config({SVG: {font: \"STIX-Web\"}});}</script>\n",
              "                <script type=\"text/javascript\">window.PlotlyConfig = {MathJaxConfig: 'local'};</script>\n",
              "        <script src=\"https://cdn.plot.ly/plotly-latest.min.js\"></script>    \n",
              "            <div id=\"92e5e490-be9e-4ec4-814d-b8d5fc436ea8\" class=\"plotly-graph-div\" style=\"height:525px; width:100%;\"></div>\n",
              "            <script type=\"text/javascript\">\n",
              "                \n",
              "                    window.PLOTLYENV=window.PLOTLYENV || {};\n",
              "                    \n",
              "                if (document.getElementById(\"92e5e490-be9e-4ec4-814d-b8d5fc436ea8\")) {\n",
              "                    Plotly.newPlot(\n",
              "                        '92e5e490-be9e-4ec4-814d-b8d5fc436ea8',\n",
              "                        [{\"type\": \"bar\", \"x\": [\"people die covid\", \"virus survival rate\", \"long term effect\", \"covid death rate\", \"death rate covid\", \"nt care people\", \"virus nt care\", \"covid nt care\", \"high death rate\", \"small business owner\", \"public health crisis\", \"covid wo nt\", \"die covid die\", \"virus wo nt\", \"people wo nt\"], \"y\": [464, 226, 135, 133, 131, 119, 107, 106, 104, 91, 84, 83, 80, 75, 74]}],\n",
              "                        {\"template\": {\"data\": {\"bar\": [{\"error_x\": {\"color\": \"#2a3f5f\"}, \"error_y\": {\"color\": \"#2a3f5f\"}, \"marker\": {\"line\": {\"color\": \"#E5ECF6\", \"width\": 0.5}}, \"type\": \"bar\"}], \"barpolar\": [{\"marker\": {\"line\": {\"color\": \"#E5ECF6\", \"width\": 0.5}}, \"type\": \"barpolar\"}], \"carpet\": [{\"aaxis\": {\"endlinecolor\": \"#2a3f5f\", \"gridcolor\": \"white\", \"linecolor\": \"white\", \"minorgridcolor\": \"white\", \"startlinecolor\": \"#2a3f5f\"}, \"baxis\": {\"endlinecolor\": \"#2a3f5f\", \"gridcolor\": \"white\", \"linecolor\": \"white\", \"minorgridcolor\": \"white\", \"startlinecolor\": \"#2a3f5f\"}, \"type\": \"carpet\"}], \"choropleth\": [{\"colorbar\": {\"outlinewidth\": 0, \"ticks\": \"\"}, \"type\": \"choropleth\"}], \"contour\": [{\"colorbar\": {\"outlinewidth\": 0, \"ticks\": \"\"}, \"colorscale\": [[0.0, \"#0d0887\"], [0.1111111111111111, \"#46039f\"], [0.2222222222222222, \"#7201a8\"], [0.3333333333333333, \"#9c179e\"], [0.4444444444444444, \"#bd3786\"], [0.5555555555555556, \"#d8576b\"], [0.6666666666666666, \"#ed7953\"], [0.7777777777777778, \"#fb9f3a\"], [0.8888888888888888, \"#fdca26\"], [1.0, \"#f0f921\"]], \"type\": \"contour\"}], \"contourcarpet\": [{\"colorbar\": {\"outlinewidth\": 0, \"ticks\": \"\"}, \"type\": \"contourcarpet\"}], \"heatmap\": [{\"colorbar\": {\"outlinewidth\": 0, \"ticks\": \"\"}, \"colorscale\": [[0.0, \"#0d0887\"], [0.1111111111111111, \"#46039f\"], [0.2222222222222222, \"#7201a8\"], [0.3333333333333333, \"#9c179e\"], [0.4444444444444444, \"#bd3786\"], [0.5555555555555556, \"#d8576b\"], [0.6666666666666666, \"#ed7953\"], [0.7777777777777778, \"#fb9f3a\"], [0.8888888888888888, \"#fdca26\"], [1.0, \"#f0f921\"]], \"type\": \"heatmap\"}], \"heatmapgl\": [{\"colorbar\": {\"outlinewidth\": 0, \"ticks\": \"\"}, \"colorscale\": [[0.0, \"#0d0887\"], [0.1111111111111111, \"#46039f\"], [0.2222222222222222, \"#7201a8\"], [0.3333333333333333, \"#9c179e\"], [0.4444444444444444, \"#bd3786\"], [0.5555555555555556, \"#d8576b\"], [0.6666666666666666, \"#ed7953\"], [0.7777777777777778, \"#fb9f3a\"], [0.8888888888888888, \"#fdca26\"], [1.0, \"#f0f921\"]], \"type\": \"heatmapgl\"}], \"histogram\": [{\"marker\": {\"colorbar\": {\"outlinewidth\": 0, \"ticks\": \"\"}}, \"type\": \"histogram\"}], \"histogram2d\": [{\"colorbar\": {\"outlinewidth\": 0, \"ticks\": \"\"}, \"colorscale\": [[0.0, \"#0d0887\"], [0.1111111111111111, \"#46039f\"], [0.2222222222222222, \"#7201a8\"], [0.3333333333333333, \"#9c179e\"], [0.4444444444444444, \"#bd3786\"], [0.5555555555555556, \"#d8576b\"], [0.6666666666666666, \"#ed7953\"], [0.7777777777777778, \"#fb9f3a\"], [0.8888888888888888, \"#fdca26\"], [1.0, \"#f0f921\"]], \"type\": \"histogram2d\"}], \"histogram2dcontour\": [{\"colorbar\": {\"outlinewidth\": 0, \"ticks\": \"\"}, \"colorscale\": [[0.0, \"#0d0887\"], [0.1111111111111111, \"#46039f\"], [0.2222222222222222, \"#7201a8\"], [0.3333333333333333, \"#9c179e\"], [0.4444444444444444, \"#bd3786\"], [0.5555555555555556, \"#d8576b\"], [0.6666666666666666, \"#ed7953\"], [0.7777777777777778, \"#fb9f3a\"], [0.8888888888888888, \"#fdca26\"], [1.0, \"#f0f921\"]], \"type\": \"histogram2dcontour\"}], \"mesh3d\": [{\"colorbar\": {\"outlinewidth\": 0, \"ticks\": \"\"}, \"type\": \"mesh3d\"}], \"parcoords\": [{\"line\": {\"colorbar\": {\"outlinewidth\": 0, \"ticks\": \"\"}}, \"type\": \"parcoords\"}], \"pie\": [{\"automargin\": true, \"type\": \"pie\"}], \"scatter\": [{\"marker\": {\"colorbar\": {\"outlinewidth\": 0, \"ticks\": \"\"}}, \"type\": \"scatter\"}], \"scatter3d\": [{\"line\": {\"colorbar\": {\"outlinewidth\": 0, \"ticks\": \"\"}}, \"marker\": {\"colorbar\": {\"outlinewidth\": 0, \"ticks\": \"\"}}, \"type\": \"scatter3d\"}], \"scattercarpet\": [{\"marker\": {\"colorbar\": {\"outlinewidth\": 0, \"ticks\": \"\"}}, \"type\": \"scattercarpet\"}], \"scattergeo\": [{\"marker\": {\"colorbar\": {\"outlinewidth\": 0, \"ticks\": \"\"}}, \"type\": \"scattergeo\"}], \"scattergl\": [{\"marker\": {\"colorbar\": {\"outlinewidth\": 0, \"ticks\": \"\"}}, \"type\": \"scattergl\"}], \"scattermapbox\": [{\"marker\": {\"colorbar\": {\"outlinewidth\": 0, \"ticks\": \"\"}}, \"type\": \"scattermapbox\"}], \"scatterpolar\": [{\"marker\": {\"colorbar\": {\"outlinewidth\": 0, \"ticks\": \"\"}}, \"type\": \"scatterpolar\"}], \"scatterpolargl\": [{\"marker\": {\"colorbar\": {\"outlinewidth\": 0, \"ticks\": \"\"}}, \"type\": \"scatterpolargl\"}], \"scatterternary\": [{\"marker\": {\"colorbar\": {\"outlinewidth\": 0, \"ticks\": \"\"}}, \"type\": \"scatterternary\"}], \"surface\": [{\"colorbar\": {\"outlinewidth\": 0, \"ticks\": \"\"}, \"colorscale\": [[0.0, \"#0d0887\"], [0.1111111111111111, \"#46039f\"], [0.2222222222222222, \"#7201a8\"], [0.3333333333333333, \"#9c179e\"], [0.4444444444444444, \"#bd3786\"], [0.5555555555555556, \"#d8576b\"], [0.6666666666666666, \"#ed7953\"], [0.7777777777777778, \"#fb9f3a\"], [0.8888888888888888, \"#fdca26\"], [1.0, \"#f0f921\"]], \"type\": \"surface\"}], \"table\": [{\"cells\": {\"fill\": {\"color\": \"#EBF0F8\"}, \"line\": {\"color\": \"white\"}}, \"header\": {\"fill\": {\"color\": \"#C8D4E3\"}, \"line\": {\"color\": \"white\"}}, \"type\": \"table\"}]}, \"layout\": {\"annotationdefaults\": {\"arrowcolor\": \"#2a3f5f\", \"arrowhead\": 0, \"arrowwidth\": 1}, \"coloraxis\": {\"colorbar\": {\"outlinewidth\": 0, \"ticks\": \"\"}}, \"colorscale\": {\"diverging\": [[0, \"#8e0152\"], [0.1, \"#c51b7d\"], [0.2, \"#de77ae\"], [0.3, \"#f1b6da\"], [0.4, \"#fde0ef\"], [0.5, \"#f7f7f7\"], [0.6, \"#e6f5d0\"], [0.7, \"#b8e186\"], [0.8, \"#7fbc41\"], [0.9, \"#4d9221\"], [1, \"#276419\"]], \"sequential\": [[0.0, \"#0d0887\"], [0.1111111111111111, \"#46039f\"], [0.2222222222222222, \"#7201a8\"], [0.3333333333333333, \"#9c179e\"], [0.4444444444444444, \"#bd3786\"], [0.5555555555555556, \"#d8576b\"], [0.6666666666666666, \"#ed7953\"], [0.7777777777777778, \"#fb9f3a\"], [0.8888888888888888, \"#fdca26\"], [1.0, \"#f0f921\"]], \"sequentialminus\": [[0.0, \"#0d0887\"], [0.1111111111111111, \"#46039f\"], [0.2222222222222222, \"#7201a8\"], [0.3333333333333333, \"#9c179e\"], [0.4444444444444444, \"#bd3786\"], [0.5555555555555556, \"#d8576b\"], [0.6666666666666666, \"#ed7953\"], [0.7777777777777778, \"#fb9f3a\"], [0.8888888888888888, \"#fdca26\"], [1.0, \"#f0f921\"]]}, \"colorway\": [\"#636efa\", \"#EF553B\", \"#00cc96\", \"#ab63fa\", \"#FFA15A\", \"#19d3f3\", \"#FF6692\", \"#B6E880\", \"#FF97FF\", \"#FECB52\"], \"font\": {\"color\": \"#2a3f5f\"}, \"geo\": {\"bgcolor\": \"white\", \"lakecolor\": \"white\", \"landcolor\": \"#E5ECF6\", \"showlakes\": true, \"showland\": true, \"subunitcolor\": \"white\"}, \"hoverlabel\": {\"align\": \"left\"}, \"hovermode\": \"closest\", \"mapbox\": {\"style\": \"light\"}, \"paper_bgcolor\": \"white\", \"plot_bgcolor\": \"#E5ECF6\", \"polar\": {\"angularaxis\": {\"gridcolor\": \"white\", \"linecolor\": \"white\", \"ticks\": \"\"}, \"bgcolor\": \"#E5ECF6\", \"radialaxis\": {\"gridcolor\": \"white\", \"linecolor\": \"white\", \"ticks\": \"\"}}, \"scene\": {\"xaxis\": {\"backgroundcolor\": \"#E5ECF6\", \"gridcolor\": \"white\", \"gridwidth\": 2, \"linecolor\": \"white\", \"showbackground\": true, \"ticks\": \"\", \"zerolinecolor\": \"white\"}, \"yaxis\": {\"backgroundcolor\": \"#E5ECF6\", \"gridcolor\": \"white\", \"gridwidth\": 2, \"linecolor\": \"white\", \"showbackground\": true, \"ticks\": \"\", \"zerolinecolor\": \"white\"}, \"zaxis\": {\"backgroundcolor\": \"#E5ECF6\", \"gridcolor\": \"white\", \"gridwidth\": 2, \"linecolor\": \"white\", \"showbackground\": true, \"ticks\": \"\", \"zerolinecolor\": \"white\"}}, \"shapedefaults\": {\"line\": {\"color\": \"#2a3f5f\"}}, \"ternary\": {\"aaxis\": {\"gridcolor\": \"white\", \"linecolor\": \"white\", \"ticks\": \"\"}, \"baxis\": {\"gridcolor\": \"white\", \"linecolor\": \"white\", \"ticks\": \"\"}, \"bgcolor\": \"#E5ECF6\", \"caxis\": {\"gridcolor\": \"white\", \"linecolor\": \"white\", \"ticks\": \"\"}}, \"title\": {\"x\": 0.05}, \"xaxis\": {\"automargin\": true, \"gridcolor\": \"white\", \"linecolor\": \"white\", \"ticks\": \"\", \"title\": {\"standoff\": 15}, \"zerolinecolor\": \"white\", \"zerolinewidth\": 2}, \"yaxis\": {\"automargin\": true, \"gridcolor\": \"white\", \"linecolor\": \"white\", \"ticks\": \"\", \"title\": {\"standoff\": 15}, \"zerolinecolor\": \"white\", \"zerolinewidth\": 2}}}, \"title\": {\"text\": \"New York - Top 15 Trigrams for Negative Topics 5\"}},\n",
              "                        {\"responsive\": true}\n",
              "                    ).then(function(){\n",
              "                            \n",
              "var gd = document.getElementById('92e5e490-be9e-4ec4-814d-b8d5fc436ea8');\n",
              "var x = new MutationObserver(function (mutations, observer) {{\n",
              "        var display = window.getComputedStyle(gd).display;\n",
              "        if (!display || display === 'none') {{\n",
              "            console.log([gd, 'removed!']);\n",
              "            Plotly.purge(gd);\n",
              "            observer.disconnect();\n",
              "        }}\n",
              "}});\n",
              "\n",
              "// Listen for the removal of the full notebook cells\n",
              "var notebookContainer = gd.closest('#notebook-container');\n",
              "if (notebookContainer) {{\n",
              "    x.observe(notebookContainer, {childList: true});\n",
              "}}\n",
              "\n",
              "// Listen for the clearing of the current output cell\n",
              "var outputEl = gd.closest('.output');\n",
              "if (outputEl) {{\n",
              "    x.observe(outputEl, {childList: true});\n",
              "}}\n",
              "\n",
              "                        })\n",
              "                };\n",
              "                \n",
              "            </script>\n",
              "        </div>\n",
              "</body>\n",
              "</html>"
            ]
          },
          "metadata": {}
        }
      ]
    },
    {
      "cell_type": "code",
      "metadata": {
        "colab": {
          "base_uri": "https://localhost:8080/",
          "height": 542
        },
        "id": "kk0wX1bfftUl",
        "outputId": "afdbf759-9155-44cb-bba9-e39d96908890"
      },
      "source": [
        "topic6_neg_list = Topic_6['Text'].tolist()\n",
        "common_words = get_top_n_trigram(topic6_neg_list, 15)\n",
        "\n",
        "df_topic_neg6 = pd.DataFrame(common_words, columns = ['trigram' , 'count'])\n",
        "\n",
        "fig = go.Figure([go.Bar(x=df_topic_neg6['trigram'], y=df_topic_neg6['count'])])\n",
        "fig.update_layout(title=go.layout.Title(text=\"New York - Top 15 Trigrams for Negative Topics 6\"))\n",
        "fig.show()"
      ],
      "execution_count": 9,
      "outputs": [
        {
          "output_type": "display_data",
          "data": {
            "text/html": [
              "<html>\n",
              "<head><meta charset=\"utf-8\" /></head>\n",
              "<body>\n",
              "    <div>\n",
              "            <script src=\"https://cdnjs.cloudflare.com/ajax/libs/mathjax/2.7.5/MathJax.js?config=TeX-AMS-MML_SVG\"></script><script type=\"text/javascript\">if (window.MathJax) {MathJax.Hub.Config({SVG: {font: \"STIX-Web\"}});}</script>\n",
              "                <script type=\"text/javascript\">window.PlotlyConfig = {MathJaxConfig: 'local'};</script>\n",
              "        <script src=\"https://cdn.plot.ly/plotly-latest.min.js\"></script>    \n",
              "            <div id=\"304dbd5c-214d-4f52-a3b7-a65ae533f78f\" class=\"plotly-graph-div\" style=\"height:525px; width:100%;\"></div>\n",
              "            <script type=\"text/javascript\">\n",
              "                \n",
              "                    window.PLOTLYENV=window.PLOTLYENV || {};\n",
              "                    \n",
              "                if (document.getElementById(\"304dbd5c-214d-4f52-a3b7-a65ae533f78f\")) {\n",
              "                    Plotly.newPlot(\n",
              "                        '304dbd5c-214d-4f52-a3b7-a65ae533f78f',\n",
              "                        [{\"type\": \"bar\", \"x\": [\"ill deliver copy\", \"deliver copy official\", \"pass covid relief\", \"covid relief package\", \"cut medicaid pandemic\", \"testing ill deliver\", \"covid rapid testing\", \"rapid testing ill\", \"help american people\", \"people lose job\", \"lose job covid\", \"pre covid deficit\", \"state local government\", \"covid relief stimulus\", \"tax payer money\"], \"y\": [489, 489, 246, 197, 174, 162, 159, 158, 141, 136, 123, 121, 112, 102, 90]}],\n",
              "                        {\"template\": {\"data\": {\"bar\": [{\"error_x\": {\"color\": \"#2a3f5f\"}, \"error_y\": {\"color\": \"#2a3f5f\"}, \"marker\": {\"line\": {\"color\": \"#E5ECF6\", \"width\": 0.5}}, \"type\": \"bar\"}], \"barpolar\": [{\"marker\": {\"line\": {\"color\": \"#E5ECF6\", \"width\": 0.5}}, \"type\": \"barpolar\"}], \"carpet\": [{\"aaxis\": {\"endlinecolor\": \"#2a3f5f\", \"gridcolor\": \"white\", \"linecolor\": \"white\", \"minorgridcolor\": \"white\", \"startlinecolor\": \"#2a3f5f\"}, \"baxis\": {\"endlinecolor\": \"#2a3f5f\", \"gridcolor\": \"white\", \"linecolor\": \"white\", \"minorgridcolor\": \"white\", \"startlinecolor\": \"#2a3f5f\"}, \"type\": \"carpet\"}], \"choropleth\": [{\"colorbar\": {\"outlinewidth\": 0, \"ticks\": \"\"}, \"type\": \"choropleth\"}], \"contour\": [{\"colorbar\": {\"outlinewidth\": 0, \"ticks\": \"\"}, \"colorscale\": [[0.0, \"#0d0887\"], [0.1111111111111111, \"#46039f\"], [0.2222222222222222, \"#7201a8\"], [0.3333333333333333, \"#9c179e\"], [0.4444444444444444, \"#bd3786\"], [0.5555555555555556, \"#d8576b\"], [0.6666666666666666, \"#ed7953\"], [0.7777777777777778, \"#fb9f3a\"], [0.8888888888888888, \"#fdca26\"], [1.0, \"#f0f921\"]], \"type\": \"contour\"}], \"contourcarpet\": [{\"colorbar\": {\"outlinewidth\": 0, \"ticks\": \"\"}, \"type\": \"contourcarpet\"}], \"heatmap\": [{\"colorbar\": {\"outlinewidth\": 0, \"ticks\": \"\"}, \"colorscale\": [[0.0, \"#0d0887\"], [0.1111111111111111, \"#46039f\"], [0.2222222222222222, \"#7201a8\"], [0.3333333333333333, \"#9c179e\"], [0.4444444444444444, \"#bd3786\"], [0.5555555555555556, \"#d8576b\"], [0.6666666666666666, \"#ed7953\"], [0.7777777777777778, \"#fb9f3a\"], [0.8888888888888888, \"#fdca26\"], [1.0, \"#f0f921\"]], \"type\": \"heatmap\"}], \"heatmapgl\": [{\"colorbar\": {\"outlinewidth\": 0, \"ticks\": \"\"}, \"colorscale\": [[0.0, \"#0d0887\"], [0.1111111111111111, \"#46039f\"], [0.2222222222222222, \"#7201a8\"], [0.3333333333333333, \"#9c179e\"], [0.4444444444444444, \"#bd3786\"], [0.5555555555555556, \"#d8576b\"], [0.6666666666666666, \"#ed7953\"], [0.7777777777777778, \"#fb9f3a\"], [0.8888888888888888, \"#fdca26\"], [1.0, \"#f0f921\"]], \"type\": \"heatmapgl\"}], \"histogram\": [{\"marker\": {\"colorbar\": {\"outlinewidth\": 0, \"ticks\": \"\"}}, \"type\": \"histogram\"}], \"histogram2d\": [{\"colorbar\": {\"outlinewidth\": 0, \"ticks\": \"\"}, \"colorscale\": [[0.0, \"#0d0887\"], [0.1111111111111111, \"#46039f\"], [0.2222222222222222, \"#7201a8\"], [0.3333333333333333, \"#9c179e\"], [0.4444444444444444, \"#bd3786\"], [0.5555555555555556, \"#d8576b\"], [0.6666666666666666, \"#ed7953\"], [0.7777777777777778, \"#fb9f3a\"], [0.8888888888888888, \"#fdca26\"], [1.0, \"#f0f921\"]], \"type\": \"histogram2d\"}], \"histogram2dcontour\": [{\"colorbar\": {\"outlinewidth\": 0, \"ticks\": \"\"}, \"colorscale\": [[0.0, \"#0d0887\"], [0.1111111111111111, \"#46039f\"], [0.2222222222222222, \"#7201a8\"], [0.3333333333333333, \"#9c179e\"], [0.4444444444444444, \"#bd3786\"], [0.5555555555555556, \"#d8576b\"], [0.6666666666666666, \"#ed7953\"], [0.7777777777777778, \"#fb9f3a\"], [0.8888888888888888, \"#fdca26\"], [1.0, \"#f0f921\"]], \"type\": \"histogram2dcontour\"}], \"mesh3d\": [{\"colorbar\": {\"outlinewidth\": 0, \"ticks\": \"\"}, \"type\": \"mesh3d\"}], \"parcoords\": [{\"line\": {\"colorbar\": {\"outlinewidth\": 0, \"ticks\": \"\"}}, \"type\": \"parcoords\"}], \"pie\": [{\"automargin\": true, \"type\": \"pie\"}], \"scatter\": [{\"marker\": {\"colorbar\": {\"outlinewidth\": 0, \"ticks\": \"\"}}, \"type\": \"scatter\"}], \"scatter3d\": [{\"line\": {\"colorbar\": {\"outlinewidth\": 0, \"ticks\": \"\"}}, \"marker\": {\"colorbar\": {\"outlinewidth\": 0, \"ticks\": \"\"}}, \"type\": \"scatter3d\"}], \"scattercarpet\": [{\"marker\": {\"colorbar\": {\"outlinewidth\": 0, \"ticks\": \"\"}}, \"type\": \"scattercarpet\"}], \"scattergeo\": [{\"marker\": {\"colorbar\": {\"outlinewidth\": 0, \"ticks\": \"\"}}, \"type\": \"scattergeo\"}], \"scattergl\": [{\"marker\": {\"colorbar\": {\"outlinewidth\": 0, \"ticks\": \"\"}}, \"type\": \"scattergl\"}], \"scattermapbox\": [{\"marker\": {\"colorbar\": {\"outlinewidth\": 0, \"ticks\": \"\"}}, \"type\": \"scattermapbox\"}], \"scatterpolar\": [{\"marker\": {\"colorbar\": {\"outlinewidth\": 0, \"ticks\": \"\"}}, \"type\": \"scatterpolar\"}], \"scatterpolargl\": [{\"marker\": {\"colorbar\": {\"outlinewidth\": 0, \"ticks\": \"\"}}, \"type\": \"scatterpolargl\"}], \"scatterternary\": [{\"marker\": {\"colorbar\": {\"outlinewidth\": 0, \"ticks\": \"\"}}, \"type\": \"scatterternary\"}], \"surface\": [{\"colorbar\": {\"outlinewidth\": 0, \"ticks\": \"\"}, \"colorscale\": [[0.0, \"#0d0887\"], [0.1111111111111111, \"#46039f\"], [0.2222222222222222, \"#7201a8\"], [0.3333333333333333, \"#9c179e\"], [0.4444444444444444, \"#bd3786\"], [0.5555555555555556, \"#d8576b\"], [0.6666666666666666, \"#ed7953\"], [0.7777777777777778, \"#fb9f3a\"], [0.8888888888888888, \"#fdca26\"], [1.0, \"#f0f921\"]], \"type\": \"surface\"}], \"table\": [{\"cells\": {\"fill\": {\"color\": \"#EBF0F8\"}, \"line\": {\"color\": \"white\"}}, \"header\": {\"fill\": {\"color\": \"#C8D4E3\"}, \"line\": {\"color\": \"white\"}}, \"type\": \"table\"}]}, \"layout\": {\"annotationdefaults\": {\"arrowcolor\": \"#2a3f5f\", \"arrowhead\": 0, \"arrowwidth\": 1}, \"coloraxis\": {\"colorbar\": {\"outlinewidth\": 0, \"ticks\": \"\"}}, \"colorscale\": {\"diverging\": [[0, \"#8e0152\"], [0.1, \"#c51b7d\"], [0.2, \"#de77ae\"], [0.3, \"#f1b6da\"], [0.4, \"#fde0ef\"], [0.5, \"#f7f7f7\"], [0.6, \"#e6f5d0\"], [0.7, \"#b8e186\"], [0.8, \"#7fbc41\"], [0.9, \"#4d9221\"], [1, \"#276419\"]], \"sequential\": [[0.0, \"#0d0887\"], [0.1111111111111111, \"#46039f\"], [0.2222222222222222, \"#7201a8\"], [0.3333333333333333, \"#9c179e\"], [0.4444444444444444, \"#bd3786\"], [0.5555555555555556, \"#d8576b\"], [0.6666666666666666, \"#ed7953\"], [0.7777777777777778, \"#fb9f3a\"], [0.8888888888888888, \"#fdca26\"], [1.0, \"#f0f921\"]], \"sequentialminus\": [[0.0, \"#0d0887\"], [0.1111111111111111, \"#46039f\"], [0.2222222222222222, \"#7201a8\"], [0.3333333333333333, \"#9c179e\"], [0.4444444444444444, \"#bd3786\"], [0.5555555555555556, \"#d8576b\"], [0.6666666666666666, \"#ed7953\"], [0.7777777777777778, \"#fb9f3a\"], [0.8888888888888888, \"#fdca26\"], [1.0, \"#f0f921\"]]}, \"colorway\": [\"#636efa\", \"#EF553B\", \"#00cc96\", \"#ab63fa\", \"#FFA15A\", \"#19d3f3\", \"#FF6692\", \"#B6E880\", \"#FF97FF\", \"#FECB52\"], \"font\": {\"color\": \"#2a3f5f\"}, \"geo\": {\"bgcolor\": \"white\", \"lakecolor\": \"white\", \"landcolor\": \"#E5ECF6\", \"showlakes\": true, \"showland\": true, \"subunitcolor\": \"white\"}, \"hoverlabel\": {\"align\": \"left\"}, \"hovermode\": \"closest\", \"mapbox\": {\"style\": \"light\"}, \"paper_bgcolor\": \"white\", \"plot_bgcolor\": \"#E5ECF6\", \"polar\": {\"angularaxis\": {\"gridcolor\": \"white\", \"linecolor\": \"white\", \"ticks\": \"\"}, \"bgcolor\": \"#E5ECF6\", \"radialaxis\": {\"gridcolor\": \"white\", \"linecolor\": \"white\", \"ticks\": \"\"}}, \"scene\": {\"xaxis\": {\"backgroundcolor\": \"#E5ECF6\", \"gridcolor\": \"white\", \"gridwidth\": 2, \"linecolor\": \"white\", \"showbackground\": true, \"ticks\": \"\", \"zerolinecolor\": \"white\"}, \"yaxis\": {\"backgroundcolor\": \"#E5ECF6\", \"gridcolor\": \"white\", \"gridwidth\": 2, \"linecolor\": \"white\", \"showbackground\": true, \"ticks\": \"\", \"zerolinecolor\": \"white\"}, \"zaxis\": {\"backgroundcolor\": \"#E5ECF6\", \"gridcolor\": \"white\", \"gridwidth\": 2, \"linecolor\": \"white\", \"showbackground\": true, \"ticks\": \"\", \"zerolinecolor\": \"white\"}}, \"shapedefaults\": {\"line\": {\"color\": \"#2a3f5f\"}}, \"ternary\": {\"aaxis\": {\"gridcolor\": \"white\", \"linecolor\": \"white\", \"ticks\": \"\"}, \"baxis\": {\"gridcolor\": \"white\", \"linecolor\": \"white\", \"ticks\": \"\"}, \"bgcolor\": \"#E5ECF6\", \"caxis\": {\"gridcolor\": \"white\", \"linecolor\": \"white\", \"ticks\": \"\"}}, \"title\": {\"x\": 0.05}, \"xaxis\": {\"automargin\": true, \"gridcolor\": \"white\", \"linecolor\": \"white\", \"ticks\": \"\", \"title\": {\"standoff\": 15}, \"zerolinecolor\": \"white\", \"zerolinewidth\": 2}, \"yaxis\": {\"automargin\": true, \"gridcolor\": \"white\", \"linecolor\": \"white\", \"ticks\": \"\", \"title\": {\"standoff\": 15}, \"zerolinecolor\": \"white\", \"zerolinewidth\": 2}}}, \"title\": {\"text\": \"New York - Top 15 Trigrams for Negative Topics 6\"}},\n",
              "                        {\"responsive\": true}\n",
              "                    ).then(function(){\n",
              "                            \n",
              "var gd = document.getElementById('304dbd5c-214d-4f52-a3b7-a65ae533f78f');\n",
              "var x = new MutationObserver(function (mutations, observer) {{\n",
              "        var display = window.getComputedStyle(gd).display;\n",
              "        if (!display || display === 'none') {{\n",
              "            console.log([gd, 'removed!']);\n",
              "            Plotly.purge(gd);\n",
              "            observer.disconnect();\n",
              "        }}\n",
              "}});\n",
              "\n",
              "// Listen for the removal of the full notebook cells\n",
              "var notebookContainer = gd.closest('#notebook-container');\n",
              "if (notebookContainer) {{\n",
              "    x.observe(notebookContainer, {childList: true});\n",
              "}}\n",
              "\n",
              "// Listen for the clearing of the current output cell\n",
              "var outputEl = gd.closest('.output');\n",
              "if (outputEl) {{\n",
              "    x.observe(outputEl, {childList: true});\n",
              "}}\n",
              "\n",
              "                        })\n",
              "                };\n",
              "                \n",
              "            </script>\n",
              "        </div>\n",
              "</body>\n",
              "</html>"
            ]
          },
          "metadata": {}
        }
      ]
    },
    {
      "cell_type": "code",
      "metadata": {
        "colab": {
          "base_uri": "https://localhost:8080/",
          "height": 676
        },
        "id": "zvitvvz7f9fj",
        "outputId": "181d7628-0e18-460b-b867-25d4a189b4e9"
      },
      "source": [
        "# Frequency of topic # and cluster # occurances across dataset\n",
        "num_topics = tweets_df['Topic_Neg'].unique()\n",
        "topic_counts = tweets_df['Topic_Neg'].value_counts()\n",
        "plt.bar(x = num_topics, height = topic_counts, color = ['salmon', 'rosybrown', 'cadetblue', 'indianred', 'teal', 'skyblue'])\n",
        "plt.xlabel(\"Topic Number\")\n",
        "plt.ylabel(\"Count\")\n",
        "plt.title(\"Frequency of Negative Topics Occurance Across Tweets\")\n",
        "plt.rc('figure', figsize=(15,11))\n",
        "plt.show()"
      ],
      "execution_count": 13,
      "outputs": [
        {
          "output_type": "display_data",
          "data": {
            "image/png": "[encoded data removed]",
            "text/plain": [
              "<Figure size 1080x792 with 1 Axes>"
            ]
          },
          "metadata": {
            "needs_background": "light"
          }
        }
      ]
    },
    {
      "cell_type": "code",
      "metadata": {
        "colab": {
          "base_uri": "https://localhost:8080/"
        },
        "id": "T4e_bFq7s19U",
        "outputId": "3aabef98-a8d9-4ef1-9e72-f27bd7a4b22c"
      },
      "source": [
        "!pip install calmap\n",
        "import calmap"
      ],
      "execution_count": 14,
      "outputs": [
        {
          "output_type": "stream",
          "name": "stdout",
          "text": [
            "Collecting calmap\n",
            "  Downloading calmap-0.0.9-py2.py3-none-any.whl (7.1 kB)\n",
            "Requirement already satisfied: pandas in /usr/local/lib/python3.7/dist-packages (from calmap) (1.1.5)\n",
            "Requirement already satisfied: numpy in /usr/local/lib/python3.7/dist-packages (from calmap) (1.19.5)\n",
            "Requirement already satisfied: matplotlib in /usr/local/lib/python3.7/dist-packages (from calmap) (3.2.2)\n",
            "Requirement already satisfied: python-dateutil>=2.1 in /usr/local/lib/python3.7/dist-packages (from matplotlib->calmap) (2.8.2)\n",
            "Requirement already satisfied: kiwisolver>=1.0.1 in /usr/local/lib/python3.7/dist-packages (from matplotlib->calmap) (1.3.1)\n",
            "Requirement already satisfied: pyparsing!=2.0.4,!=2.1.2,!=2.1.6,>=2.0.1 in /usr/local/lib/python3.7/dist-packages (from matplotlib->calmap) (2.4.7)\n",
            "Requirement already satisfied: cycler>=0.10 in /usr/local/lib/python3.7/dist-packages (from matplotlib->calmap) (0.10.0)\n",
            "Requirement already satisfied: six in /usr/local/lib/python3.7/dist-packages (from cycler>=0.10->matplotlib->calmap) (1.15.0)\n",
            "Requirement already satisfied: pytz>=2017.2 in /usr/local/lib/python3.7/dist-packages (from pandas->calmap) (2018.9)\n",
            "Installing collected packages: calmap\n",
            "Successfully installed calmap-0.0.9\n"
          ]
        }
      ]
    },
    {
      "cell_type": "code",
      "metadata": {
        "colab": {
          "base_uri": "https://localhost:8080/",
          "height": 612
        },
        "id": "b8zicxzAg2pY",
        "outputId": "b6ba5df5-2f94-4240-b26b-ec09ddf0f025"
      },
      "source": [
        "data_o = pd.read_csv('/content/drive/MyDrive/Colab Notebooks/NEWYORK_COVID19_TWEETS_TOPICS.csv')\n",
        "tweets_df_o = data.iloc[:, 1:]\n",
        "\n",
        "#overall sentiments\n",
        "ngroup_all_original = tweets_df_o['Sentiment_Score'].groupby(tweets_df_o['Datetime'])\n",
        "nsent_avgs_allTweets_o = ngroup_all_original.mean() \n",
        "print(\"New York's tweets average sentiment:\", nsent_avgs_allTweets_o.mean())\n",
        "\n",
        "neg_sent_lsito = nsent_avgs_allTweets_o.to_list()\n",
        "# Extra Negative Days out of all negative tweets\n",
        "days = pd.DatetimeIndex(nsent_avgs_allTweets_o.index)\n",
        "events = pd.Series(neg_sent_lsito, index=days)\n",
        "\n",
        "calmap.calendarplot(events, monthticks=3, daylabels='MTWTFSS', fillcolor='lightgrey', cmap='Spectral',\n",
        "                    dayticks=[0, 2, 4, 6], linewidth=0,\n",
        "                    fig_kws=dict(figsize=(17, 11)))"
      ],
      "execution_count": 21,
      "outputs": [
        {
          "output_type": "stream",
          "name": "stdout",
          "text": [
            "New York's tweets average sentiment: -0.5744518825063201\n"
          ]
        },
        {
          "output_type": "execute_result",
          "data": {
            "text/plain": [
              "(<Figure size 1224x792 with 2 Axes>,\n",
              " array([<matplotlib.axes._subplots.AxesSubplot object at 0x7fc9166e0190>,\n",
              "        <matplotlib.axes._subplots.AxesSubplot object at 0x7fc92152c610>],\n",
              "       dtype=object))"
            ]
          },
          "metadata": {},
          "execution_count": 21
        },
        {
          "output_type": "display_data",
          "data": {
            "image/png": "[encoded data removed]",
            "text/plain": [
              "<Figure size 1224x792 with 2 Axes>"
            ]
          },
          "metadata": {
            "needs_background": "light"
          }
        }
      ]
    },
    {
      "cell_type": "code",
      "metadata": {
        "id": "ZSwQNqY6wLAt"
      },
      "source": [
        "neg_sent_lsit = neg_sent_means.to_list()\n",
        "neg_sent_t1 = nsent_avgs_topic1.to_list()\n",
        "neg_sent_t2 = nsent_avgs_topic2.to_list()\n",
        "neg_sent_t3 = nsent_avgs_topic3.to_list()\n",
        "neg_sent_t4 = nsent_avgs_topic4.to_list()\n",
        "neg_sent_t5 = nsent_avgs_topic5.to_list()\n",
        "neg_sent_t6 = nsent_avgs_topic6.to_list()"
      ],
      "execution_count": 15,
      "outputs": []
    },
    {
      "cell_type": "code",
      "metadata": {
        "colab": {
          "base_uri": "https://localhost:8080/",
          "height": 612
        },
        "id": "JwK1jX6jtViE",
        "outputId": "11afc7c2-7d94-4742-c9a0-23a1061923b0"
      },
      "source": [
        "# Extra Negative Days out of all negative tweets\n",
        "days = pd.DatetimeIndex(nsent_avgs_topic1.index)\n",
        "events = pd.Series(neg_sent_t1, index=days)\n",
        "\n",
        "calmap.calendarplot(events, monthticks=3, daylabels='MTWTFSS', fillcolor='lightgrey', cmap= 'Spectral',\n",
        "                    dayticks=[0, 2, 4, 6], linewidth=0,\n",
        "                    fig_kws=dict(figsize=(17, 11)))"
      ],
      "execution_count": 16,
      "outputs": [
        {
          "output_type": "stream",
          "name": "stderr",
          "text": [
            "findfont: Font family ['Arial'] not found. Falling back to DejaVu Sans.\n"
          ]
        },
        {
          "output_type": "execute_result",
          "data": {
            "text/plain": [
              "(<Figure size 1224x792 with 2 Axes>,\n",
              " array([<matplotlib.axes._subplots.AxesSubplot object at 0x7fc92dff2210>,\n",
              "        <matplotlib.axes._subplots.AxesSubplot object at 0x7fc92bd5b090>],\n",
              "       dtype=object))"
            ]
          },
          "metadata": {},
          "execution_count": 16
        },
        {
          "output_type": "display_data",
          "data": {
            "image/png": "[encoded data removed]",
            "text/plain": [
              "<Figure size 1224x792 with 2 Axes>"
            ]
          },
          "metadata": {
            "needs_background": "light"
          }
        }
      ]
    },
    {
      "cell_type": "code",
      "metadata": {
        "colab": {
          "base_uri": "https://localhost:8080/",
          "height": 589
        },
        "id": "avO24fDi-SHl",
        "outputId": "684969e0-846e-4dbe-8634-291ac4a33335"
      },
      "source": [
        "days2 = pd.DatetimeIndex(nsent_avgs_topic2.index)\n",
        "events2 = pd.Series(neg_sent_t2 , index=days2)\n",
        "\n",
        "calmap.calendarplot(events2, monthticks=3, daylabels='MTWTFSS', fillcolor='lightgrey', cmap= 'Spectral',\n",
        "                    dayticks=[0, 2, 4, 6], linewidth=0,\n",
        "                    fig_kws=dict(figsize=(17, 11)))"
      ],
      "execution_count": null,
      "outputs": [
        {
          "output_type": "execute_result",
          "data": {
            "text/plain": [
              "(<Figure size 1224x792 with 2 Axes>,\n",
              " array([<matplotlib.axes._subplots.AxesSubplot object at 0x7ff810ddc5d0>,\n",
              "        <matplotlib.axes._subplots.AxesSubplot object at 0x7ff8130cd550>],\n",
              "       dtype=object))"
            ]
          },
          "metadata": {
            "tags": []
          },
          "execution_count": 33
        },
        {
          "output_type": "display_data",
          "data": {
            "image/png": "[encoded data removed]",
            "text/plain": [
              "<Figure size 1224x792 with 2 Axes>"
            ]
          },
          "metadata": {
            "tags": [],
            "needs_background": "light"
          }
        }
      ]
    },
    {
      "cell_type": "code",
      "metadata": {
        "colab": {
          "base_uri": "https://localhost:8080/",
          "height": 589
        },
        "id": "2aIr70JA-_EN",
        "outputId": "399eeca2-2a53-48a4-95f3-1a9aec04358d"
      },
      "source": [
        "days3 = pd.DatetimeIndex(nsent_avgs_topic3.index)\n",
        "events3 = pd.Series(neg_sent_t3 , index=days3)\n",
        "\n",
        "calmap.calendarplot(events3, monthticks=3, daylabels='MTWTFSS', fillcolor='lightgrey', cmap= 'Spectral',\n",
        "                    dayticks=[0, 2, 4, 6], linewidth=0,\n",
        "                    fig_kws=dict(figsize=(17, 11)))"
      ],
      "execution_count": null,
      "outputs": [
        {
          "output_type": "execute_result",
          "data": {
            "text/plain": [
              "(<Figure size 1224x792 with 2 Axes>,\n",
              " array([<matplotlib.axes._subplots.AxesSubplot object at 0x7ff800f24950>,\n",
              "        <matplotlib.axes._subplots.AxesSubplot object at 0x7ff802aee7d0>],\n",
              "       dtype=object))"
            ]
          },
          "metadata": {
            "tags": []
          },
          "execution_count": 34
        },
        {
          "output_type": "display_data",
          "data": {
            "image/png": "[encoded data removed]",
            "text/plain": [
              "<Figure size 1224x792 with 2 Axes>"
            ]
          },
          "metadata": {
            "tags": [],
            "needs_background": "light"
          }
        }
      ]
    },
    {
      "cell_type": "code",
      "metadata": {
        "colab": {
          "base_uri": "https://localhost:8080/",
          "height": 594
        },
        "id": "IQ6YOw9Nifs2",
        "outputId": "f3d7d553-0b41-4060-f12e-afd5e46abf0a"
      },
      "source": [
        "days4 = pd.DatetimeIndex(nsent_avgs_topic4.index)\n",
        "events4 = pd.Series(neg_sent_t4 , index=days4)\n",
        "\n",
        "calmap.calendarplot(events4, monthticks=3, daylabels='MTWTFSS', fillcolor='lightgrey', cmap= 'Spectral',\n",
        "                    dayticks=[0, 2, 4, 6], linewidth=0,\n",
        "                    fig_kws=dict(figsize=(17, 11)))"
      ],
      "execution_count": 23,
      "outputs": [
        {
          "output_type": "execute_result",
          "data": {
            "text/plain": [
              "(<Figure size 1224x792 with 2 Axes>,\n",
              " array([<matplotlib.axes._subplots.AxesSubplot object at 0x7fc9249923d0>,\n",
              "        <matplotlib.axes._subplots.AxesSubplot object at 0x7fc913dda6d0>],\n",
              "       dtype=object))"
            ]
          },
          "metadata": {},
          "execution_count": 23
        },
        {
          "output_type": "display_data",
          "data": {
            "image/png": "[encoded data removed]",
            "text/plain": [
              "<Figure size 1224x792 with 2 Axes>"
            ]
          },
          "metadata": {
            "needs_background": "light"
          }
        }
      ]
    },
    {
      "cell_type": "code",
      "metadata": {
        "colab": {
          "base_uri": "https://localhost:8080/",
          "height": 589
        },
        "id": "D4iCui_-igT-",
        "outputId": "c660abdf-ca05-4738-c180-b14d845a4905"
      },
      "source": [
        "days5 = pd.DatetimeIndex(nsent_avgs_topic5.index)\n",
        "events5 = pd.Series(neg_sent_t5 , index=days5)\n",
        "\n",
        "calmap.calendarplot(events5, monthticks=3, daylabels='MTWTFSS', fillcolor='lightgrey', cmap= 'Spectral',\n",
        "                    dayticks=[0, 2, 4, 6], linewidth=0,\n",
        "                    fig_kws=dict(figsize=(17, 11)))"
      ],
      "execution_count": 24,
      "outputs": [
        {
          "output_type": "execute_result",
          "data": {
            "text/plain": [
              "(<Figure size 1224x792 with 2 Axes>,\n",
              " array([<matplotlib.axes._subplots.AxesSubplot object at 0x7fc91946b0d0>,\n",
              "        <matplotlib.axes._subplots.AxesSubplot object at 0x7fc913eb2dd0>],\n",
              "       dtype=object))"
            ]
          },
          "metadata": {},
          "execution_count": 24
        },
        {
          "output_type": "display_data",
          "data": {
            "image/png": "[encoded data removed]",
            "text/plain": [
              "<Figure size 1224x792 with 2 Axes>"
            ]
          },
          "metadata": {
            "needs_background": "light"
          }
        }
      ]
    },
    {
      "cell_type": "code",
      "metadata": {
        "colab": {
          "base_uri": "https://localhost:8080/",
          "height": 589
        },
        "id": "y9D2sTXNigs3",
        "outputId": "f8c78cb1-1405-44ea-c8e0-c4261dba7707"
      },
      "source": [
        "days6 = pd.DatetimeIndex(nsent_avgs_topic6.index)\n",
        "events6 = pd.Series(neg_sent_t6 , index=days6)\n",
        "\n",
        "calmap.calendarplot(events6, monthticks=3, daylabels='MTWTFSS', fillcolor='lightgrey', cmap= 'Spectral',\n",
        "                    dayticks=[0, 2, 4, 6], linewidth=0,\n",
        "                    fig_kws=dict(figsize=(17, 11)))"
      ],
      "execution_count": 25,
      "outputs": [
        {
          "output_type": "execute_result",
          "data": {
            "text/plain": [
              "(<Figure size 1224x792 with 2 Axes>,\n",
              " array([<matplotlib.axes._subplots.AxesSubplot object at 0x7fc913e2ef10>,\n",
              "        <matplotlib.axes._subplots.AxesSubplot object at 0x7fc913e07390>],\n",
              "       dtype=object))"
            ]
          },
          "metadata": {},
          "execution_count": 25
        },
        {
          "output_type": "display_data",
          "data": {
            "image/png": "[encoded data removed]",
            "text/plain": [
              "<Figure size 1224x792 with 2 Axes>"
            ]
          },
          "metadata": {
            "needs_background": "light"
          }
        }
      ]
    },
    {
      "cell_type": "code",
      "metadata": {
        "id": "zvg8EXN9_MzH"
      },
      "source": [
        "all_tweets = pd.read_csv('/content/drive/MyDrive/Colab Notebooks/NEWYORK_COVID19_TWEETS_FCCC3.csv')\n",
        "all_tweets2 = all_tweets.iloc[:, 1:]\n",
        "\n",
        "group2 = all_tweets2['Sentiment_Score_Norm'].groupby(all_tweets2['Datetime'])\n",
        "sent_means = group2.mean()"
      ],
      "execution_count": null,
      "outputs": []
    },
    {
      "cell_type": "code",
      "metadata": {
        "colab": {
          "base_uri": "https://localhost:8080/",
          "height": 589
        },
        "id": "QanMfNrI_vDm",
        "outputId": "ba7296e4-5925-4ff5-c703-0355ce438a79"
      },
      "source": [
        "sent_list = sent_means.to_list()\n",
        "days_all = pd.DatetimeIndex(sent_means.index)\n",
        "events_all = pd.Series(sent_list, index=days_all)\n",
        "\n",
        "calmap.calendarplot(events_all, monthticks=3, daylabels='MTWTFSS', fillcolor='lightgrey', cmap='Spectral',\n",
        "                    dayticks=[0, 2, 4, 6], linewidth=0,\n",
        "                    fig_kws=dict(figsize=(17, 11)))"
      ],
      "execution_count": null,
      "outputs": [
        {
          "output_type": "execute_result",
          "data": {
            "text/plain": [
              "(<Figure size 1224x792 with 2 Axes>,\n",
              " array([<matplotlib.axes._subplots.AxesSubplot object at 0x7ff809f7b910>,\n",
              "        <matplotlib.axes._subplots.AxesSubplot object at 0x7ff811189b90>],\n",
              "       dtype=object))"
            ]
          },
          "metadata": {
            "tags": []
          },
          "execution_count": 26
        },
        {
          "output_type": "display_data",
          "data": {
            "image/png": "[encoded data removed]",
            "text/plain": [
              "<Figure size 1224x792 with 2 Axes>"
            ]
          },
          "metadata": {
            "tags": [],
            "needs_background": "light"
          }
        }
      ]
    }
  ]
}