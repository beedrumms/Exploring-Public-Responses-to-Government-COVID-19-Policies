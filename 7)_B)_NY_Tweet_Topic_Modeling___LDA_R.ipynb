{
  "nbformat": 4,
  "nbformat_minor": 0,
  "metadata": {
    "colab": {
      "name": "7) B) NY - Tweet Topic Modeling _ LDA-R.ipynb",
      "provenance": [],
      "collapsed_sections": [],
      "machine_shape": "hm",
      "authorship_tag": "ABX9TyOv0KBl/yD6fZ9rGLr4I8JE",
      "include_colab_link": true
    },
    "kernelspec": {
      "name": "python3",
      "display_name": "Python 3"
    },
    "language_info": {
      "name": "python"
    }
  },
  "cells": [
    {
      "cell_type": "markdown",
      "metadata": {
        "id": "view-in-github",
        "colab_type": "text"
      },
      "source": [
        "<a href=\"https://colab.research.google.com/github/beedrumms/Exploring-Public-Responses-to-Government-COVID-19-Policies/blob/main/7)_B)_NY_Tweet_Topic_Modeling___LDA_R.ipynb\" target=\"_parent\"><img src=\"https://colab.research.google.com/assets/colab-badge.svg\" alt=\"Open In Colab\"/></a>"
      ]
    },
    {
      "cell_type": "markdown",
      "metadata": {
        "id": "Q4gOeYfQgna7"
      },
      "source": [
        "###Latent Dirichlet Allocation (LDA) will be used to analyze tweets and identify themes discussed in relation to covid-19 "
      ]
    },
    {
      "cell_type": "code",
      "metadata": {
        "id": "V092hID2luB2"
      },
      "source": [
        "# import packages \n",
        "import re \n",
        "import string\n",
        "import pandas as pd\n",
        "import numpy as np\n",
        "\n",
        "from wordcloud import WordCloud\n",
        "import matplotlib.pyplot as plt\n",
        "from datetime import datetime\n",
        " \n",
        "import sklearn \n",
        "from sklearn.decomposition import LatentDirichletAllocation\n",
        "from sklearn.feature_extraction.text import CountVectorizer, TfidfVectorizer\n",
        "from pprint import pprint\n",
        "\n",
        "!pip install pyLDAvis\n",
        "import pyLDAvis\n",
        "import pyLDAvis.sklearn\n",
        "import matplotlib.pyplot as plt\n",
        "%matplotlib inline\n",
        "\n",
        "from plotly.offline import plot\n",
        "import plotly.graph_objects as go\n",
        "import plotly.express as px\n",
        "\n",
        "from sklearn.decomposition import LatentDirichletAllocation\n",
        "from sklearn.feature_extraction.text import CountVectorizer\n",
        "from pprint import pprint\n",
        "\n",
        "import nltk\n",
        "import gensim\n",
        "import gensim.corpora as corpora\n",
        "from gensim.utils import lemmatize, simple_preprocess\n",
        "from gensim.models import CoherenceModel\n",
        "import pyLDAvis.gensim_models as gensimvis\n",
        "\n",
        "!pip install -U scikit-learn # updating sklearn to avoid depreciation warnings\n",
        "!pip install --upgrade pandas==1.2  # Need to upgrade pandas to get pyLDAvis to work \n",
        "\n",
        "# Mounting google colab on drive \n",
        "from google.colab import drive, files\n",
        "import os\n",
        "drive.mount(\"/content/drive\")"
      ],
      "execution_count": null,
      "outputs": []
    },
    {
      "cell_type": "code",
      "metadata": {
        "id": "dKP5qRz1lJNN",
        "colab": {
          "base_uri": "https://localhost:8080/",
          "height": 484
        },
        "outputId": "3aa7c2e8-f75c-4eb8-da39-601322c77086"
      },
      "source": [
        "# now Im going to upload my test set - which is just my Ontario covid tweets data scraped using sncrape\n",
        "data = pd.read_csv('/content/drive/MyDrive/Colab Notebooks/NEWYORK_COVID19_TWEETS_SENTS.csv')\n",
        "tweets_df = data.iloc[:, 1:]\n",
        "tweets_df.drop_duplicates('Text', inplace=True)\n",
        "\n",
        "is_na = tweets_df['Text'].isna()\n",
        "is_nalist = tweets_df[is_na]\n",
        "print(is_nalist)\n",
        "is_not_na = tweets_df['Text'].notna()\n",
        "tweets_df = tweets_df[is_not_na]\n",
        "tweets_df"
      ],
      "execution_count": null,
      "outputs": [
        {
          "output_type": "stream",
          "name": "stdout",
          "text": [
            "      Datetime Text  ... Sentiment_Score_Norm  Sentiment\n",
            "11  2021-05-30  NaN  ...                 50.0    neutral\n",
            "\n",
            "[1 rows x 6 columns]\n"
          ]
        },
        {
          "output_type": "execute_result",
          "data": {
            "text/html": [
              "<div>\n",
              "<style scoped>\n",
              "    .dataframe tbody tr th:only-of-type {\n",
              "        vertical-align: middle;\n",
              "    }\n",
              "\n",
              "    .dataframe tbody tr th {\n",
              "        vertical-align: top;\n",
              "    }\n",
              "\n",
              "    .dataframe thead th {\n",
              "        text-align: right;\n",
              "    }\n",
              "</style>\n",
              "<table border=\"1\" class=\"dataframe\">\n",
              "  <thead>\n",
              "    <tr style=\"text-align: right;\">\n",
              "      <th></th>\n",
              "      <th>Datetime</th>\n",
              "      <th>Text</th>\n",
              "      <th>Text_Unprocessed</th>\n",
              "      <th>Sentiment_Score</th>\n",
              "      <th>Sentiment_Score_Norm</th>\n",
              "      <th>Sentiment</th>\n",
              "    </tr>\n",
              "  </thead>\n",
              "  <tbody>\n",
              "    <tr>\n",
              "      <th>0</th>\n",
              "      <td>2021-05-30</td>\n",
              "      <td>pandemic democrats republicans refuse work gra...</td>\n",
              "      <td>during the pandemic democrats and republica...</td>\n",
              "      <td>-0.9118</td>\n",
              "      <td>4.410</td>\n",
              "      <td>negative</td>\n",
              "    </tr>\n",
              "    <tr>\n",
              "      <th>1</th>\n",
              "      <td>2021-05-30</td>\n",
              "      <td>stand congress location discrimination policy ...</td>\n",
              "      <td>stand up to the congress location di...</td>\n",
              "      <td>-0.6369</td>\n",
              "      <td>18.155</td>\n",
              "      <td>negative</td>\n",
              "    </tr>\n",
              "    <tr>\n",
              "      <th>2</th>\n",
              "      <td>2021-05-30</td>\n",
              "      <td>thank municipal bigwig vocal covid denial ceme...</td>\n",
              "      <td>no thanks to the municipal bigwig whose vocal...</td>\n",
              "      <td>-0.0015</td>\n",
              "      <td>49.925</td>\n",
              "      <td>neutral</td>\n",
              "    </tr>\n",
              "    <tr>\n",
              "      <th>3</th>\n",
              "      <td>2021-05-30</td>\n",
              "      <td>¡ president trump siempre estuvo en lo cierto ...</td>\n",
              "      <td>¡president trump siempre estuvo...</td>\n",
              "      <td>0.0000</td>\n",
              "      <td>50.000</td>\n",
              "      <td>neutral</td>\n",
              "    </tr>\n",
              "    <tr>\n",
              "      <th>4</th>\n",
              "      <td>2021-05-30</td>\n",
              "      <td>isyes school positivity rate peak covid winter...</td>\n",
              "      <td>it isyes school positivity rate has been und...</td>\n",
              "      <td>0.5562</td>\n",
              "      <td>77.810</td>\n",
              "      <td>positive</td>\n",
              "    </tr>\n",
              "    <tr>\n",
              "      <th>...</th>\n",
              "      <td>...</td>\n",
              "      <td>...</td>\n",
              "      <td>...</td>\n",
              "      <td>...</td>\n",
              "      <td>...</td>\n",
              "      <td>...</td>\n",
              "    </tr>\n",
              "    <tr>\n",
              "      <th>588014</th>\n",
              "      <td>2020-04-14</td>\n",
              "      <td>mean they re probably go federal money catalog...</td>\n",
              "      <td>it means theyre probably going to get federa...</td>\n",
              "      <td>-0.5574</td>\n",
              "      <td>22.130</td>\n",
              "      <td>negative</td>\n",
              "    </tr>\n",
              "    <tr>\n",
              "      <th>588015</th>\n",
              "      <td>2020-04-14</td>\n",
              "      <td>trump halt fund world health organization fail...</td>\n",
              "      <td>so if trump can halt funding to world health o...</td>\n",
              "      <td>-0.6705</td>\n",
              "      <td>16.475</td>\n",
              "      <td>negative</td>\n",
              "    </tr>\n",
              "    <tr>\n",
              "      <th>588016</th>\n",
              "      <td>2020-04-14</td>\n",
              "      <td>ought plan daily joint news conference feature...</td>\n",
              "      <td>you and  ought to plan a daily joint news con...</td>\n",
              "      <td>-0.4215</td>\n",
              "      <td>28.925</td>\n",
              "      <td>negative</td>\n",
              "    </tr>\n",
              "    <tr>\n",
              "      <th>588017</th>\n",
              "      <td>2020-04-14</td>\n",
              "      <td>coronavirus tax change benefit millionaire inc...</td>\n",
              "      <td>in the next coronavirus bill please  the tax...</td>\n",
              "      <td>0.5267</td>\n",
              "      <td>76.335</td>\n",
              "      <td>positive</td>\n",
              "    </tr>\n",
              "    <tr>\n",
              "      <th>588019</th>\n",
              "      <td>2020-04-14</td>\n",
              "      <td>decide want death toll higher add death patien...</td>\n",
              "      <td>decided he wanted his death toll to be higher...</td>\n",
              "      <td>-0.9039</td>\n",
              "      <td>4.805</td>\n",
              "      <td>negative</td>\n",
              "    </tr>\n",
              "  </tbody>\n",
              "</table>\n",
              "<p>554149 rows × 6 columns</p>\n",
              "</div>"
            ],
            "text/plain": [
              "          Datetime  ... Sentiment\n",
              "0       2021-05-30  ...  negative\n",
              "1       2021-05-30  ...  negative\n",
              "2       2021-05-30  ...   neutral\n",
              "3       2021-05-30  ...   neutral\n",
              "4       2021-05-30  ...  positive\n",
              "...            ...  ...       ...\n",
              "588014  2020-04-14  ...  negative\n",
              "588015  2020-04-14  ...  negative\n",
              "588016  2020-04-14  ...  negative\n",
              "588017  2020-04-14  ...  positive\n",
              "588019  2020-04-14  ...  negative\n",
              "\n",
              "[554149 rows x 6 columns]"
            ]
          },
          "metadata": {},
          "execution_count": 2
        }
      ]
    },
    {
      "cell_type": "code",
      "metadata": {
        "id": "jBN-tzccw_tR"
      },
      "source": [
        "tweets_list = tweets_df['Text'].tolist()"
      ],
      "execution_count": null,
      "outputs": []
    },
    {
      "cell_type": "markdown",
      "metadata": {
        "id": "lkz-fnalgNxw"
      },
      "source": [
        "# LDA w/ Sklearn"
      ]
    },
    {
      "cell_type": "code",
      "metadata": {
        "id": "hh1F1XiWAibX"
      },
      "source": [
        "tf_vectorizer = CountVectorizer(max_df=0.95, min_df=2, stop_words='english', ngram_range=(1, 2))  #vectoriser object\n",
        "tf = tf_vectorizer.fit_transform(tweets_list) # document-term matrix\n",
        "alpha = 1     #Dirichlet prior of document-topic dist\n",
        "beta = 0.05   #Dirichlet prior of topic-term dist"
      ],
      "execution_count": null,
      "outputs": []
    },
    {
      "cell_type": "code",
      "metadata": {
        "id": "80DCfmPV9ViM"
      },
      "source": [
        "# 4 TOPICS \n",
        "lda_model4 = LatentDirichletAllocation(n_components=4, doc_topic_prior=alpha, topic_word_prior=beta, learning_method='online', random_state=15, n_jobs=1).fit(tf) # pre-trained LDA model"
      ],
      "execution_count": null,
      "outputs": []
    },
    {
      "cell_type": "code",
      "metadata": {
        "id": "cUx__9rA9vl9"
      },
      "source": [
        "# 8 TOPICS\n",
        "# lda_model8 = LatentDirichletAllocation(n_components=8, doc_topic_prior=alpha, topic_word_prior=beta, learning_method='online', random_state=15, n_jobs=1).fit(tf)"
      ],
      "execution_count": null,
      "outputs": []
    },
    {
      "cell_type": "code",
      "metadata": {
        "id": "RyjZcwoo91AE"
      },
      "source": [
        "# 16 TOPICS\n",
        "# lda_model16 = LatentDirichletAllocation(n_components=16, doc_topic_prior=alpha, topic_word_prior=beta, learning_method='online', random_state=15, n_jobs=1).fit(tf)"
      ],
      "execution_count": null,
      "outputs": []
    },
    {
      "cell_type": "code",
      "metadata": {
        "id": "aXkHfr4B91iE"
      },
      "source": [
        "# 20 TOPICS\n",
        "# lda_model20 = LatentDirichletAllocation(n_components=20, doc_topic_prior=alpha, topic_word_prior=beta, learning_method='online', random_state=15, n_jobs=1).fit(tf)"
      ],
      "execution_count": null,
      "outputs": []
    },
    {
      "cell_type": "code",
      "metadata": {
        "colab": {
          "base_uri": "https://localhost:8080/"
        },
        "id": "mQD39tR07Avg",
        "outputId": "9f51ae45-34f8-42d7-aa77-4ba605c951a0"
      },
      "source": [
        "# A model with a lower perplexity (exp(-1. * log-likelihood per word)) and higher log-likelihood is ideal \n",
        "print('Model Perplexity - 4 Topics:',lda_model4.perplexity(tf, sub_sampling = False))\n",
        "print('Model Log-Likelihood - 4 Topics:', lda_model4.score(tf))\n",
        "\n",
        "# print('Model Perplexity - 8 Topics:',lda_model8.perplexity(tf, sub_sampling = False))\n",
        "# print('Model Log-Likelihood - 8 Topics:', lda_model8.score(tf))\n",
        "\n",
        "# print('Model Perplexity - 16 Topics:',lda_model16.perplexity(tf, sub_sampling = False))\n",
        "# print('Model Log-Likelihood - 16 Topics:', lda_model16.score(tf))\n",
        "\n",
        "# print('Model Perplexity - 20 Topics:',lda_model20.perplexity(tf, sub_sampling = False))\n",
        "# print('Model Log-Likelihood - 20 Topics:', lda_model20.score(tf))"
      ],
      "execution_count": null,
      "outputs": [
        {
          "output_type": "stream",
          "name": "stdout",
          "text": [
            "Model Perplexity - 4 Topics: 19212.46090769441\n",
            "Model Log-Likelihood - 4 Topics: -134222319.32264835\n"
          ]
        }
      ]
    },
    {
      "cell_type": "code",
      "metadata": {
        "id": "MPX3cD_QR6EA"
      },
      "source": [
        "# Looking at our scores above, the best performing k is 4 topics because it has the lowest perplexity and highest log-likelihood compared to the other k values\n",
        "  # Therefore, I will try some k values around 4 to see if any better scores can be achieved"
      ],
      "execution_count": null,
      "outputs": []
    },
    {
      "cell_type": "code",
      "metadata": {
        "id": "Vr1JR7vRSOCa"
      },
      "source": [
        "# 2 TOPICS\n",
        "#lda_model2 = LatentDirichletAllocation(n_components=2, doc_topic_prior=alpha, topic_word_prior=beta, learning_method='online', random_state=15, n_jobs=1).fit(tf)\n",
        "# 3 TOPICS\n",
        "lda_model3 = LatentDirichletAllocation(n_components=3, doc_topic_prior=alpha, topic_word_prior=beta, learning_method='online', random_state=15, n_jobs=1).fit(tf)\n",
        "# 5 TOPICS\n",
        "#lda_model5 = LatentDirichletAllocation(n_components=5, doc_topic_prior=alpha, topic_word_prior=beta, learning_method='online', random_state=15, n_jobs=1).fit(tf)\n",
        "# 6 TOPICS\n",
        "#lda_model6 = LatentDirichletAllocation(n_components=6, doc_topic_prior=alpha, topic_word_prior=beta, learning_method='online', random_state=15, n_jobs=1).fit(tf)"
      ],
      "execution_count": null,
      "outputs": []
    },
    {
      "cell_type": "code",
      "metadata": {
        "id": "AXm4Ii7nSeLY",
        "colab": {
          "base_uri": "https://localhost:8080/"
        },
        "outputId": "226a5fa6-f628-4dcc-f8a6-dc508b32e448"
      },
      "source": [
        "# print('Model Perplexity - 2 Topics:',lda_model2.perplexity(tf, sub_sampling = False))\n",
        "# print('Model Log-Likelihood - 2 Topics:', lda_model2.score(tf))\n",
        "\n",
        "print('Model Perplexity - 3 Topics:',lda_model3.perplexity(tf, sub_sampling = False))\n",
        "print('Model Log-Likelihood - 3 Topics:', lda_model3.score(tf))\n",
        "\n",
        "# print('Model Perplexity - 5 Topics:',lda_model5.perplexity(tf, sub_sampling = False))\n",
        "# print('Model Log-Likelihood - 5 Topics:', lda_model5.score(tf))\n",
        " \n",
        "# print('Model Perplexity - 6 Topics:',lda_model6.perplexity(tf, sub_sampling = False))\n",
        "# print('Model Log-Likelihood - 6 Topics:', lda_model6.score(tf))"
      ],
      "execution_count": null,
      "outputs": [
        {
          "output_type": "stream",
          "name": "stdout",
          "text": [
            "Model Perplexity - 3 Topics: 19641.22278701055\n",
            "Model Log-Likelihood - 3 Topics: -134522673.34718406\n"
          ]
        }
      ]
    },
    {
      "cell_type": "code",
      "metadata": {
        "colab": {
          "base_uri": "https://localhost:8080/"
        },
        "id": "78gu_uDX9Q2t",
        "outputId": "70ebf2e3-5e42-42ff-8fec-d6faf61fffe3"
      },
      "source": [
        "# Topic words \n",
        "for index, topic in enumerate(lda_model4.components_):\n",
        "    print(f'Top 15 words for Topic #{index}')\n",
        "    print([tf_vectorizer.get_feature_names()[i] for i in topic.argsort()[-26:]])\n",
        "    print('\\n')"
      ],
      "execution_count": null,
      "outputs": [
        {
          "output_type": "stream",
          "name": "stdout",
          "text": [
            "Top 15 words for Topic #0\n",
            "['crisis', 'worker', 'pass', 'vote', 'government', 'american', 'business', 'president', 'want', 'plan', 'democrats', 'time', 'thank', 'people', 'relief', 'pay', 'money', 'americans', 'job', 'state', 'trump', 'work', 'help', 'need', 'covid', 'pandemic']\n",
            "\n",
            "\n",
            "Top 15 words for Topic #1\n",
            "['year', 've', 'way', 'flu', 'let', 'look', 'good', 'bad', 'life', 'tell', 'thing', 'say', 'china', 'right', 'want', 'come', 'stop', 'test', 'think', 'die', 'like', 'know', 'covid', 'people', 'virus', 'nt']\n",
            "\n",
            "\n",
            "Top 15 words for Topic #2\n",
            "['blame', 'covid death', 'infect', 'nurse', 'thousand', 'patient nursing', 'order', 'force', 'state', 'positive', 'elderly', 'people', 'hospital', 'governor', 'send', 'ny', 'kill', 'covid patient', 'trump', 'cuomo', 'patient', 'nursing home', 'death', 'nursing', 'home', 'covid']\n",
            "\n",
            "\n",
            "Top 15 words for Topic #3\n",
            "['number', 'test', 'high', 'vaccine', 'ny', 'day', 'city', 'school', 'testing', 'rate', 'wear mask', 'open', 'say', 'mayor', 'wear', 'case', 'new york', 'york', 'state', 'coronavirus', 'spread', 'virus', 'nyc', 'mask', 'new', 'covid']\n",
            "\n",
            "\n"
          ]
        }
      ]
    },
    {
      "cell_type": "code",
      "metadata": {
        "colab": {
          "base_uri": "https://localhost:8080/",
          "height": 861
        },
        "id": "cnClE79aGdmV",
        "outputId": "476820bc-157d-4b52-a015-d2120e27c8d0"
      },
      "source": [
        "# Creating LDA plot of best topic # \n",
        "pyLDAvis.enable_notebook()\n",
        "display_data = pyLDAvis.sklearn.prepare(lda_model4, tf, tf_vectorizer)                 \n",
        "pyLDAvis.display(display_data)   "
      ],
      "execution_count": null,
      "outputs": [
        {
          "output_type": "execute_result",
          "data": {
            "text/html": [
              "\n",
              "<link rel=\"stylesheet\" type=\"text/css\" href=\"https://cdn.jsdelivr.net/gh/bmabey/pyLDAvis@3.3.1/pyLDAvis/js/ldavis.v1.0.0.css\">\n",
              "\n",
              "\n",
              "<div id=\"ldavis_el616140670315022160225723575\"></div>\n",
              "<script type=\"text/javascript\">\n",
              "\n",
              "var ldavis_el616140670315022160225723575_data = {\"mdsDat\": {\"x\": [-0.03059601040423319, 0.06552557524966239, 0.2705809253407765, -0.3055104901862056], \"y\": [-0.07609358501150791, 0.33576813104925785, -0.17994168132198404, -0.07973286471576595], \"topics\": [1, 2, 3, 4], \"cluster\": [1, 1, 1, 1], \"Freq\": [26.98733503124989, 24.94456656726135, 24.56394009873741, 23.504158302751346]}, \"tinfo\": {\"Term\": [\"pandemic\", \"nt\", \"home\", \"virus\", \"nursing\", \"death\", \"nursing home\", \"patient\", \"new\", \"cuomo\", \"mask\", \"covid patient\", \"kill\", \"nyc\", \"people\", \"send\", \"spread\", \"know\", \"help\", \"need\", \"ny\", \"think\", \"governor\", \"york\", \"new york\", \"case\", \"like\", \"trump\", \"wear\", \"covid\", \"china\", \"flu\", \"wo nt\", \"corona\", \"nt know\", \"shit\", \"corona virus\", \"virus nt\", \"hoax\", \"chinese\", \"sense\", \"fuck\", \"matter\", \"black\", \"covid nt\", \"fake\", \"attack\", \"covid test\", \"china virus\", \"wuhan\", \"europe\", \"fucking\", \"people nt\", \"cure\", \"common\", \"racist\", \"lol\", \"sound\", \"term\", \"heart\", \"think\", \"believe\", \"thing\", \"wo\", \"seriously\", \"hate\", \"nt\", \"god\", \"know\", \"virus\", \"like\", \"actually\", \"people\", \"come\", \"understand\", \"mean\", \"stupid\", \"right\", \"life\", \"die\", \"people die\", \"stop\", \"look\", \"tell\", \"test\", \"world\", \"want\", \"die covid\", \"ve\", \"bad\", \"good\", \"covid\", \"year\", \"say\", \"way\", \"let\", \"time\", \"pandemic\", \"help\", \"americans\", \"money\", \"pay\", \"relief\", \"democrats\", \"american\", \"vote\", \"pass\", \"worker\", \"crisis\", \"economy\", \"support\", \"act\", \"covid relief\", \"cut\", \"unemployment\", \"fund\", \"check\", \"chuck\", \"tax\", \"election\", \"republican\", \"billion\", \"schumer\", \"middle\", \"stimulus\", \"essential\", \"healthcare\", \"biden\", \"government\", \"dem\", \"job\", \"need\", \"fight\", \"america\", \"plan\", \"work\", \"business\", \"thank\", \"million\", \"federal\", \"covid\", \"president\", \"trump\", \"state\", \"time\", \"want\", \"people\", \"country\", \"new\", \"mask\", \"nyc\", \"spread\", \"york\", \"new york\", \"case\", \"wear\", \"mayor\", \"open\", \"wear mask\", \"rate\", \"testing\", \"school\", \"risk\", \"safe\", \"science\", \"kid\", \"daily\", \"spread virus\", \"reopen\", \"briefing\", \"yorkers\", \"new yorkers\", \"blasio\", \"covid case\", \"infection\", \"virus spread\", \"prevent\", \"nyc mayor\", \"vaccine\", \"close\", \"high\", \"social\", \"coronavirus\", \"city\", \"public\", \"week\", \"state\", \"say\", \"covid\", \"virus\", \"day\", \"number\", \"health\", \"ny\", \"test\", \"home\", \"nursing\", \"nursing home\", \"patient\", \"cuomo\", \"covid patient\", \"kill\", \"send\", \"hospital\", \"elderly\", \"force\", \"order\", \"patient nursing\", \"thousand\", \"nurse\", \"covid death\", \"send covid\", \"handle\", \"nurse home\", \"covid positive\", \"senior\", \"death\", \"patient nurse\", \"responsible\", \"vulnerable\", \"murder\", \"home covid\", \"positive patient\", \"facility\", \"ship\", \"infect\", \"gov\", \"governor\", \"positive\", \"ny\", \"covid\", \"trump\", \"blame\", \"state\", \"people\", \"die\"], \"Freq\": [102557.0, 128318.0, 93390.0, 151693.0, 65504.0, 65287.0, 63873.0, 56134.0, 48217.0, 40829.0, 39859.0, 32589.0, 31884.0, 32204.0, 107060.0, 29620.0, 30419.0, 42100.0, 28623.0, 47061.0, 41607.0, 26864.0, 27764.0, 23835.0, 23406.0, 22945.0, 41966.0, 61594.0, 21283.0, 275209.0, 15937.301154492705, 10633.462172182995, 8561.769413273838, 6262.251403810731, 5353.910123619505, 5324.666374801401, 5194.567045631543, 5090.267430102098, 4951.439382661603, 4551.492480892795, 4355.206467941711, 4216.460057325972, 5126.441717196506, 4068.8475487685846, 4029.971090555793, 4008.9506821442396, 3985.3618318653334, 3946.605645186808, 3931.0056087914554, 3897.019969639703, 3446.027719636122, 3191.0002954025526, 3184.254068110334, 3166.4806986185404, 3143.71098330619, 2796.763582623308, 2779.08773269684, 2762.4916797787164, 2670.478926143587, 2641.327458320006, 26819.814302303632, 8639.170074348336, 15412.571973403992, 9391.09526643108, 3688.7880580795436, 3214.2729392658766, 121428.00878528792, 5795.0928063043875, 37808.15656005456, 119668.80493841058, 35558.60011188031, 7042.963184150082, 73799.51097157525, 18821.643457658276, 5822.897350027583, 9335.96667724758, 5944.195739691947, 17476.4752692609, 14304.062957142503, 27025.970141111477, 7808.064601226209, 18891.445951179492, 11905.547690611556, 14687.995720376537, 20697.305274286617, 9228.61186450737, 17579.669908259297, 6487.2953025915, 10112.079200598015, 12527.843553472552, 12239.372238367929, 64731.04657559819, 9940.925967731118, 15621.709090588072, 10247.212620411812, 11175.452893049596, 9820.238931265078, 102557.41945233644, 28623.177914955188, 15637.123280841724, 13694.757709194731, 13382.768172901111, 12698.84263033242, 11083.322621239851, 10400.6058276383, 10239.878747412136, 10175.361283847657, 9912.539155613604, 9358.45908697913, 9305.159182631654, 8573.451072760268, 8338.57277861286, 7603.645427534693, 6726.750509343205, 6131.659878582409, 5976.44967055676, 5949.451797671744, 5653.447006386782, 5493.794224787008, 5458.800583584453, 5230.863960164676, 5213.751351580193, 4619.499669166198, 4518.241066969022, 4483.490976811792, 4438.531065930705, 4429.120016845298, 5118.112078679714, 10311.628124999459, 7823.90414287615, 16688.84840189625, 37299.68125026082, 8481.507524925228, 8786.950411827718, 10855.514086599302, 23010.11684864526, 10508.387908594765, 11446.644186881178, 8919.08346444557, 7476.349878308935, 42565.47083660987, 10557.878221242921, 18193.63924191758, 16774.495751762126, 11206.670432234145, 10692.305227101231, 11538.142701507031, 9349.552503355722, 48217.60926301548, 39859.470001420035, 32203.90881927806, 30419.741694638924, 23834.93188809361, 23406.16210957805, 22945.527117105237, 21282.870115297184, 18658.110537435372, 15905.039151138348, 15507.501462718401, 14731.148704529995, 14187.672125796398, 13852.873377075926, 9609.01759747015, 8802.951784204502, 8535.841465401661, 8000.969997978122, 7914.631964636045, 7365.803858563027, 6872.053892563517, 6675.33883053154, 6435.358961867695, 6415.012645822834, 6312.045228823927, 6153.456952525493, 5639.442303295355, 4882.567371946729, 4794.754852891951, 4754.21994234562, 11794.557526009428, 9398.689507919871, 11089.105368010287, 7481.5240798122295, 25554.005692499646, 13581.286492949326, 8272.983366883605, 9602.257330825707, 23880.497102149773, 18302.633999574766, 52391.89423712263, 32024.62157283052, 12638.700318660793, 10197.065832814029, 9126.986511572684, 11830.072778343267, 10408.037352138192, 93390.66979774568, 65504.11023374705, 63873.26211670398, 56134.33476047662, 40829.210973546265, 32589.54008381981, 31884.75035041329, 29620.359223759617, 19345.403595489952, 18103.227459927326, 16102.445382847087, 15646.960870639068, 15001.999234118006, 14893.568746631614, 13842.929892287804, 13579.071740833377, 11307.099308679522, 10685.275237099131, 10151.906453978354, 9869.574069327697, 9755.724984371063, 65286.38944263565, 7789.899922073831, 7646.626083919146, 7469.950521799352, 6723.969954089633, 6251.969136092506, 6228.323790052533, 5868.720595250553, 5365.713934913746, 13642.233126725074, 9695.230236528767, 25973.090879849373, 17557.326889686414, 29763.935426237837, 115520.97976797588, 35706.156327399534, 11360.538593022164, 17009.30583043303, 19106.56806952133, 11227.081840941268], \"Total\": [102557.0, 128318.0, 93390.0, 151693.0, 65504.0, 65287.0, 63873.0, 56134.0, 48217.0, 40829.0, 39859.0, 32589.0, 31884.0, 32204.0, 107060.0, 29620.0, 30419.0, 42100.0, 28623.0, 47061.0, 41607.0, 26864.0, 27764.0, 23835.0, 23406.0, 22945.0, 41966.0, 61594.0, 21283.0, 275209.0, 15937.451907730549, 10633.612925420037, 8561.92016656351, 6262.402157050026, 5354.0608768570455, 5324.817128039266, 5194.717798870383, 5090.418183339582, 4951.590135899207, 4551.643234131021, 4355.357221180065, 4216.610810564192, 5126.630276014103, 4068.9983020075983, 4030.1218437932375, 4009.10143538227, 3985.512587095111, 3946.75639842494, 3931.1563620286843, 3897.17072287835, 3446.1784728738535, 3191.1510486404122, 3184.404821347942, 3166.631451856241, 3143.8617365440546, 2796.9143358613132, 2779.2384859348817, 2762.642433017344, 2670.6296793829865, 2641.4782115576786, 26864.702885393035, 8644.021605071292, 15561.83315708708, 9443.870547581788, 3692.705475852106, 3214.7329365882406, 128318.70435136296, 5880.683152248557, 42100.03305748234, 151693.52872532525, 41966.826243715645, 7445.453772684801, 107060.56780257521, 22941.790258853493, 6124.436410511849, 10487.26037931461, 6304.791597358614, 22367.28479603077, 17905.83730132649, 38253.15280327128, 8898.404564302891, 26989.42064363325, 15155.427158765202, 19818.842126776042, 31105.444839991327, 11073.244170530528, 28874.871500833513, 7124.342314719463, 13684.059084183471, 18849.25512209144, 18863.598185159513, 275209.39141730656, 14762.565296578112, 37687.169778759795, 17041.32108568268, 21849.91225141366, 26358.186099188133, 102557.56566374024, 28623.32412633298, 15637.269492218777, 13694.903920571232, 13382.914384277645, 12698.988841707442, 11083.46883261691, 10400.75203901493, 10240.024958788385, 10175.507495225198, 9912.685366991107, 9358.60553065035, 9305.305394141242, 8573.597284137766, 8338.718989991026, 7603.791638909619, 6726.896720719954, 6131.806089958211, 5976.595881932849, 5949.598009050167, 5653.593217763744, 5493.940436162757, 5458.946794960773, 5231.010171541346, 5213.897562956295, 4619.645880542911, 4518.387278345747, 4483.637188186982, 4438.677277307991, 4429.266228222657, 5119.277472356366, 10528.565649188584, 8106.655235231453, 19053.421290667422, 47061.47384366732, 9186.247756934683, 9789.318713916675, 12697.013853215809, 31753.250145624494, 12499.442336567423, 17526.498831907054, 12175.068070793035, 9192.15713639435, 275209.39141730656, 18036.369790868855, 61594.85493764525, 57664.34642403151, 26358.186099188133, 28874.871500833513, 107060.56780257521, 20578.230591040297, 48217.75921626842, 39859.61995467213, 32204.058772531575, 30419.89164789183, 23835.0818413466, 23406.312062830762, 22945.677070358095, 21283.02006854918, 18658.260490688786, 15905.189104391482, 15507.651415970286, 14731.29865778241, 14187.822087296123, 13853.023330327585, 9609.175735816454, 8803.10173745813, 8535.991418654974, 8001.119957542227, 7914.781917889388, 7365.95381181598, 6872.203845816175, 6675.4887837847455, 6435.508915120483, 6415.162599075615, 6312.195182076985, 6153.606905777865, 5639.59225654778, 4882.717325199737, 4794.904807524077, 4754.369895598107, 11795.353117751234, 9759.064257164582, 12215.96777733032, 7938.954949552219, 39664.3374041573, 17979.95313942393, 9306.062754299704, 12530.701006703663, 57664.34642403151, 37687.169778759795, 275209.39141730656, 151693.52872532525, 23113.93285010249, 19558.55395837839, 13570.979705614693, 41607.34523586977, 31105.444839991327, 93390.81835864976, 65504.25879465028, 63873.4106776072, 56134.48332138005, 40829.35953445125, 32589.688644723064, 31884.898911318494, 29620.50778466374, 19345.55215639528, 18103.3760208309, 16102.593943752312, 15647.109431544512, 15002.147795021028, 14893.717307536237, 13843.078453191945, 13579.220301737889, 11307.247869582552, 10685.423798004578, 10152.055014881405, 9869.722630231045, 9755.873545274675, 65287.42063375497, 7790.048482976829, 7646.7746448240205, 7470.099082704244, 6724.118514993877, 6252.117696995787, 6228.472350955466, 5868.869156154623, 5365.862495817176, 13724.385188219121, 9850.34876989156, 27764.846695255685, 21115.519306892224, 41607.34523586977, 275209.39141730656, 61594.85493764525, 14622.587866793385, 57664.34642403151, 107060.56780257521, 38253.15280327128], \"Category\": [\"Default\", \"Default\", \"Default\", \"Default\", \"Default\", \"Default\", \"Default\", \"Default\", \"Default\", \"Default\", \"Default\", \"Default\", \"Default\", \"Default\", \"Default\", \"Default\", \"Default\", \"Default\", \"Default\", \"Default\", \"Default\", \"Default\", \"Default\", \"Default\", \"Default\", \"Default\", \"Default\", \"Default\", \"Default\", \"Default\", \"Topic1\", \"Topic1\", \"Topic1\", \"Topic1\", \"Topic1\", \"Topic1\", \"Topic1\", \"Topic1\", \"Topic1\", \"Topic1\", \"Topic1\", \"Topic1\", \"Topic1\", \"Topic1\", \"Topic1\", \"Topic1\", \"Topic1\", \"Topic1\", \"Topic1\", \"Topic1\", \"Topic1\", \"Topic1\", \"Topic1\", \"Topic1\", \"Topic1\", \"Topic1\", \"Topic1\", \"Topic1\", \"Topic1\", \"Topic1\", \"Topic1\", \"Topic1\", \"Topic1\", \"Topic1\", \"Topic1\", \"Topic1\", \"Topic1\", \"Topic1\", \"Topic1\", \"Topic1\", \"Topic1\", \"Topic1\", \"Topic1\", \"Topic1\", \"Topic1\", \"Topic1\", \"Topic1\", \"Topic1\", \"Topic1\", \"Topic1\", \"Topic1\", \"Topic1\", \"Topic1\", \"Topic1\", \"Topic1\", \"Topic1\", \"Topic1\", \"Topic1\", \"Topic1\", \"Topic1\", \"Topic1\", \"Topic1\", \"Topic1\", \"Topic1\", \"Topic1\", \"Topic1\", \"Topic1\", \"Topic2\", \"Topic2\", \"Topic2\", \"Topic2\", \"Topic2\", \"Topic2\", \"Topic2\", \"Topic2\", \"Topic2\", \"Topic2\", \"Topic2\", \"Topic2\", \"Topic2\", \"Topic2\", \"Topic2\", \"Topic2\", \"Topic2\", \"Topic2\", \"Topic2\", \"Topic2\", \"Topic2\", \"Topic2\", \"Topic2\", \"Topic2\", \"Topic2\", \"Topic2\", \"Topic2\", \"Topic2\", \"Topic2\", \"Topic2\", \"Topic2\", \"Topic2\", \"Topic2\", \"Topic2\", \"Topic2\", \"Topic2\", \"Topic2\", \"Topic2\", \"Topic2\", \"Topic2\", \"Topic2\", \"Topic2\", \"Topic2\", \"Topic2\", \"Topic2\", \"Topic2\", \"Topic2\", \"Topic2\", \"Topic2\", \"Topic2\", \"Topic2\", \"Topic3\", \"Topic3\", \"Topic3\", \"Topic3\", \"Topic3\", \"Topic3\", \"Topic3\", \"Topic3\", \"Topic3\", \"Topic3\", \"Topic3\", \"Topic3\", \"Topic3\", \"Topic3\", \"Topic3\", \"Topic3\", \"Topic3\", \"Topic3\", \"Topic3\", \"Topic3\", \"Topic3\", \"Topic3\", \"Topic3\", \"Topic3\", \"Topic3\", \"Topic3\", \"Topic3\", \"Topic3\", \"Topic3\", \"Topic3\", \"Topic3\", \"Topic3\", \"Topic3\", \"Topic3\", \"Topic3\", \"Topic3\", \"Topic3\", \"Topic3\", \"Topic3\", \"Topic3\", \"Topic3\", \"Topic3\", \"Topic3\", \"Topic3\", \"Topic3\", \"Topic3\", \"Topic3\", \"Topic4\", \"Topic4\", \"Topic4\", \"Topic4\", \"Topic4\", \"Topic4\", \"Topic4\", \"Topic4\", \"Topic4\", \"Topic4\", \"Topic4\", \"Topic4\", \"Topic4\", \"Topic4\", \"Topic4\", \"Topic4\", \"Topic4\", \"Topic4\", \"Topic4\", \"Topic4\", \"Topic4\", \"Topic4\", \"Topic4\", \"Topic4\", \"Topic4\", \"Topic4\", \"Topic4\", \"Topic4\", \"Topic4\", \"Topic4\", \"Topic4\", \"Topic4\", \"Topic4\", \"Topic4\", \"Topic4\", \"Topic4\", \"Topic4\", \"Topic4\", \"Topic4\", \"Topic4\", \"Topic4\"], \"logprob\": [30.0, 29.0, 28.0, 27.0, 26.0, 25.0, 24.0, 23.0, 22.0, 21.0, 20.0, 19.0, 18.0, 17.0, 16.0, 15.0, 14.0, 13.0, 12.0, 11.0, 10.0, 9.0, 8.0, 7.0, 6.0, 5.0, 4.0, 3.0, 2.0, 1.0, -5.44, -5.8446, -6.0613, -6.3741, -6.5308, -6.5363, -6.561, -6.5813, -6.6089, -6.6932, -6.7373, -6.7696, -6.5742, -6.8053, -6.8149, -6.8201, -6.826, -6.8358, -6.8397, -6.8484, -6.9714, -7.0483, -7.0504, -7.056, -7.0632, -7.1802, -7.1865, -7.1925, -7.2264, -7.2373, -4.9195, -6.0523, -5.4734, -5.9689, -6.9033, -7.041, -3.4093, -6.4516, -4.5761, -3.4239, -4.6374, -6.2566, -3.9073, -5.2736, -6.4468, -5.9748, -6.4262, -5.3478, -5.5481, -4.9118, -6.1535, -5.2699, -5.7316, -5.5216, -5.1786, -5.9863, -5.3419, -6.3388, -5.8949, -5.6807, -5.704, -4.0384, -5.912, -5.46, -5.8816, -5.7949, -5.9242, -3.4995, -4.7757, -5.3803, -5.5129, -5.5359, -5.5884, -5.7245, -5.7881, -5.8036, -5.8099, -5.8361, -5.8936, -5.8993, -5.9812, -6.009, -6.1013, -6.2238, -6.3165, -6.3421, -6.3466, -6.3977, -6.4263, -6.4327, -6.4753, -6.4786, -6.5996, -6.6218, -6.6295, -6.6396, -6.6417, -6.4971, -5.7966, -6.0727, -5.3152, -4.5109, -5.992, -5.9566, -5.7452, -4.994, -5.7777, -5.6922, -5.9417, -6.1182, -4.3789, -5.773, -5.2288, -5.3101, -5.7134, -5.7604, -5.6843, -5.8946, -4.2388, -4.4292, -4.6425, -4.6994, -4.9434, -4.9615, -4.9814, -5.0566, -5.1883, -5.3479, -5.3732, -5.4246, -5.4622, -5.486, -5.8518, -5.9395, -5.9703, -6.035, -6.0458, -6.1177, -6.1871, -6.2161, -6.2527, -6.2559, -6.2721, -6.2975, -6.3848, -6.5289, -6.547, -6.5555, -5.6469, -5.874, -5.7086, -6.1021, -4.8737, -5.5058, -6.0015, -5.8525, -4.9415, -5.2075, -4.1558, -4.648, -5.5778, -5.7924, -5.9033, -5.6439, -5.772, -3.5336, -3.8883, -3.9135, -4.0427, -4.361, -4.5864, -4.6083, -4.682, -5.108, -5.1743, -5.2915, -5.3202, -5.3623, -5.3695, -5.4427, -5.4619, -5.645, -5.7016, -5.7528, -5.781, -5.7926, -3.8917, -6.0176, -6.0362, -6.0595, -6.1648, -6.2375, -6.2413, -6.3008, -6.3904, -5.4573, -5.7988, -4.8134, -5.205, -4.6771, -3.321, -4.4951, -5.6403, -5.2367, -5.1204, -5.6521], \"loglift\": [30.0, 29.0, 28.0, 27.0, 26.0, 25.0, 24.0, 23.0, 22.0, 21.0, 20.0, 19.0, 18.0, 17.0, 16.0, 15.0, 14.0, 13.0, 12.0, 11.0, 10.0, 9.0, 8.0, 7.0, 6.0, 5.0, 4.0, 3.0, 2.0, 1.0, 1.3098, 1.3098, 1.3098, 1.3098, 1.3098, 1.3098, 1.3098, 1.3098, 1.3098, 1.3098, 1.3098, 1.3098, 1.3098, 1.3098, 1.3098, 1.3098, 1.3098, 1.3098, 1.3098, 1.3098, 1.3098, 1.3098, 1.3098, 1.3098, 1.3098, 1.3097, 1.3097, 1.3097, 1.3097, 1.3097, 1.3081, 1.3092, 1.3002, 1.3042, 1.3087, 1.3097, 1.2546, 1.2951, 1.2023, 1.0727, 1.1441, 1.2542, 0.9378, 1.1118, 1.2593, 1.1935, 1.2509, 1.0631, 1.0852, 0.9624, 1.1791, 0.9531, 1.0684, 1.0102, 0.9024, 1.1276, 0.8136, 1.2161, 1.0073, 0.9013, 0.8772, -0.1375, 0.9144, 0.4291, 0.8012, 0.6393, 0.3225, 1.3885, 1.3885, 1.3885, 1.3885, 1.3885, 1.3885, 1.3885, 1.3885, 1.3885, 1.3885, 1.3885, 1.3885, 1.3885, 1.3885, 1.3885, 1.3885, 1.3885, 1.3885, 1.3885, 1.3885, 1.3885, 1.3885, 1.3885, 1.3885, 1.3885, 1.3885, 1.3885, 1.3885, 1.3885, 1.3885, 1.3883, 1.3677, 1.353, 1.256, 1.156, 1.3087, 1.2805, 1.2318, 1.0665, 1.215, 0.9625, 1.0773, 1.1819, -0.478, 0.853, 0.169, 0.1537, 0.5332, 0.3951, -0.8392, 0.5996, 1.4039, 1.4039, 1.4039, 1.4039, 1.4039, 1.4039, 1.4039, 1.4039, 1.4039, 1.4039, 1.4039, 1.4039, 1.4039, 1.4039, 1.4039, 1.4039, 1.4039, 1.4039, 1.4039, 1.4039, 1.4039, 1.4039, 1.4039, 1.4039, 1.4039, 1.4039, 1.4039, 1.4039, 1.4039, 1.4039, 1.4038, 1.3663, 1.3071, 1.3445, 0.9642, 1.1233, 1.2862, 1.1377, 0.5223, 0.6816, -0.2549, -0.1515, 0.8002, 0.7526, 1.0072, 0.1463, 0.3091, 1.448, 1.448, 1.448, 1.448, 1.448, 1.448, 1.448, 1.448, 1.448, 1.448, 1.448, 1.448, 1.448, 1.448, 1.448, 1.448, 1.448, 1.448, 1.448, 1.448, 1.448, 1.448, 1.448, 1.448, 1.448, 1.448, 1.448, 1.448, 1.448, 1.448, 1.442, 1.4321, 1.3813, 1.2635, 1.113, 0.5799, 0.9027, 1.1956, 0.2271, -0.2754, 0.2221]}, \"token.table\": {\"Topic\": [2, 1, 2, 4, 1, 2, 2, 2, 1, 1, 2, 3, 4, 1, 4, 1, 2, 2, 1, 1, 4, 3, 3, 2, 3, 3, 2, 1, 1, 1, 2, 2, 3, 1, 2, 3, 1, 2, 3, 4, 1, 1, 1, 2, 3, 4, 1, 2, 3, 4, 1, 2, 3, 4, 3, 4, 1, 4, 4, 2, 1, 2, 4, 1, 2, 3, 1, 2, 3, 1, 4, 2, 4, 2, 1, 4, 1, 4, 2, 4, 2, 2, 1, 4, 1, 2, 4, 1, 2, 1, 4, 1, 1, 2, 1, 2, 4, 1, 2, 3, 4, 3, 4, 2, 4, 3, 4, 4, 1, 2, 3, 2, 1, 2, 3, 4, 1, 4, 4, 4, 3, 4, 3, 2, 4, 3, 4, 1, 4, 1, 2, 3, 4, 1, 2, 3, 4, 1, 2, 3, 4, 1, 1, 2, 3, 4, 3, 1, 3, 1, 2, 3, 4, 2, 1, 2, 3, 2, 4, 1, 2, 3, 4, 3, 3, 3, 1, 2, 3, 4, 1, 1, 3, 4, 4, 4, 4, 4, 2, 3, 4, 3, 3, 3, 4, 2, 2, 4, 4, 4, 2, 1, 2, 3, 4, 1, 4, 1, 2, 3, 1, 3, 4, 4, 1, 2, 4, 3, 2, 3, 1, 3, 2, 3, 2, 4, 1, 2, 3, 4, 3, 3, 1, 3, 4, 3, 2, 3, 4, 4, 4, 1, 1, 3, 4, 4, 1, 2, 3, 1, 3, 3, 2, 3, 4, 2, 1, 2, 3, 1, 4, 2, 2, 1, 2, 3, 4, 1, 1, 3, 3, 1, 2, 3, 4, 1, 2, 1, 4, 4, 1, 2, 3, 4, 1, 2, 4, 1, 3, 2, 1, 3, 1, 2, 3, 4, 1, 3, 1, 3, 2, 4, 1, 2, 3, 4, 1, 2, 3, 4, 3, 3, 1, 2, 3, 1, 2, 1, 1, 2, 3, 2, 1, 2, 3, 4, 1, 1, 2, 3, 3, 3], \"Freq\": [1.000033699421855, 0.9459463741268146, 0.03505494869332651, 0.018937730903291334, 0.10235645904301169, 0.8976109836436564, 1.0000238406784567, 0.9999827660309295, 0.9998713874102994, 0.6646416486409115, 0.02329004499947, 0.0306112892134264, 0.2814965347771932, 0.9994190661128907, 0.0005784344635449072, 0.00019534006613236132, 0.9997504584654252, 1.0000196469229532, 1.0000004172998551, 0.223079528036738, 0.7769486566601412, 0.9999690785738788, 0.9999267793264918, 0.8406775052082596, 0.1592871062875566, 1.0000140736593177, 0.9998994874865063, 0.999971644919579, 0.9999602249276588, 0.9998586808987582, 0.9998950724360783, 0.2446613718004908, 0.7553412344674847, 0.019469079718428144, 0.017419702905962026, 0.9631046330184534, 0.8204242035007002, 0.049560212484342586, 0.1277145317318591, 0.0023101946012930143, 1.0000439788602464, 0.9999357823020718, 1.0000543246313935, 0.19117929344775114, 0.6442563187081409, 0.16455588135744056, 0.3600892684731744, 0.45436365185211613, 0.14855504638630151, 0.03707801779285183, 0.23520636293202235, 0.15466405336240024, 0.19037141040204097, 0.4197567510508126, 0.9999013739767331, 0.9999837765546922, 0.9999697667222084, 1.000009553797225, 1.000028103096647, 1.0000274022619604, 1.000061721968743, 0.9999352969148698, 0.9999911942177063, 0.9998005919331501, 1.0000153531835456, 1.0000275537737962, 0.3830157358945838, 0.07017412443476956, 0.546813044840353, 1.531688632040977e-05, 0.9999782403142722, 0.9651329399080603, 0.0349095887006622, 0.9999576998299007, 0.7065038570543348, 0.2934921484181535, 0.9105401893164703, 0.08941176207716843, 0.999967180642837, 0.9999792292426304, 1.0000097463927062, 1.0000727069511584, 0.9999482113665156, 1.0000222945582693, 0.9999746987239148, 0.8133020235696801, 0.18668088181454937, 0.07674515413192472, 0.9233367338255114, 0.9999423596265601, 0.9999631150264121, 0.9998551418208524, 0.9999526664084182, 0.9999002974360957, 0.9854297281403785, 0.0076521721771038885, 0.006801930824092345, 0.648815770982057, 0.1307279754262401, 0.1320532793133674, 0.08837126319365053, 0.015735483445395444, 0.9842291096974762, 0.9794306597494338, 0.02061059476004918, 0.06454204554661588, 0.9354634759945616, 0.9999603386807496, 0.9997720070056524, 0.3274634622113091, 0.6725380332139106, 0.9999398933798648, 0.9998189606275811, 0.9999886761463641, 0.9077463367722957, 0.09225630097775969, 0.9998808189121049, 1.0000019449594022, 0.9999811748592251, 0.9999714582250837, 0.005974766729105505, 0.9939971672982597, 0.9998949823815556, 0.8759056835726641, 0.12407220540270705, 0.9999850074061052, 1.0000031704250274, 0.8980515513699929, 0.10194766341726644, 0.5114437015314326, 0.2607790793132978, 0.05016038450813871, 0.17762085061686708, 0.7988456367209558, 0.1269418436987369, 0.00016754312850691185, 0.07405406280005504, 0.8473121077466469, 0.05330400700326919, 0.0002859401359138267, 0.09910208543880043, 0.9999141901869564, 0.7855931657534388, 0.009105648989918912, 0.13830029190485535, 0.0670386911141856, 0.9999844465483405, 0.9998770584223613, 0.9999860388545375, 0.8902229621774824, 0.00972608634769743, 0.05673550369490168, 0.04329061962602582, 0.9999142883684178, 0.12098494985285571, 0.7325626393330754, 0.1464468198150996, 1.000007015706669, 0.9999823746423248, 0.0028048420336024425, 0.7925803625255387, 0.1769387849530874, 0.027687190680181686, 1.000004993673192, 0.9999866675779625, 0.9999746539432004, 0.9463000784944431, 0.007707372085771026, 4.675857686008712e-05, 0.045948094861178936, 0.9999886297786958, 0.2641810847057324, 0.5213575615917077, 0.21448415915241872, 0.9999943326773585, 0.9999945809118129, 0.9999960491935174, 0.9999935704449967, 0.00031244483218777143, 0.28432479729087196, 0.7153544604028329, 0.9999981749961397, 0.9999221988178812, 0.9999881105222804, 0.9999930062772941, 0.9999944844269988, 0.9999501258069501, 0.9999913899380299, 0.9999937762933138, 0.9999901484092113, 1.0000063973899778, 0.6893294283296789, 0.10777077159983517, 0.02443476672778374, 0.17846907028584247, 0.8774606665247396, 0.12249386866188092, 0.999872873779983, 0.8550041864568392, 0.14499472248222559, 0.004499060554432657, 0.16400259684210833, 0.8314737489913069, 0.9999241626310834, 0.13494955072568116, 0.5853727841256129, 0.2797126061672397, 1.0000198528395754, 0.11100290501723947, 0.8889903516046681, 1.0000306280881, 0.9999797263099915, 1.0000008786756722, 0.9999703376353862, 0.9999980555301916, 1.000029470618195, 0.7813196889727643, 0.18795307693073363, 0.013233613409014546, 0.017480887982853674, 0.9999817116658821, 0.9999884429987107, 0.41451772822708594, 0.4856559966547404, 0.09984830439883013, 0.9999983158674443, 0.9998601883002264, 1.000001005313221, 0.9999828569899128, 0.9999780786991308, 1.000012961906972, 0.9999179811983441, 0.9989965417290013, 0.0005416083175543515, 0.0005416083175543515, 1.0000256257373221, 1.0000343433316745, 0.05756425158021286, 0.9424414230265922, 0.9997674570513846, 1.0000035618834355, 1.0000062704960144, 0.2908903168112466, 0.41412070856400196, 0.29496562529167125, 0.9998578858725098, 0.6999409231282017, 0.17395705013429183, 0.12608644123684667, 0.9427750161464865, 0.05709942897253283, 0.9999303344771195, 1.0000108417333489, 0.7411129220387668, 0.014531625922328761, 0.07174990299149825, 0.17261351486210655, 0.9997642206301205, 0.6653819003864717, 0.3346037985805864, 1.0000125398177946, 0.0015975809126821097, 0.6531253109811468, 0.27409923944731623, 0.07120646353668832, 0.9904360138304593, 0.009574707458686722, 0.9983359992632809, 0.0016750604014484577, 1.0000189806519035, 0.3725597794569964, 0.4251810028894663, 0.19553697589830546, 0.006715181360884763, 0.12492926572828093, 0.2953818142508568, 0.5796912751259258, 0.9507813633276573, 0.04914737941982223, 1.0000316236421936, 8.477914904430165e-05, 0.999970062977538, 0.7389620241911856, 0.1963598654076064, 0.06416224854033435, 0.0005115441227589299, 0.7888866519592095, 0.21111645479609326, 0.999917848922324, 1.000057892927531, 0.9999975626242626, 0.9999867360923668, 0.6088338782561346, 0.37028736213393576, 0.010458921003034848, 0.010389656625531306, 0.6013031471256679, 0.21817557343741908, 0.15227692659228148, 0.028225511248896874, 0.999999057062902, 1.0000224781961087, 0.03702905366202335, 0.19663704358453782, 0.7662779596179919, 0.9944016018310071, 0.005612105728574526, 1.000009324244438, 0.07101635233112452, 0.7246502293300112, 0.20432554054294275, 1.0000317404413885, 0.8334504195763464, 0.0068633906043777575, 0.15767736835846796, 0.002077078735535374, 0.9999561931230398, 0.6733924490958406, 0.32643378052437944, 0.00013547780889162873, 0.9999965663492517, 0.9999209207652114], \"Term\": [\"act\", \"actually\", \"actually\", \"actually\", \"america\", \"america\", \"american\", \"americans\", \"attack\", \"bad\", \"bad\", \"bad\", \"bad\", \"believe\", \"believe\", \"biden\", \"biden\", \"billion\", \"black\", \"blame\", \"blame\", \"blasio\", \"briefing\", \"business\", \"business\", \"case\", \"check\", \"china\", \"china virus\", \"chinese\", \"chuck\", \"city\", \"city\", \"close\", \"close\", \"close\", \"come\", \"come\", \"come\", \"come\", \"common\", \"corona\", \"corona virus\", \"coronavirus\", \"coronavirus\", \"coronavirus\", \"country\", \"country\", \"country\", \"country\", \"covid\", \"covid\", \"covid\", \"covid\", \"covid case\", \"covid death\", \"covid nt\", \"covid patient\", \"covid positive\", \"covid relief\", \"covid test\", \"crisis\", \"cuomo\", \"cure\", \"cut\", \"daily\", \"day\", \"day\", \"day\", \"death\", \"death\", \"dem\", \"dem\", \"democrats\", \"die\", \"die\", \"die covid\", \"die covid\", \"economy\", \"elderly\", \"election\", \"essential\", \"europe\", \"facility\", \"fake\", \"federal\", \"federal\", \"fight\", \"fight\", \"flu\", \"force\", \"fuck\", \"fucking\", \"fund\", \"god\", \"god\", \"god\", \"good\", \"good\", \"good\", \"good\", \"gov\", \"gov\", \"government\", \"government\", \"governor\", \"governor\", \"handle\", \"hate\", \"health\", \"health\", \"healthcare\", \"heart\", \"help\", \"high\", \"high\", \"hoax\", \"home\", \"home covid\", \"hospital\", \"infect\", \"infect\", \"infection\", \"job\", \"job\", \"kid\", \"kill\", \"know\", \"know\", \"let\", \"let\", \"let\", \"let\", \"life\", \"life\", \"life\", \"life\", \"like\", \"like\", \"like\", \"like\", \"lol\", \"look\", \"look\", \"look\", \"look\", \"mask\", \"matter\", \"mayor\", \"mean\", \"mean\", \"mean\", \"mean\", \"middle\", \"million\", \"million\", \"million\", \"money\", \"murder\", \"need\", \"need\", \"need\", \"need\", \"new\", \"new york\", \"new yorkers\", \"nt\", \"nt\", \"nt\", \"nt\", \"nt know\", \"number\", \"number\", \"number\", \"nurse\", \"nurse home\", \"nursing\", \"nursing home\", \"ny\", \"ny\", \"ny\", \"nyc\", \"nyc mayor\", \"open\", \"order\", \"pandemic\", \"pass\", \"patient\", \"patient nurse\", \"patient nursing\", \"pay\", \"people\", \"people\", \"people\", \"people\", \"people die\", \"people die\", \"people nt\", \"plan\", \"plan\", \"positive\", \"positive\", \"positive\", \"positive patient\", \"president\", \"president\", \"president\", \"prevent\", \"public\", \"public\", \"racist\", \"rate\", \"relief\", \"reopen\", \"republican\", \"responsible\", \"right\", \"right\", \"right\", \"right\", \"risk\", \"safe\", \"say\", \"say\", \"say\", \"school\", \"schumer\", \"science\", \"send\", \"send covid\", \"senior\", \"sense\", \"seriously\", \"seriously\", \"seriously\", \"ship\", \"shit\", \"social\", \"social\", \"sound\", \"spread\", \"spread virus\", \"state\", \"state\", \"state\", \"stimulus\", \"stop\", \"stop\", \"stop\", \"stupid\", \"stupid\", \"support\", \"tax\", \"tell\", \"tell\", \"tell\", \"tell\", \"term\", \"test\", \"test\", \"testing\", \"thank\", \"thank\", \"thank\", \"thank\", \"thing\", \"thing\", \"think\", \"think\", \"thousand\", \"time\", \"time\", \"time\", \"time\", \"trump\", \"trump\", \"trump\", \"understand\", \"understand\", \"unemployment\", \"vaccine\", \"vaccine\", \"ve\", \"ve\", \"ve\", \"ve\", \"virus\", \"virus\", \"virus nt\", \"virus spread\", \"vote\", \"vulnerable\", \"want\", \"want\", \"want\", \"want\", \"way\", \"way\", \"way\", \"way\", \"wear\", \"wear mask\", \"week\", \"week\", \"week\", \"wo\", \"wo\", \"wo nt\", \"work\", \"work\", \"work\", \"worker\", \"world\", \"world\", \"world\", \"world\", \"wuhan\", \"year\", \"year\", \"year\", \"york\", \"yorkers\"]}, \"R\": 30, \"lambda.step\": 0.01, \"plot.opts\": {\"xlab\": \"PC1\", \"ylab\": \"PC2\"}, \"topic.order\": [2, 1, 4, 3]};\n",
              "\n",
              "function LDAvis_load_lib(url, callback){\n",
              "  var s = document.createElement('script');\n",
              "  s.src = url;\n",
              "  s.async = true;\n",
              "  s.onreadystatechange = s.onload = callback;\n",
              "  s.onerror = function(){console.warn(\"failed to load library \" + url);};\n",
              "  document.getElementsByTagName(\"head\")[0].appendChild(s);\n",
              "}\n",
              "\n",
              "if(typeof(LDAvis) !== \"undefined\"){\n",
              "   // already loaded: just create the visualization\n",
              "   !function(LDAvis){\n",
              "       new LDAvis(\"#\" + \"ldavis_el616140670315022160225723575\", ldavis_el616140670315022160225723575_data);\n",
              "   }(LDAvis);\n",
              "}else if(typeof define === \"function\" && define.amd){\n",
              "   // require.js is available: use it to load d3/LDAvis\n",
              "   require.config({paths: {d3: \"https://d3js.org/d3.v5\"}});\n",
              "   require([\"d3\"], function(d3){\n",
              "      window.d3 = d3;\n",
              "      LDAvis_load_lib(\"https://cdn.jsdelivr.net/gh/bmabey/pyLDAvis@3.3.1/pyLDAvis/js/ldavis.v3.0.0.js\", function(){\n",
              "        new LDAvis(\"#\" + \"ldavis_el616140670315022160225723575\", ldavis_el616140670315022160225723575_data);\n",
              "      });\n",
              "    });\n",
              "}else{\n",
              "    // require.js not available: dynamically load d3 & LDAvis\n",
              "    LDAvis_load_lib(\"https://d3js.org/d3.v5.js\", function(){\n",
              "         LDAvis_load_lib(\"https://cdn.jsdelivr.net/gh/bmabey/pyLDAvis@3.3.1/pyLDAvis/js/ldavis.v3.0.0.js\", function(){\n",
              "                 new LDAvis(\"#\" + \"ldavis_el616140670315022160225723575\", ldavis_el616140670315022160225723575_data);\n",
              "            })\n",
              "         });\n",
              "}\n",
              "</script>"
            ],
            "text/plain": [
              "<IPython.core.display.HTML object>"
            ]
          },
          "metadata": {},
          "execution_count": 14
        }
      ]
    },
    {
      "cell_type": "code",
      "metadata": {
        "colab": {
          "base_uri": "https://localhost:8080/",
          "height": 158
        },
        "id": "10flebky1ATH",
        "outputId": "e8b9a1cd-05fc-4a54-c094-7a6f1c37b8e1"
      },
      "source": [
        "# Getting predicted topic for each tweet \n",
        "tweet_topics = lda_model4.transform(tf)\n",
        "\n",
        "Topic_Assigned = [] \n",
        "for t in range(tweet_topics.shape[0]):\n",
        "  predicted_topic = tweet_topics[t].argmax()\n",
        "  Topic_Assigned.append(predicted_topic)\n",
        "  predicted_topic = None\n",
        "\n",
        "print(Topic_Assigned[:10])\n",
        "\n",
        "tweets_df['Topic'] = Topic_Assigned\n",
        "tweets_df[:3]"
      ],
      "execution_count": null,
      "outputs": [
        {
          "output_type": "stream",
          "name": "stdout",
          "text": [
            "[0, 0, 3, 1, 3, 0, 2, 0, 3, 1]\n"
          ]
        },
        {
          "output_type": "execute_result",
          "data": {
            "text/html": [
              "<div>\n",
              "<style scoped>\n",
              "    .dataframe tbody tr th:only-of-type {\n",
              "        vertical-align: middle;\n",
              "    }\n",
              "\n",
              "    .dataframe tbody tr th {\n",
              "        vertical-align: top;\n",
              "    }\n",
              "\n",
              "    .dataframe thead th {\n",
              "        text-align: right;\n",
              "    }\n",
              "</style>\n",
              "<table border=\"1\" class=\"dataframe\">\n",
              "  <thead>\n",
              "    <tr style=\"text-align: right;\">\n",
              "      <th></th>\n",
              "      <th>Datetime</th>\n",
              "      <th>Text</th>\n",
              "      <th>Text_Unprocessed</th>\n",
              "      <th>Sentiment_Score</th>\n",
              "      <th>Sentiment_Score_Norm</th>\n",
              "      <th>Sentiment</th>\n",
              "      <th>Topic</th>\n",
              "    </tr>\n",
              "  </thead>\n",
              "  <tbody>\n",
              "    <tr>\n",
              "      <th>0</th>\n",
              "      <td>2021-05-30</td>\n",
              "      <td>pandemic democrats republicans refuse work gra...</td>\n",
              "      <td>during the pandemic democrats and republica...</td>\n",
              "      <td>-0.9118</td>\n",
              "      <td>4.410</td>\n",
              "      <td>negative</td>\n",
              "      <td>0</td>\n",
              "    </tr>\n",
              "    <tr>\n",
              "      <th>1</th>\n",
              "      <td>2021-05-30</td>\n",
              "      <td>stand congress location discrimination policy ...</td>\n",
              "      <td>stand up to the congress location di...</td>\n",
              "      <td>-0.6369</td>\n",
              "      <td>18.155</td>\n",
              "      <td>negative</td>\n",
              "      <td>0</td>\n",
              "    </tr>\n",
              "    <tr>\n",
              "      <th>2</th>\n",
              "      <td>2021-05-30</td>\n",
              "      <td>thank municipal bigwig vocal covid denial ceme...</td>\n",
              "      <td>no thanks to the municipal bigwig whose vocal...</td>\n",
              "      <td>-0.0015</td>\n",
              "      <td>49.925</td>\n",
              "      <td>neutral</td>\n",
              "      <td>3</td>\n",
              "    </tr>\n",
              "  </tbody>\n",
              "</table>\n",
              "</div>"
            ],
            "text/plain": [
              "     Datetime  ... Topic\n",
              "0  2021-05-30  ...     0\n",
              "1  2021-05-30  ...     0\n",
              "2  2021-05-30  ...     3\n",
              "\n",
              "[3 rows x 7 columns]"
            ]
          },
          "metadata": {},
          "execution_count": 15
        }
      ]
    },
    {
      "cell_type": "code",
      "metadata": {
        "id": "wTvkQm9jo1ig"
      },
      "source": [
        "# Adding LDA topics to dataframe and saving it \n",
        "tweets_df.to_csv('/content/drive/MyDrive/Colab Notebooks/NEWYORK_COVID19_TWEETS_TOPICS.csv')"
      ],
      "execution_count": null,
      "outputs": []
    },
    {
      "cell_type": "code",
      "metadata": {
        "id": "fXjCMDWn8h1L",
        "colab": {
          "base_uri": "https://localhost:8080/",
          "height": 567
        },
        "outputId": "e11b04b2-53a6-48a5-983c-416168dc1e94"
      },
      "source": [
        "num_topics = tweets_df['Topic'].unique()\n",
        "topic_counts = tweets_df['Topic'].value_counts()\n",
        "\n",
        "plt.bar(x = num_topics, height = topic_counts, color = ['salmon', 'seagreen', 'teal', 'maroon'])\n",
        "plt.xlabel(\"Topic Number\")\n",
        "plt.ylabel(\"Count\")\n",
        "plt.title(\"Frequency of Topic Occurance Across Tweets\")\n",
        "plt.rc('figure', figsize=(15,9))\n",
        "plt.show()"
      ],
      "execution_count": null,
      "outputs": [
        {
          "output_type": "display_data",
          "data": {
            "image/png": "[encoded data removed]",
            "text/plain": [
              "<Figure size 1080x648 with 1 Axes>"
            ]
          },
          "metadata": {
            "needs_background": "light"
          }
        }
      ]
    },
    {
      "cell_type": "code",
      "metadata": {
        "id": "0x7ZYbaLCgkA"
      },
      "source": [
        "def get_topics(vectorizer, lda_model, n_words):\n",
        "    keywords = np.array(vectorizer.get_feature_names())\n",
        "    topic_keywords = []\n",
        "    for topic_weights in lda_model.components_:\n",
        "        top_keyword_locs = (-topic_weights).argsort()[:n_words]\n",
        "        topic_keywords.append(keywords.take(top_keyword_locs))\n",
        "    return topic_keywords\n",
        "\n",
        "topic_keys = get_topics(tf_vectorizer, lda_model4, 100)\n",
        "\n",
        "df_topic_keys = pd.DataFrame(topic_keys)\n",
        "df_topic_keys.columns = ['Word '+str(i) for i in range(df_topic_keys.shape[1])]\n",
        "df_topic_keys.index = ['Topic '+str(i) for i in range(df_topic_keys.shape[0])]"
      ],
      "execution_count": null,
      "outputs": []
    },
    {
      "cell_type": "code",
      "metadata": {
        "id": "ZgQvDjJGNR1I",
        "colab": {
          "base_uri": "https://localhost:8080/"
        },
        "outputId": "a47cbd00-6f6a-455c-a35c-add09c8f0cb5"
      },
      "source": [
        "# Getting top words for each topic \n",
        "Topics_theme = ['Topic1', 'Topic2', 'Topic3', 'Topic4']\n",
        "df_topic_keys['topic_theme'] = Topics_theme\n",
        "df_topic_keys.set_index('topic_theme', inplace=True)\n",
        "print(df_topic_keys.T)"
      ],
      "execution_count": null,
      "outputs": [
        {
          "output_type": "stream",
          "name": "stdout",
          "text": [
            "topic_theme           Topic1    Topic2          Topic3    Topic4\n",
            "Word 0              pandemic        nt           covid     covid\n",
            "Word 1                 covid     virus            home       new\n",
            "Word 2                  need    people         nursing      mask\n",
            "Word 3                  help     covid           death       nyc\n",
            "Word 4                  work      know    nursing home     virus\n",
            "...                      ...       ...             ...       ...\n",
            "Word 95                  law     black           write       hit\n",
            "Word 96      american people   nt want       home kill  lockdown\n",
            "Word 97             continue  covid nt          result   protest\n",
            "Word 98              provide      fake           great     study\n",
            "Word 99              instead    attack  governor cuomo        th\n",
            "\n",
            "[100 rows x 4 columns]\n"
          ]
        }
      ]
    },
    {
      "cell_type": "code",
      "metadata": {
        "id": "IDlFO48ZgOUx"
      },
      "source": [
        "df_topic_keys.T.to_csv('/content/drive/MyDrive/Colab Notebooks/TOPIC_WORDS_NY.csv')"
      ],
      "execution_count": null,
      "outputs": []
    }
  ]
}