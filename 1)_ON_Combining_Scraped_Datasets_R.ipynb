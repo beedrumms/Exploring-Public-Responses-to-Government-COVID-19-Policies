{
  "nbformat": 4,
  "nbformat_minor": 0,
  "metadata": {
    "colab": {
      "name": "1) ON - Combining Scraped Datasets-R.ipynb",
      "provenance": [],
      "collapsed_sections": [],
      "authorship_tag": "ABX9TyPAFauluUcY+Zb1ieFQxWsw",
      "include_colab_link": true
    },
    "kernelspec": {
      "name": "python3",
      "display_name": "Python 3"
    },
    "language_info": {
      "name": "python"
    }
  },
  "cells": [
    {
      "cell_type": "markdown",
      "metadata": {
        "id": "view-in-github",
        "colab_type": "text"
      },
      "source": [
        "<a href=\"https://colab.research.google.com/github/beedrumms/Exploring-Public-Responses-to-Government-COVID-19-Policies/blob/main/1)_ON_Combining_Scraped_Datasets_R.ipynb\" target=\"_parent\"><img src=\"https://colab.research.google.com/assets/colab-badge.svg\" alt=\"Open In Colab\"/></a>"
      ]
    },
    {
      "cell_type": "code",
      "metadata": {
        "id": "McB5qcPNiSl5"
      },
      "source": [
        "import re \n",
        "import string\n",
        "import pandas as pd\n",
        "import numpy as np\n",
        "from google.colab import drive, files\n",
        "import os\n",
        "from wordcloud import WordCloud\n",
        "import matplotlib.pyplot as plt\n",
        "from datetime import datetime\n",
        "import nltk\n",
        "from datetime import datetime\n",
        "\n",
        "# Mounting google colab on drive \n",
        "from google.colab import drive, files\n",
        "import os\n",
        "drive.mount(\"/content/drive\")"
      ],
      "execution_count": null,
      "outputs": []
    },
    {
      "cell_type": "markdown",
      "metadata": {
        "id": "U40LpsGxhaRo"
      },
      "source": [
        "##Ontario scraped set had far less tweets then New York so it was scraped twice and sets were combined."
      ]
    },
    {
      "cell_type": "markdown",
      "metadata": {
        "id": "qA6nTZcY56_l"
      },
      "source": [
        "####Given how data is scraped using twint, datasets will be checked for duplicates and combined"
      ]
    },
    {
      "cell_type": "code",
      "metadata": {
        "id": "Zkr4EH16iVFf"
      },
      "source": [
        "data = pd.read_csv('/content/drive/MyDrive/Colab Notebooks/covidsnscrape2.csv')\n",
        "tweets_data = data[['Datetime', 'Text']]\n",
        "tweets_data = tweets_data.drop(192335) # troublesome row\n",
        "tweets_data = tweets_data.dropna()"
      ],
      "execution_count": null,
      "outputs": []
    },
    {
      "cell_type": "code",
      "metadata": {
        "id": "-LCWjefdiaeJ"
      },
      "source": [
        "data2 = pd.read_csv('/content/drive/MyDrive/Colab Notebooks/to_ford.csv')\n",
        "data.shape, data2.shape\n",
        "data2 = data2[['date', 'tweet']]"
      ],
      "execution_count": null,
      "outputs": []
    },
    {
      "cell_type": "code",
      "metadata": {
        "id": "VgibZDobi9Nk"
      },
      "source": [
        "listone = tweets_data['Text'].tolist()\n",
        "listtwo = data2['tweet'].tolist()"
      ],
      "execution_count": null,
      "outputs": []
    },
    {
      "cell_type": "code",
      "metadata": {
        "id": "m7mjD35t9nJT"
      },
      "source": [
        "# Make sure everything is a string type\n",
        "list1 = [] \n",
        "for t in listone:\n",
        "  list1.append(str(t))\n",
        "\n",
        "list2 = []\n",
        "for t in listtwo:\n",
        "  list2.append(str(t)) "
      ],
      "execution_count": null,
      "outputs": []
    },
    {
      "cell_type": "code",
      "metadata": {
        "id": "E-rZVZ32t9vF"
      },
      "source": [
        "tweets1 = []\n",
        "for t in list1:\n",
        "  tweets1.append(t.lower())\n",
        "\n",
        "tweets_data['Text'] = tweets1\n",
        "\n",
        "tweets2 = []\n",
        "for t in list2:\n",
        "  tweets2.append(t.lower())\n",
        "\n",
        "data2['tweet'] = tweets2"
      ],
      "execution_count": null,
      "outputs": []
    },
    {
      "cell_type": "code",
      "metadata": {
        "id": "FfeKep1SICSa"
      },
      "source": [
        "date_to_string = [] \n",
        "for t in tweets_data['Datetime']: \n",
        "  date_to_string.append(str(t))\n",
        "\n",
        "import re \n",
        "convertdate = [] \n",
        "for t in date_to_string:\n",
        "  convertdate.append(re.sub('\\\\s+[0-9][0-9]:[0-9][0-9]:[0-9][0-9][+][0-9][0-9][:][0-9][0-9]','', t))\n",
        "\n",
        "tweets_data['Datetime'] = convertdate"
      ],
      "execution_count": null,
      "outputs": []
    },
    {
      "cell_type": "code",
      "metadata": {
        "colab": {
          "base_uri": "https://localhost:8080/"
        },
        "id": "F0ZMcmdf-RMW",
        "outputId": "ea9370f0-1660-41d7-9db4-827b3b40107b"
      },
      "source": [
        "# Parsing dates as the two sets have different dates \n",
        "tweets_data['Datetime'] = pd.to_datetime(tweets_data['Datetime']) # converting to datetime\n",
        "tweets_data['Datetime'] = tweets_data['Datetime'].dt.date # converting to just Year-Month-Day format \n",
        "tweets_data.Datetime.head(2), tweets_data.Datetime.tail(2)"
      ],
      "execution_count": null,
      "outputs": [
        {
          "output_type": "execute_result",
          "data": {
            "text/plain": [
              "(0    2021-05-31\n",
              " 1    2021-05-31\n",
              " Name: Datetime, dtype: object, 308523    2020-03-01\n",
              " 308524    2020-03-01\n",
              " Name: Datetime, dtype: object)"
            ]
          },
          "metadata": {},
          "execution_count": 8
        }
      ]
    },
    {
      "cell_type": "code",
      "metadata": {
        "id": "OAhjPQu3-jQ9"
      },
      "source": [
        "data2['date'] = pd.to_datetime(data2['date']) # converting to datetime\n",
        "data2['date'] = data2['date'].dt.date # converting to just Year-Month-Day format \n",
        "data2.date.head(2), data2.date.tail(2)\n",
        "data2 = data2[ :248972] # two dates fall outside the desired date range "
      ],
      "execution_count": null,
      "outputs": []
    },
    {
      "cell_type": "code",
      "metadata": {
        "id": "5foMoVOV2v_g"
      },
      "source": [
        "date1 = tweets_data['Datetime'].tolist()\n",
        "date2 = data2['date'].tolist()\n",
        "text1 = tweets_data['Text'].tolist()\n",
        "text2 = data2['tweet'].tolist()\n",
        "\n",
        "for i in date2: \n",
        "  date1.append(i)\n",
        "\n",
        "for i in text2:\n",
        "  text1.append(i)\n",
        "\n",
        "len(date1), len(text1)\n",
        "\n",
        "data_tuples = list(zip(date1, text1))\n",
        "\n",
        "df = pd.DataFrame(data_tuples, columns = ['Datetime', 'Text']) \n",
        "\n",
        "df['Text'] = df['Text'].astype(str)"
      ],
      "execution_count": null,
      "outputs": []
    },
    {
      "cell_type": "code",
      "metadata": {
        "colab": {
          "base_uri": "https://localhost:8080/"
        },
        "id": "jPdrUpewiRgm",
        "outputId": "e1c74522-1a4b-435b-99dc-6cb127e590ed"
      },
      "source": [
        "df.drop_duplicates(subset=['Text'], inplace=True)\n",
        "len(df['Text'])"
      ],
      "execution_count": null,
      "outputs": [
        {
          "output_type": "execute_result",
          "data": {
            "text/plain": [
              "421109"
            ]
          },
          "metadata": {},
          "execution_count": 16
        }
      ]
    },
    {
      "cell_type": "code",
      "metadata": {
        "id": "llxf-B8g5fXD"
      },
      "source": [
        "df.to_csv('/content/drive/MyDrive/Colab Notebooks/ONTARIOS_COVID19_TWEETS.csv')"
      ],
      "execution_count": null,
      "outputs": []
    }
  ]
}